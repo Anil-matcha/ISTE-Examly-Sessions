{
  "nbformat": 4,
  "nbformat_minor": 0,
  "metadata": {
    "colab": {
      "name": "Functional api.ipynb",
      "provenance": []
    },
    "kernelspec": {
      "name": "python3",
      "display_name": "Python 3"
    },
    "accelerator": "GPU"
  },
  "cells": [
    {
      "cell_type": "code",
      "metadata": {
        "id": "fTXP_yNZ1rxR"
      },
      "source": [
        "import numpy as np\n",
        "import matplotlib.pyplot as plt\n",
        "from tensorflow.keras.models import Sequential\n",
        "from tensorflow.keras.layers import Dense, Input\n",
        "from tensorflow.keras.layers import Dropout\n",
        "from tensorflow.keras.layers import Flatten\n",
        "from tensorflow.keras.optimizers import SGD\n",
        "from tensorflow.keras.layers import Activation\n",
        "from tensorflow.keras.layers import Conv2D, MaxPooling2D, ZeroPadding2D\n",
        "from tensorflow.keras.layers import BatchNormalization\n",
        "from tensorflow.keras.initializers import glorot_normal\n",
        "from tensorflow.keras import utils as np_utils\n",
        "from tensorflow.keras.models import Model\n",
        "from tensorflow.keras import backend as K\n",
        "\n",
        "# Import Tensorflow with multiprocessing\n",
        "import tensorflow as tf"
      ],
      "execution_count": null,
      "outputs": []
    },
    {
      "cell_type": "code",
      "metadata": {
        "id": "LzEEqSxE157C"
      },
      "source": [
        "# Loading the CIFAR-10 dataset\n",
        "\n",
        "from tensorflow.keras.datasets import cifar10\n",
        "\n",
        "# Declare variables\n",
        "\n",
        "BATCH_NORM = False\n",
        "\n",
        "batch_size = 64\n",
        "num_classes = 10\n",
        "epochs = 25\n",
        "data_augmentation = True"
      ],
      "execution_count": null,
      "outputs": []
    },
    {
      "cell_type": "code",
      "metadata": {
        "id": "_4co77Al2Hj7",
        "colab": {
          "base_uri": "https://localhost:8080/",
          "height": 104
        },
        "outputId": "cf0f2c35-6337-4b24-d25b-b6d9509ade12"
      },
      "source": [
        "(x_train, y_train), (x_test, y_test) = cifar10.load_data() # x_train - training data(images), y_train - labels(digits)\n",
        "print('x_train shape:', x_train.shape)\n",
        "print(x_train.shape[0], 'train samples')\n",
        "print(x_test.shape[0], 'test samples')"
      ],
      "execution_count": null,
      "outputs": [
        {
          "output_type": "stream",
          "text": [
            "Downloading data from https://www.cs.toronto.edu/~kriz/cifar-10-python.tar.gz\n",
            "170500096/170498071 [==============================] - 6s 0us/step\n",
            "x_train shape: (50000, 32, 32, 3)\n",
            "50000 train samples\n",
            "10000 test samples\n"
          ],
          "name": "stdout"
        }
      ]
    },
    {
      "cell_type": "code",
      "metadata": {
        "id": "lNDDajeP2Oiz"
      },
      "source": [
        "#class_names = ['airplane','automobile','bird','cat','deer',\n",
        "#               'dog','frog','horse','ship','truck']\n",
        "\n",
        "\n",
        "# Convert and pre-processing\n",
        "\n",
        "y_train = np_utils.to_categorical(y_train, num_classes)\n",
        "y_test = np_utils.to_categorical(y_test, num_classes)\n",
        "x_train = x_train.astype('float32')\n",
        "x_test = x_test.astype('float32')\n",
        "x_train  /= 255\n",
        "x_test /= 255"
      ],
      "execution_count": null,
      "outputs": []
    },
    {
      "cell_type": "markdown",
      "metadata": {
        "id": "0B-ro-bpRVQY"
      },
      "source": [
        "# Functional api"
      ]
    },
    {
      "cell_type": "code",
      "metadata": {
        "id": "2bq9-BzG2Tqs",
        "colab": {
          "base_uri": "https://localhost:8080/",
          "height": 1000
        },
        "outputId": "8bae64cc-a9b2-4fe2-c78a-8fd06023ae8d"
      },
      "source": [
        "# Define Model\n",
        "def conv_layer(filters, block_id, conv_id, input_layer):\n",
        "    x = Conv2D(filters, (3, 3), padding='same', name='block'+str(block_id)+'conv'+str(conv_id))(input_layer)\n",
        "    x = BatchNormalization()(x)\n",
        "    x = Activation('relu')(x)\n",
        "    return x\n",
        "\n",
        "def dense(num_neurons, dense_id, inp_layer, activation='relu'):  \n",
        "    x = Dense(num_neurons, name=\"fc\"+str(dense_id))(inp_layer)\n",
        "    x = BatchNormalization()(x)\n",
        "    x = Activation(activation)(x)\n",
        "    return x    \n",
        "  \n",
        "def base_model():\n",
        "    input_layer = Input(shape=(32,32,3))\n",
        "\n",
        "    x = Conv2D(64, (3, 3), padding='same', input_shape=x_train.shape[1:], name='block1_conv1')(input_layer)\n",
        "    x = BatchNormalization()(x)\n",
        "    x = Activation('relu')(x)\n",
        "\n",
        "    x = conv_layer(64, 1, 2, x)\n",
        "    \n",
        "    x = MaxPooling2D((2, 2), strides=(2, 2), name='block1_pool')(x)\n",
        "    \n",
        "    x = conv_layer(128, 2, 1, x)\n",
        "    x = conv_layer(128, 2, 2, x)    \n",
        "\n",
        "    x = MaxPooling2D((2, 2), strides=(2, 2), name='block2_pool')(x)\n",
        "\n",
        "    x = conv_layer(256, 3, 1, x)\n",
        "    x = conv_layer(256, 3, 2, x) \n",
        "    x = conv_layer(256, 3, 3, x) \n",
        "\n",
        "    x = MaxPooling2D((2, 2), strides=(2, 2), name='block3_pool')(x)\n",
        "\n",
        "    x = conv_layer(512, 4, 1, x)\n",
        "    x = conv_layer(512, 4, 2, x)\n",
        "    x = conv_layer(512, 4, 3, x)\n",
        "    \n",
        "    x = MaxPooling2D((2, 2), strides=(2, 2), name='block4_pool')(x)\n",
        "\n",
        "    x = conv_layer(512, 5, 1, x)\n",
        "    x = conv_layer(512, 5, 2, x) \n",
        "    x = conv_layer(512, 5, 3, x) \n",
        "\n",
        "    x = Flatten()(x)\n",
        "\n",
        "    x = dense(4096, 1, x)\n",
        "    \n",
        "    x = Dropout(0.5)(x)\n",
        "\n",
        "    x = dense(4096, 2, x)    \n",
        "    \n",
        "    x = Dropout(0.5)(x)\n",
        "    \n",
        "    out = dense(num_classes, 3, x, activation='softmax')\n",
        "    \n",
        "    model = Model(inputs=input_layer, outputs=out)\n",
        "    \n",
        "    return model\n",
        "\n",
        "model = base_model()\n",
        "model.summary()"
      ],
      "execution_count": null,
      "outputs": [
        {
          "output_type": "stream",
          "text": [
            "Model: \"model\"\n",
            "_________________________________________________________________\n",
            "Layer (type)                 Output Shape              Param #   \n",
            "=================================================================\n",
            "input_1 (InputLayer)         [(None, 32, 32, 3)]       0         \n",
            "_________________________________________________________________\n",
            "block1_conv1 (Conv2D)        (None, 32, 32, 64)        1792      \n",
            "_________________________________________________________________\n",
            "batch_normalization (BatchNo (None, 32, 32, 64)        256       \n",
            "_________________________________________________________________\n",
            "activation (Activation)      (None, 32, 32, 64)        0         \n",
            "_________________________________________________________________\n",
            "block1conv2 (Conv2D)         (None, 32, 32, 64)        36928     \n",
            "_________________________________________________________________\n",
            "batch_normalization_1 (Batch (None, 32, 32, 64)        256       \n",
            "_________________________________________________________________\n",
            "activation_1 (Activation)    (None, 32, 32, 64)        0         \n",
            "_________________________________________________________________\n",
            "block1_pool (MaxPooling2D)   (None, 16, 16, 64)        0         \n",
            "_________________________________________________________________\n",
            "block2conv1 (Conv2D)         (None, 16, 16, 128)       73856     \n",
            "_________________________________________________________________\n",
            "batch_normalization_2 (Batch (None, 16, 16, 128)       512       \n",
            "_________________________________________________________________\n",
            "activation_2 (Activation)    (None, 16, 16, 128)       0         \n",
            "_________________________________________________________________\n",
            "block2conv2 (Conv2D)         (None, 16, 16, 128)       147584    \n",
            "_________________________________________________________________\n",
            "batch_normalization_3 (Batch (None, 16, 16, 128)       512       \n",
            "_________________________________________________________________\n",
            "activation_3 (Activation)    (None, 16, 16, 128)       0         \n",
            "_________________________________________________________________\n",
            "block2_pool (MaxPooling2D)   (None, 8, 8, 128)         0         \n",
            "_________________________________________________________________\n",
            "block3conv1 (Conv2D)         (None, 8, 8, 256)         295168    \n",
            "_________________________________________________________________\n",
            "batch_normalization_4 (Batch (None, 8, 8, 256)         1024      \n",
            "_________________________________________________________________\n",
            "activation_4 (Activation)    (None, 8, 8, 256)         0         \n",
            "_________________________________________________________________\n",
            "block3conv2 (Conv2D)         (None, 8, 8, 256)         590080    \n",
            "_________________________________________________________________\n",
            "batch_normalization_5 (Batch (None, 8, 8, 256)         1024      \n",
            "_________________________________________________________________\n",
            "activation_5 (Activation)    (None, 8, 8, 256)         0         \n",
            "_________________________________________________________________\n",
            "block3conv3 (Conv2D)         (None, 8, 8, 256)         590080    \n",
            "_________________________________________________________________\n",
            "batch_normalization_6 (Batch (None, 8, 8, 256)         1024      \n",
            "_________________________________________________________________\n",
            "activation_6 (Activation)    (None, 8, 8, 256)         0         \n",
            "_________________________________________________________________\n",
            "block3_pool (MaxPooling2D)   (None, 4, 4, 256)         0         \n",
            "_________________________________________________________________\n",
            "block4conv1 (Conv2D)         (None, 4, 4, 512)         1180160   \n",
            "_________________________________________________________________\n",
            "batch_normalization_7 (Batch (None, 4, 4, 512)         2048      \n",
            "_________________________________________________________________\n",
            "activation_7 (Activation)    (None, 4, 4, 512)         0         \n",
            "_________________________________________________________________\n",
            "block4conv2 (Conv2D)         (None, 4, 4, 512)         2359808   \n",
            "_________________________________________________________________\n",
            "batch_normalization_8 (Batch (None, 4, 4, 512)         2048      \n",
            "_________________________________________________________________\n",
            "activation_8 (Activation)    (None, 4, 4, 512)         0         \n",
            "_________________________________________________________________\n",
            "block4conv3 (Conv2D)         (None, 4, 4, 512)         2359808   \n",
            "_________________________________________________________________\n",
            "batch_normalization_9 (Batch (None, 4, 4, 512)         2048      \n",
            "_________________________________________________________________\n",
            "activation_9 (Activation)    (None, 4, 4, 512)         0         \n",
            "_________________________________________________________________\n",
            "block4_pool (MaxPooling2D)   (None, 2, 2, 512)         0         \n",
            "_________________________________________________________________\n",
            "block5conv1 (Conv2D)         (None, 2, 2, 512)         2359808   \n",
            "_________________________________________________________________\n",
            "batch_normalization_10 (Batc (None, 2, 2, 512)         2048      \n",
            "_________________________________________________________________\n",
            "activation_10 (Activation)   (None, 2, 2, 512)         0         \n",
            "_________________________________________________________________\n",
            "block5conv2 (Conv2D)         (None, 2, 2, 512)         2359808   \n",
            "_________________________________________________________________\n",
            "batch_normalization_11 (Batc (None, 2, 2, 512)         2048      \n",
            "_________________________________________________________________\n",
            "activation_11 (Activation)   (None, 2, 2, 512)         0         \n",
            "_________________________________________________________________\n",
            "block5conv3 (Conv2D)         (None, 2, 2, 512)         2359808   \n",
            "_________________________________________________________________\n",
            "batch_normalization_12 (Batc (None, 2, 2, 512)         2048      \n",
            "_________________________________________________________________\n",
            "activation_12 (Activation)   (None, 2, 2, 512)         0         \n",
            "_________________________________________________________________\n",
            "flatten (Flatten)            (None, 2048)              0         \n",
            "_________________________________________________________________\n",
            "fc1 (Dense)                  (None, 4096)              8392704   \n",
            "_________________________________________________________________\n",
            "batch_normalization_13 (Batc (None, 4096)              16384     \n",
            "_________________________________________________________________\n",
            "activation_13 (Activation)   (None, 4096)              0         \n",
            "_________________________________________________________________\n",
            "dropout (Dropout)            (None, 4096)              0         \n",
            "_________________________________________________________________\n",
            "fc2 (Dense)                  (None, 4096)              16781312  \n",
            "_________________________________________________________________\n",
            "batch_normalization_14 (Batc (None, 4096)              16384     \n",
            "_________________________________________________________________\n",
            "activation_14 (Activation)   (None, 4096)              0         \n",
            "_________________________________________________________________\n",
            "dropout_1 (Dropout)          (None, 4096)              0         \n",
            "_________________________________________________________________\n",
            "fc3 (Dense)                  (None, 10)                40970     \n",
            "_________________________________________________________________\n",
            "batch_normalization_15 (Batc (None, 10)                40        \n",
            "_________________________________________________________________\n",
            "activation_15 (Activation)   (None, 10)                0         \n",
            "=================================================================\n",
            "Total params: 39,979,378\n",
            "Trainable params: 39,954,526\n",
            "Non-trainable params: 24,852\n",
            "_________________________________________________________________\n"
          ],
          "name": "stdout"
        }
      ]
    },
    {
      "cell_type": "code",
      "metadata": {
        "id": "RgyWNFS87nwP"
      },
      "source": [
        "sgd = SGD(lr=0.0005, decay=0, nesterov=True)\n",
        "\n",
        "model.compile(loss='categorical_crossentropy', optimizer='adam', metrics=['accuracy'])"
      ],
      "execution_count": null,
      "outputs": []
    },
    {
      "cell_type": "code",
      "metadata": {
        "id": "AJ7vXprY2trx",
        "colab": {
          "base_uri": "https://localhost:8080/",
          "height": 901
        },
        "outputId": "1a38d286-ac48-4602-8e79-fdf96e5768c6"
      },
      "source": [
        "model.fit(x_train, y_train, batch_size=batch_size, epochs=epochs, validation_data=(x_test,y_test), shuffle=True)"
      ],
      "execution_count": null,
      "outputs": [
        {
          "output_type": "stream",
          "text": [
            "Epoch 1/25\n",
            "782/782 [==============================] - 25s 32ms/step - loss: 1.4420 - accuracy: 0.4865 - val_loss: 2.3225 - val_accuracy: 0.3298\n",
            "Epoch 2/25\n",
            "782/782 [==============================] - 24s 31ms/step - loss: 0.9488 - accuracy: 0.6869 - val_loss: 0.9010 - val_accuracy: 0.7059\n",
            "Epoch 3/25\n",
            "782/782 [==============================] - 24s 31ms/step - loss: 0.7538 - accuracy: 0.7598 - val_loss: 0.9178 - val_accuracy: 0.7142\n",
            "Epoch 4/25\n",
            "782/782 [==============================] - 24s 31ms/step - loss: 0.6296 - accuracy: 0.8013 - val_loss: 0.7807 - val_accuracy: 0.7448\n",
            "Epoch 5/25\n",
            "782/782 [==============================] - 24s 31ms/step - loss: 0.5293 - accuracy: 0.8349 - val_loss: 1.1317 - val_accuracy: 0.6701\n",
            "Epoch 6/25\n",
            "782/782 [==============================] - 24s 31ms/step - loss: 0.4494 - accuracy: 0.8609 - val_loss: 0.8238 - val_accuracy: 0.7540\n",
            "Epoch 7/25\n",
            "782/782 [==============================] - 24s 31ms/step - loss: 0.3846 - accuracy: 0.8823 - val_loss: 0.8596 - val_accuracy: 0.7321\n",
            "Epoch 8/25\n",
            "782/782 [==============================] - 24s 31ms/step - loss: 0.3237 - accuracy: 0.9007 - val_loss: 0.6933 - val_accuracy: 0.7974\n",
            "Epoch 9/25\n",
            "782/782 [==============================] - 24s 31ms/step - loss: 0.2714 - accuracy: 0.9175 - val_loss: 0.7748 - val_accuracy: 0.7711\n",
            "Epoch 10/25\n",
            "782/782 [==============================] - 24s 31ms/step - loss: 0.2227 - accuracy: 0.9343 - val_loss: 0.6837 - val_accuracy: 0.8068\n",
            "Epoch 11/25\n",
            "782/782 [==============================] - 24s 31ms/step - loss: 0.1876 - accuracy: 0.9447 - val_loss: 0.6092 - val_accuracy: 0.8252\n",
            "Epoch 12/25\n",
            "782/782 [==============================] - 24s 31ms/step - loss: 0.1522 - accuracy: 0.9550 - val_loss: 0.6452 - val_accuracy: 0.8242\n",
            "Epoch 13/25\n",
            "782/782 [==============================] - 24s 31ms/step - loss: 0.1356 - accuracy: 0.9605 - val_loss: 0.9364 - val_accuracy: 0.7770\n",
            "Epoch 14/25\n",
            "782/782 [==============================] - 24s 31ms/step - loss: 0.1111 - accuracy: 0.9678 - val_loss: 0.6743 - val_accuracy: 0.8250\n",
            "Epoch 15/25\n",
            "782/782 [==============================] - 24s 31ms/step - loss: 0.0966 - accuracy: 0.9719 - val_loss: 0.6283 - val_accuracy: 0.8341\n",
            "Epoch 16/25\n",
            "782/782 [==============================] - 24s 31ms/step - loss: 0.0893 - accuracy: 0.9743 - val_loss: 0.6457 - val_accuracy: 0.8390\n",
            "Epoch 17/25\n",
            "782/782 [==============================] - 24s 31ms/step - loss: 0.0792 - accuracy: 0.9767 - val_loss: 0.6743 - val_accuracy: 0.8366\n",
            "Epoch 18/25\n",
            "782/782 [==============================] - 24s 31ms/step - loss: 0.0704 - accuracy: 0.9796 - val_loss: 0.7582 - val_accuracy: 0.8234\n",
            "Epoch 19/25\n",
            "782/782 [==============================] - 24s 31ms/step - loss: 0.0680 - accuracy: 0.9806 - val_loss: 0.7406 - val_accuracy: 0.8259\n",
            "Epoch 20/25\n",
            "782/782 [==============================] - 24s 31ms/step - loss: 0.0578 - accuracy: 0.9835 - val_loss: 0.7476 - val_accuracy: 0.8250\n",
            "Epoch 21/25\n",
            "782/782 [==============================] - 24s 31ms/step - loss: 0.0546 - accuracy: 0.9840 - val_loss: 0.8463 - val_accuracy: 0.8180\n",
            "Epoch 22/25\n",
            "782/782 [==============================] - 24s 31ms/step - loss: 0.0493 - accuracy: 0.9855 - val_loss: 0.7203 - val_accuracy: 0.8376\n",
            "Epoch 23/25\n",
            "782/782 [==============================] - 24s 31ms/step - loss: 0.0528 - accuracy: 0.9848 - val_loss: 0.7390 - val_accuracy: 0.8301\n",
            "Epoch 24/25\n",
            "782/782 [==============================] - 24s 31ms/step - loss: 0.0473 - accuracy: 0.9863 - val_loss: 0.7418 - val_accuracy: 0.8398\n",
            "Epoch 25/25\n",
            "782/782 [==============================] - 24s 31ms/step - loss: 0.0425 - accuracy: 0.9881 - val_loss: 0.8713 - val_accuracy: 0.8220\n"
          ],
          "name": "stdout"
        },
        {
          "output_type": "execute_result",
          "data": {
            "text/plain": [
              "<tensorflow.python.keras.callbacks.History at 0x7fac701e1588>"
            ]
          },
          "metadata": {
            "tags": []
          },
          "execution_count": 11
        }
      ]
    },
    {
      "cell_type": "code",
      "metadata": {
        "id": "Pv4c4LQk-jXo",
        "colab": {
          "base_uri": "https://localhost:8080/",
          "height": 855
        },
        "outputId": "98bf536a-5a83-4bfd-d19b-b7488d8b6117"
      },
      "source": [
        "\n",
        "\n",
        "# Confusion matrix result\n",
        "\n",
        "from sklearn.metrics import classification_report, confusion_matrix\n",
        "Y_pred = model.predict(x_test, verbose=2)\n",
        "y_pred = np.argmax(Y_pred, axis=1)\n",
        "\n",
        "for ix in range(10):\n",
        "    print(ix, confusion_matrix(np.argmax(y_test,axis=1),y_pred)[ix].sum())\n",
        "cm = confusion_matrix(np.argmax(y_test,axis=1),y_pred)\n",
        "print(cm)\n",
        "\n",
        "# Visualizing of confusion matrix\n",
        "import seaborn as sn\n",
        "import pandas  as pd\n",
        "\n",
        "\n",
        "df_cm = pd.DataFrame(cm, range(10),\n",
        "                  range(10))\n",
        "plt.figure(figsize = (10,7))\n",
        "sn.set(font_scale=1.4)#for label size\n",
        "sn.heatmap(df_cm, annot=True,annot_kws={\"size\": 12})# font size\n",
        "plt.show()"
      ],
      "execution_count": null,
      "outputs": [
        {
          "output_type": "stream",
          "text": [
            "313/313 - 2s\n",
            "0 1000\n",
            "1 1000\n",
            "2 1000\n",
            "3 1000\n",
            "4 1000\n",
            "5 1000\n",
            "6 1000\n",
            "7 1000\n",
            "8 1000\n",
            "9 1000\n",
            "[[874   3   5  17   3   1   0   2  43  52]\n",
            " [  9 851   0   2   1   0   0   0   8 129]\n",
            " [ 94   5 680  61  71  32  15  16  13  13]\n",
            " [ 15   3  19 785  38  82   9  15  14  20]\n",
            " [ 23   1  15  63 839  15   3  26   4  11]\n",
            " [ 10   7  21 127  24 774   3  22   3   9]\n",
            " [ 15  11  13 115  44  20 698   3  46  35]\n",
            " [ 14   3   7  41  30  22   1 856   4  22]\n",
            " [ 51  13   0   9   0   0   1   1 896  29]\n",
            " [  7  12   0   5   0   0   0   0   9 967]]\n"
          ],
          "name": "stdout"
        },
        {
          "output_type": "stream",
          "text": [
            "/usr/local/lib/python3.6/dist-packages/statsmodels/tools/_testing.py:19: FutureWarning: pandas.util.testing is deprecated. Use the functions in the public API at pandas.testing instead.\n",
            "  import pandas.util.testing as tm\n"
          ],
          "name": "stderr"
        },
        {
          "output_type": "display_data",
          "data": {
            "image/png": "[encoded data removed]",
            "text/plain": [
              "<Figure size 720x504 with 2 Axes>"
            ]
          },
          "metadata": {
            "tags": [],
            "needs_background": "light"
          }
        }
      ]
    }
  ]
}