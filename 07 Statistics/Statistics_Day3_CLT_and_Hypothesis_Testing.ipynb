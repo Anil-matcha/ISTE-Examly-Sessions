{
  "nbformat": 4,
  "nbformat_minor": 0,
  "metadata": {
    "colab": {
      "name": "Statistics Day3: CLT and Hypothesis Testing.ipynb",
      "provenance": [],
      "collapsed_sections": []
    },
    "kernelspec": {
      "name": "python3",
      "display_name": "Python 3"
    }
  },
  "cells": [
    {
      "cell_type": "markdown",
      "metadata": {
        "id": "sMrCA4a-QdJ7"
      },
      "source": [
        "### Loading CARS93 and HR Datasets into pandas Dataframe:"
      ]
    },
    {
      "cell_type": "code",
      "metadata": {
        "colab": {
          "base_uri": "https://localhost:8080/"
        },
        "id": "rXFyFjq1PD-3",
        "outputId": "cba6b99a-fc71-4ceb-d793-773330e152c6"
      },
      "source": [
        "from google.colab import drive\n",
        "drive.mount('/content/drive')"
      ],
      "execution_count": null,
      "outputs": [
        {
          "output_type": "stream",
          "text": [
            "Drive already mounted at /content/drive; to attempt to forcibly remount, call drive.mount(\"/content/drive\", force_remount=True).\n"
          ],
          "name": "stdout"
        }
      ]
    },
    {
      "cell_type": "code",
      "metadata": {
        "colab": {
          "base_uri": "https://localhost:8080/",
          "height": 204
        },
        "id": "_EDhnIKJPE-C",
        "outputId": "7f41d412-cc0f-4e3f-a57f-3eb56e1bc8c3"
      },
      "source": [
        "import pandas as pd\n",
        "import numpy as np\n",
        "\n",
        "\n",
        "# reading data into dataframe\n",
        "cars_df = pd.read_csv('/content/drive/MyDrive/DataScience/cars93.csv')\n",
        "\n",
        "# printing top 5 rows\n",
        "cars_df.head()"
      ],
      "execution_count": null,
      "outputs": [
        {
          "output_type": "execute_result",
          "data": {
            "text/html": [
              "<div>\n",
              "<style scoped>\n",
              "    .dataframe tbody tr th:only-of-type {\n",
              "        vertical-align: middle;\n",
              "    }\n",
              "\n",
              "    .dataframe tbody tr th {\n",
              "        vertical-align: top;\n",
              "    }\n",
              "\n",
              "    .dataframe thead th {\n",
              "        text-align: right;\n",
              "    }\n",
              "</style>\n",
              "<table border=\"1\" class=\"dataframe\">\n",
              "  <thead>\n",
              "    <tr style=\"text-align: right;\">\n",
              "      <th></th>\n",
              "      <th>Manufacturer</th>\n",
              "      <th>Model</th>\n",
              "      <th>Type</th>\n",
              "      <th>Price</th>\n",
              "      <th>MPG.city</th>\n",
              "      <th>AirBags</th>\n",
              "      <th>Horsepower</th>\n",
              "      <th>Passengers</th>\n",
              "      <th>Rear.seat.room</th>\n",
              "      <th>Luggage.room</th>\n",
              "    </tr>\n",
              "  </thead>\n",
              "  <tbody>\n",
              "    <tr>\n",
              "      <th>0</th>\n",
              "      <td>Acura</td>\n",
              "      <td>Integra</td>\n",
              "      <td>Small</td>\n",
              "      <td>3259500</td>\n",
              "      <td>25</td>\n",
              "      <td>Driver only</td>\n",
              "      <td>140</td>\n",
              "      <td>5</td>\n",
              "      <td>26.5</td>\n",
              "      <td>11.0</td>\n",
              "    </tr>\n",
              "    <tr>\n",
              "      <th>1</th>\n",
              "      <td>Acura</td>\n",
              "      <td>Legend</td>\n",
              "      <td>Midsize</td>\n",
              "      <td>6949500</td>\n",
              "      <td>18</td>\n",
              "      <td>Driver &amp; Passenger</td>\n",
              "      <td>200</td>\n",
              "      <td>5</td>\n",
              "      <td>30.0</td>\n",
              "      <td>15.0</td>\n",
              "    </tr>\n",
              "    <tr>\n",
              "      <th>2</th>\n",
              "      <td>Audi</td>\n",
              "      <td>90</td>\n",
              "      <td>Compact</td>\n",
              "      <td>5965500</td>\n",
              "      <td>20</td>\n",
              "      <td>Driver only</td>\n",
              "      <td>172</td>\n",
              "      <td>5</td>\n",
              "      <td>28.0</td>\n",
              "      <td>14.0</td>\n",
              "    </tr>\n",
              "    <tr>\n",
              "      <th>3</th>\n",
              "      <td>Audi</td>\n",
              "      <td>100</td>\n",
              "      <td>Midsize</td>\n",
              "      <td>7728500</td>\n",
              "      <td>19</td>\n",
              "      <td>Driver &amp; Passenger</td>\n",
              "      <td>172</td>\n",
              "      <td>6</td>\n",
              "      <td>31.0</td>\n",
              "      <td>17.0</td>\n",
              "    </tr>\n",
              "    <tr>\n",
              "      <th>4</th>\n",
              "      <td>BMW</td>\n",
              "      <td>535i</td>\n",
              "      <td>Midsize</td>\n",
              "      <td>6150000</td>\n",
              "      <td>22</td>\n",
              "      <td>Driver only</td>\n",
              "      <td>208</td>\n",
              "      <td>4</td>\n",
              "      <td>27.0</td>\n",
              "      <td>13.0</td>\n",
              "    </tr>\n",
              "  </tbody>\n",
              "</table>\n",
              "</div>"
            ],
            "text/plain": [
              "  Manufacturer    Model     Type  ...  Passengers  Rear.seat.room Luggage.room\n",
              "0        Acura  Integra    Small  ...           5            26.5         11.0\n",
              "1        Acura   Legend  Midsize  ...           5            30.0         15.0\n",
              "2         Audi       90  Compact  ...           5            28.0         14.0\n",
              "3         Audi      100  Midsize  ...           6            31.0         17.0\n",
              "4          BMW     535i  Midsize  ...           4            27.0         13.0\n",
              "\n",
              "[5 rows x 10 columns]"
            ]
          },
          "metadata": {
            "tags": []
          },
          "execution_count": 2
        }
      ]
    },
    {
      "cell_type": "code",
      "metadata": {
        "colab": {
          "base_uri": "https://localhost:8080/",
          "height": 391
        },
        "id": "bIQFCgoHxEHm",
        "outputId": "fdcdb7c8-4840-4e14-9ad3-d515d84a8248"
      },
      "source": [
        "cars_df['MPG.city'].hist(figsize = (10,6), bins = 10)\t"
      ],
      "execution_count": null,
      "outputs": [
        {
          "output_type": "execute_result",
          "data": {
            "text/plain": [
              "<matplotlib.axes._subplots.AxesSubplot at 0x7f1415d43358>"
            ]
          },
          "metadata": {
            "tags": []
          },
          "execution_count": 3
        },
        {
          "output_type": "display_data",
          "data": {
            "image/png": "[encoded data removed]",
            "text/plain": [
              "<Figure size 720x432 with 1 Axes>"
            ]
          },
          "metadata": {
            "tags": [],
            "needs_background": "light"
          }
        }
      ]
    },
    {
      "cell_type": "markdown",
      "metadata": {
        "id": "U6d63c7Txppm"
      },
      "source": [
        "## Central Limit Theorem"
      ]
    },
    {
      "cell_type": "code",
      "metadata": {
        "id": "qlOTCf_Gxe8W",
        "colab": {
          "base_uri": "https://localhost:8080/"
        },
        "outputId": "f6511e6e-5e5c-4acf-8757-f88641186b07"
      },
      "source": [
        "sampling_distribution = []\n",
        "for i in range(500):\n",
        "  # generate 50 integers indexes between 0:len(series)\n",
        "  sample_ind = np.random.randint(0,len(cars_df['MPG.city']), 50)\n",
        "\n",
        "  # extract sample of size 50 using indexes generated in prev step\n",
        "  sample = cars_df['MPG.city'][sample_ind]\n",
        "  \n",
        "  # calculate sample mean\n",
        "  sample_mean = sample.mean()\n",
        "\n",
        "  #add sample mean to sampling distribution \n",
        "  sampling_distribution.append(sample_mean)\n",
        "\n",
        "print(sampling_distribution)"
      ],
      "execution_count": null,
      "outputs": [
        {
          "output_type": "stream",
          "text": [
            "[21.72, 21.16, 22.68, 23.14, 21.52, 22.0, 22.2, 21.74, 22.7, 22.86, 23.1, 21.48, 21.42, 21.98, 21.7, 21.2, 23.24, 22.3, 22.24, 21.3, 22.66, 22.44, 22.84, 22.16, 23.06, 21.36, 20.72, 23.12, 22.44, 24.02, 21.78, 23.56, 22.88, 22.18, 21.9, 21.9, 23.18, 20.8, 24.08, 22.44, 23.1, 21.24, 21.58, 23.48, 21.0, 21.68, 21.84, 22.14, 22.7, 22.28, 21.44, 22.56, 24.04, 23.56, 21.58, 21.5, 23.26, 23.02, 20.86, 21.72, 21.42, 22.02, 24.38, 22.12, 23.42, 22.14, 23.18, 23.76, 22.94, 22.32, 22.76, 22.98, 22.42, 23.3, 21.58, 21.92, 22.16, 22.52, 23.78, 21.98, 22.92, 23.9, 22.08, 22.18, 22.42, 21.86, 23.9, 21.84, 22.62, 21.08, 22.42, 21.18, 23.22, 23.92, 22.08, 21.0, 21.76, 22.24, 21.88, 21.92, 22.54, 21.4, 22.22, 23.1, 21.74, 22.72, 23.2, 22.62, 22.48, 22.06, 22.22, 22.18, 21.54, 22.46, 21.48, 22.04, 21.24, 21.6, 23.04, 22.7, 22.16, 22.18, 22.18, 21.9, 23.26, 22.46, 21.32, 21.5, 22.98, 22.68, 21.88, 21.18, 20.94, 23.36, 22.38, 21.1, 22.7, 21.88, 22.32, 22.78, 23.32, 21.58, 23.16, 22.14, 22.06, 22.72, 21.88, 21.98, 22.28, 21.08, 23.32, 23.38, 22.78, 23.64, 21.16, 23.22, 22.72, 22.68, 21.74, 22.88, 23.1, 23.32, 23.18, 23.98, 21.92, 21.22, 22.76, 22.76, 22.08, 22.54, 21.52, 21.78, 21.54, 21.8, 22.9, 22.2, 24.3, 21.78, 22.42, 22.18, 21.84, 21.86, 23.6, 22.26, 23.02, 21.58, 22.66, 21.98, 22.34, 22.44, 21.88, 21.2, 22.64, 21.58, 21.98, 21.0, 20.78, 22.28, 21.28, 23.36, 21.98, 22.32, 22.34, 21.32, 23.28, 22.9, 23.02, 21.44, 23.64, 22.46, 22.7, 21.52, 21.9, 23.3, 21.58, 21.92, 23.28, 23.1, 22.08, 21.5, 22.0, 21.52, 22.32, 22.28, 22.98, 22.74, 22.44, 21.64, 22.42, 21.98, 22.72, 22.28, 23.48, 21.02, 22.24, 22.26, 21.92, 21.54, 23.72, 22.92, 22.08, 22.7, 22.46, 21.82, 23.24, 21.0, 22.9, 22.38, 23.04, 22.82, 22.64, 21.9, 21.74, 23.12, 21.62, 21.96, 22.4, 21.52, 21.6, 22.52, 22.82, 22.38, 22.04, 23.88, 22.4, 21.72, 22.28, 23.0, 22.72, 22.9, 21.54, 22.44, 21.7, 22.22, 21.7, 22.0, 22.5, 21.4, 22.42, 20.7, 22.06, 24.1, 22.54, 22.28, 23.36, 21.38, 22.28, 21.48, 22.4, 21.52, 23.08, 21.7, 23.06, 21.16, 21.9, 22.04, 22.6, 22.98, 21.56, 22.24, 23.94, 22.8, 22.68, 21.86, 21.48, 21.68, 21.6, 20.86, 23.56, 21.76, 22.16, 21.96, 21.2, 22.14, 21.22, 21.9, 23.14, 19.86, 22.42, 23.66, 21.48, 23.74, 22.28, 22.2, 22.76, 21.66, 22.16, 23.16, 23.3, 23.04, 22.96, 22.38, 22.16, 22.06, 22.52, 21.98, 24.72, 23.36, 21.98, 22.18, 22.58, 23.0, 21.82, 23.42, 22.02, 22.02, 23.3, 21.24, 22.58, 20.92, 22.88, 23.48, 22.48, 22.72, 21.84, 23.08, 22.84, 22.26, 21.14, 21.88, 22.96, 22.38, 22.26, 21.36, 21.76, 22.4, 22.48, 21.92, 22.28, 21.44, 22.24, 21.82, 22.94, 21.1, 22.26, 23.0, 22.44, 22.76, 21.48, 22.18, 21.18, 22.5, 21.22, 22.54, 21.18, 21.86, 22.36, 22.6, 22.62, 23.38, 21.78, 22.94, 20.38, 21.88, 21.6, 21.14, 22.32, 21.86, 21.86, 22.58, 21.3, 22.9, 21.62, 21.64, 22.16, 22.34, 21.92, 21.9, 22.28, 23.4, 24.18, 24.14, 22.24, 21.4, 21.14, 22.84, 22.0, 21.88, 22.22, 21.48, 22.92, 21.2, 22.48, 21.18, 24.16, 22.7, 22.48, 21.64, 22.62, 21.68, 23.36, 20.74, 21.96, 23.52, 22.92, 21.84, 22.6, 22.92, 23.3, 22.36, 20.96, 22.62, 22.34, 21.56, 23.22, 22.34, 22.28, 23.04, 21.86, 23.7, 22.54, 22.52, 22.76, 22.52, 22.08, 21.56, 22.78, 21.8, 21.68, 22.48, 24.32, 22.06, 22.4, 21.06, 22.46, 22.8, 21.26, 22.26, 22.6, 22.58, 21.76, 21.86, 23.7, 21.46, 23.86, 22.1, 23.86, 22.2, 23.26, 21.1, 22.72, 22.18, 23.16, 21.72, 22.6, 22.32, 22.36, 22.44, 21.52, 21.5, 22.82, 23.08, 22.98, 21.98, 22.54, 22.68, 22.62, 22.92, 22.4, 22.4]\n"
          ],
          "name": "stdout"
        }
      ]
    },
    {
      "cell_type": "code",
      "metadata": {
        "colab": {
          "base_uri": "https://localhost:8080/",
          "height": 391
        },
        "id": "WN1Te3f6x2yP",
        "outputId": "d133a620-26f9-4fa7-fb39-3921288b7c1e"
      },
      "source": [
        "pd.Series(sampling_distribution).hist(figsize = (10,6), bins = 10)"
      ],
      "execution_count": null,
      "outputs": [
        {
          "output_type": "execute_result",
          "data": {
            "text/plain": [
              "<matplotlib.axes._subplots.AxesSubplot at 0x7f1415c7b278>"
            ]
          },
          "metadata": {
            "tags": []
          },
          "execution_count": 5
        },
        {
          "output_type": "display_data",
          "data": {
            "image/png": "[encoded data removed]",
            "text/plain": [
              "<Figure size 720x432 with 1 Axes>"
            ]
          },
          "metadata": {
            "tags": [],
            "needs_background": "light"
          }
        }
      ]
    },
    {
      "cell_type": "markdown",
      "metadata": {
        "id": "CkUU8aQj2Bt9"
      },
      "source": [
        "We can observe thst sampling distribution is following Bell Curve"
      ]
    },
    {
      "cell_type": "markdown",
      "metadata": {
        "id": "sreHGIuR17o3"
      },
      "source": [
        "**The Central Limit Theorem** states that the sampling distribution of the sample means approaches a normal distribution as the sample size gets larger - no matter what the shape of the population distribution. ​"
      ]
    },
    {
      "cell_type": "code",
      "metadata": {
        "id": "ypR-VjDwx5V3"
      },
      "source": [
        ""
      ],
      "execution_count": null,
      "outputs": []
    },
    {
      "cell_type": "markdown",
      "metadata": {
        "id": "QCKQqHhf2KZK"
      },
      "source": [
        "## Section 2 Hypothesis Testing"
      ]
    },
    {
      "cell_type": "markdown",
      "metadata": {
        "id": "Gm5xWLUC5fv_"
      },
      "source": [
        "\n",
        "Step 0: Define problem Objective\n",
        "\n",
        "Step 1: Specify the Null Hypothesis.​\n",
        "\n",
        "Step 2: Specify the Alternative Hypothesis.​\n",
        "\n",
        "Step 3: Set the Significance Level ​\n",
        "\n",
        "Step 4: Calculate the Test Statistic and Corresponding P-Value.​\n",
        "\n",
        "Step 5: Drawing a Conclusion."
      ]
    },
    {
      "cell_type": "markdown",
      "metadata": {
        "id": "1bQVf7aN6GRR"
      },
      "source": [
        "\n",
        "\n",
        "### Step 0: Define problem Objective:\n",
        "\n",
        "`Exercising does not affect weight`\n",
        "\n",
        "This statement is my Hypothesis. Let’s call it Null hypothesisfor now. For now, it is the status quo as in we consider it to be true\n",
        "\n",
        "### Step 1 and 2: Specify Null and Alternate Hypothesis:\n",
        "\n",
        "Hº: Exercising does not affect weight. Or equivalently 𝜇 = 0\n",
        "\n",
        "Hᴬ: Exercise does reduce weight. Or equivalently 𝜇>0"
      ]
    },
    {
      "cell_type": "markdown",
      "metadata": {
        "id": "4fPVU_rr6K0v"
      },
      "source": [
        "We collect weight loss data for a sample of 30 people who regularly exercise for over 3 months.\n",
        "\n",
        "- WeightLoss Sample Mean = 2 kg\n",
        "- Sample Standard Deviation = 1 kg"
      ]
    },
    {
      "cell_type": "markdown",
      "metadata": {
        "id": "byIg1IH46a88"
      },
      "source": [
        "Does this prove that exercise does reduce weight? Infact, it sort of looks like that exercising does have its benefits as people who exercise have lost on an average 2 kgs."
      ]
    },
    {
      "cell_type": "markdown",
      "metadata": {
        "id": "kw1UXeZb7TRK"
      },
      "source": [
        "### Step 3: Set the Significance Level ​\n",
        "\n",
        "Assuming that the null hypothesis is true, what is the probability of observing a sample mean of 2 kg or more extreme than 2 kg?\n",
        "\n",
        " - Assuming we can calculate this — If this probability value is meagre (lesser than a threshold value), we reject our null hypothesis. And otherwise, we fail to reject our null hypothesis. Why fail to reject and not accept? I will answer this later.\n",
        "\n",
        "- This probability value is actually the p-value. Simply, it is just the probability of observing what we observed or extreme results if we assume our null hypothesis to be true.\n",
        "\n",
        "- The statisticians call the threshold as the significance level(𝜶), and in most of the cases, 𝜶 is taken to be 0.05.\n",
        "\n"
      ]
    },
    {
      "cell_type": "markdown",
      "metadata": {
        "id": "_YJQEq-t75es"
      },
      "source": [
        "*As we already know, the central limit theorem states that if you have a population with mean μ and standard deviation σ, and take random samples from the population, then the distribution of the sample means will be approximately normally distributed with mean as the population mean and standard deviation σ/√n (Where σ is the standard deviation of the sample and n is the number of observations in the sample)*"
      ]
    },
    {
      "cell_type": "markdown",
      "metadata": {
        "id": "aXiWLSXA8Ypy"
      },
      "source": [
        "### Step 4: Calculate the Test Statistic and Corresponding P-Value.​\n",
        "\n",
        "Now we can use any statistical software/library to find the area under the curve:\n",
        "\n"
      ]
    },
    {
      "cell_type": "code",
      "metadata": {
        "colab": {
          "base_uri": "https://localhost:8080/"
        },
        "id": "c9zrKeGR2OQV",
        "outputId": "02c0bfb0-3911-43cd-9042-cce696258f69"
      },
      "source": [
        "from scipy.stats import norm\n",
        "import numpy as np\n",
        "\n",
        "p = 1-norm.cdf(x = 2, loc = 0, scale = 1/np.sqrt(30))\n",
        "print(p)"
      ],
      "execution_count": null,
      "outputs": [
        {
          "output_type": "stream",
          "text": [
            "0.0\n"
          ],
          "name": "stdout"
        }
      ]
    },
    {
      "cell_type": "markdown",
      "metadata": {
        "id": "wCVn7kkA83Bm"
      },
      "source": [
        "### Step 5: Drawing the Conclusion\n",
        "As such, this is a very small probability p-value ( less than the significance level of 0.05) for the mean of a sample to take a value of 2 or more.\n",
        "\n",
        "And so we can reject our Null hypothesis. And we can call our results statistically significant as in they don’t just occur due to mere chance"
      ]
    },
    {
      "cell_type": "code",
      "metadata": {
        "id": "fxYZ-Ibn8cKQ"
      },
      "source": [
        ""
      ],
      "execution_count": null,
      "outputs": []
    }
  ]
}