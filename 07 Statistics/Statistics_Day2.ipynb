{
  "nbformat": 4,
  "nbformat_minor": 0,
  "metadata": {
    "colab": {
      "name": "Statistics Day2.ipynb",
      "provenance": [],
      "collapsed_sections": []
    },
    "kernelspec": {
      "name": "python3",
      "display_name": "Python 3"
    }
  },
  "cells": [
    {
      "cell_type": "markdown",
      "metadata": {
        "id": "vstV3IVrSpj3"
      },
      "source": [
        "Q1: Calculate variance, standard Deviation and IQR of Salary of Employees in HR and Marketing Department. \n",
        "\n",
        "Q2: What is the range of Experience in IT department?\n",
        "\n",
        "Q3: Create a boxplot to display Experience of Each Department.\n",
        "\n",
        "Q4: Which Features has highest Standard Deviation in the Dataset?\n",
        "\n",
        "Q5 Calculate covariance between MPG and Horsepower of Vehicles from Car93 Dataset.\n",
        "\n",
        "Q6. Find the top 5 pair of Features having Highest correlation in Cars93 Dataset\n",
        "\n",
        "Q7: Draw Scatterplot for the 5 pairs selected in previous Question."
      ]
    },
    {
      "cell_type": "code",
      "metadata": {
        "id": "UswY-H6mTPiK"
      },
      "source": [
        ""
      ],
      "execution_count": null,
      "outputs": []
    }
  ]
}
