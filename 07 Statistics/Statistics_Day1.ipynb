{
  "nbformat": 4,
  "nbformat_minor": 0,
  "metadata": {
    "colab": {
      "name": "Statistics-Day1.ipynb",
      "provenance": [],
      "collapsed_sections": []
    },
    "kernelspec": {
      "name": "python3",
      "display_name": "Python 3"
    }
  },
  "cells": [
    {
      "cell_type": "markdown",
      "metadata": {
        "id": "qdUhjP62IXEl"
      },
      "source": [
        "\n",
        "Q1. What’s the difference between a statistic and a parameter?\n",
        "\n",
        "Q2. Why are samples used in research?\n",
        "\n",
        "Q3. What’s the difference between descriptive and inferential statistics?\n",
        "\n",
        "Q4. Give an example of usage of each type of Sampling technique discussed?\n",
        "\n",
        "Q5: Download and load the following csv into Pandas DataFrame:\n",
        "Employee-HR.csv\n",
        "\n",
        "Q6: Given the dataframe loaded in previous question, you are supposed to predict Employee Churn. Identify the dependent Variable and Independent Variables based on the given objective.\n",
        "\n",
        "Q7 Classify the independent variables into continious and discrete category.\n",
        "\n",
        "Q8 Identify Categorical Variables and divide them into Ordinal and Nominal Categories.\n",
        "\n",
        "Q9: Calculate and compare the mean, median and Mode for `number of projects` as well as `time_spent_in_company` Variables for employees working in 'Sales' and 'Technical' departments. \n",
        "\n",
        "Q10: Plot histogram of Salary Distribution to display and compare data distribution for 'Sales' and 'Technical' departments. "
      ]
    },
    {
      "cell_type": "code",
      "metadata": {
        "id": "IrP442qUI3JO"
      },
      "source": [
        ""
      ],
      "execution_count": null,
      "outputs": []
    }
  ]
}