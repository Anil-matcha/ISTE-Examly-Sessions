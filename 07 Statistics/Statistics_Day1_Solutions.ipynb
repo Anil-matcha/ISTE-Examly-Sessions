{
  "nbformat": 4,
  "nbformat_minor": 0,
  "metadata": {
    "colab": {
      "name": "Statistics-Day1 Solutions.ipynb",
      "provenance": [],
      "collapsed_sections": []
    },
    "kernelspec": {
      "name": "python3",
      "display_name": "Python 3"
    }
  },
  "cells": [
    {
      "cell_type": "code",
      "metadata": {
        "id": "uJPCGdlwx7B2",
        "colab": {
          "base_uri": "https://localhost:8080/"
        },
        "outputId": "bcbfbf2c-8639-4f30-d4c9-e5c6f1e9a418"
      },
      "source": [
        "from google.colab import drive\n",
        "drive.mount('/content/drive')"
      ],
      "execution_count": null,
      "outputs": [
        {
          "output_type": "stream",
          "text": [
            "Drive already mounted at /content/drive; to attempt to forcibly remount, call drive.mount(\"/content/drive\", force_remount=True).\n"
          ],
          "name": "stdout"
        }
      ]
    },
    {
      "cell_type": "markdown",
      "metadata": {
        "id": "qdUhjP62IXEl"
      },
      "source": [
        "\n",
        "Q1. What’s the difference between a statistic and a parameter?\n",
        "\n",
        "Q2. Why are samples used in research?\n",
        "\n",
        "Q3. What’s the difference between descriptive and inferential statistics?\n",
        "\n",
        "Q4. Give an example of usage of each type of Sampling technique discussed?\n",
        "\n",
        "Q5: Download and load the following csv into Pandas DataFrame:\n",
        "Employee-HR.csv\n",
        "\n",
        "Q6: Given the dataframe loaded in previous question, you are supposed to predict Employee Churn. Identify the dependent Variable and Independent Variables based on the given objective.\n",
        "\n",
        "Q7 Classify the independent variables into continous and discrete category.\n",
        "\n",
        "Q8 Identify Categorical Variables and divide them into Ordinal and Nominal Categories.\n",
        "\n",
        "Q9: Calculate and compare the mean, median and Mode for `number of projects` as well as `time_spent_in_company` Variables for employees working in 'Sales' and 'Technical' departments. \n",
        "\n",
        "Q10: Plot histogram of Salary Distribution to display and compare data distribution for 'Sales' and 'Technical' departments. "
      ]
    },
    {
      "cell_type": "markdown",
      "metadata": {
        "id": "0hhtj6UVxz7-"
      },
      "source": [
        "Q4: Sampling Techniques"
      ]
    },
    {
      "cell_type": "markdown",
      "metadata": {
        "id": "64pTVnDZNvYz"
      },
      "source": [
        "- Convenience Sampling: A new NGO wants to establish itself in 20 cities. It selects the top 20 cities to serve based on the proximity to where they’re based.\n",
        "- Cluster Sampling is widely used to estimate high mortalities in cases such as wars, famines and natural disasters.\n",
        "\n",
        "- Random Sampling: A beverage company may want to study the buying habits of its customers in order to determine the future of its product line. If there are 10,000 customers, it may use choose 100 of those customers as a random sample. It can then apply what it finds from those 100 customers to the rest of its base.\n",
        "\n",
        "- Stratified Sampling: research wants to determine the Score of college students across India but due to differences in stream, the researcher may use a proportional stratified random sample by dividing stunents based on the Stream of Education and then perform analysis to understand impact of stream on Average-Score."
      ]
    },
    {
      "cell_type": "code",
      "metadata": {
        "id": "JdiLpI1UNvCU"
      },
      "source": [
        ""
      ],
      "execution_count": null,
      "outputs": []
    },
    {
      "cell_type": "markdown",
      "metadata": {
        "id": "koiRGBNeQgpn"
      },
      "source": [
        "Q5: Loading the Dataset:"
      ]
    },
    {
      "cell_type": "code",
      "metadata": {
        "id": "IrP442qUI3JO",
        "colab": {
          "base_uri": "https://localhost:8080/",
          "height": 204
        },
        "outputId": "8835ab90-dd76-4e0b-f824-5edbe3c7b9eb"
      },
      "source": [
        "import pandas as pd\n",
        "\n",
        "# reading data into dataframe\n",
        "hr_df = pd.read_csv('/content/drive/MyDrive/DataScience/Employee_HR.csv')\n",
        "\n",
        "# printing top 5 rows\n",
        "hr_df.head()"
      ],
      "execution_count": null,
      "outputs": [
        {
          "output_type": "execute_result",
          "data": {
            "text/html": [
              "<div>\n",
              "<style scoped>\n",
              "    .dataframe tbody tr th:only-of-type {\n",
              "        vertical-align: middle;\n",
              "    }\n",
              "\n",
              "    .dataframe tbody tr th {\n",
              "        vertical-align: top;\n",
              "    }\n",
              "\n",
              "    .dataframe thead th {\n",
              "        text-align: right;\n",
              "    }\n",
              "</style>\n",
              "<table border=\"1\" class=\"dataframe\">\n",
              "  <thead>\n",
              "    <tr style=\"text-align: right;\">\n",
              "      <th></th>\n",
              "      <th>EmpId</th>\n",
              "      <th>Satisfaction</th>\n",
              "      <th>Evaluation</th>\n",
              "      <th>number_of_projects</th>\n",
              "      <th>average_montly_hours</th>\n",
              "      <th>time_spent_company</th>\n",
              "      <th>work_accident</th>\n",
              "      <th>Promotion</th>\n",
              "      <th>Department</th>\n",
              "      <th>Salary_INR</th>\n",
              "      <th>Churn</th>\n",
              "    </tr>\n",
              "  </thead>\n",
              "  <tbody>\n",
              "    <tr>\n",
              "      <th>0</th>\n",
              "      <td>780152</td>\n",
              "      <td>3.8</td>\n",
              "      <td>5.3</td>\n",
              "      <td>2</td>\n",
              "      <td>157</td>\n",
              "      <td>3</td>\n",
              "      <td>0</td>\n",
              "      <td>0</td>\n",
              "      <td>sales</td>\n",
              "      <td>11053</td>\n",
              "      <td>1</td>\n",
              "    </tr>\n",
              "    <tr>\n",
              "      <th>1</th>\n",
              "      <td>780153</td>\n",
              "      <td>8.0</td>\n",
              "      <td>8.6</td>\n",
              "      <td>5</td>\n",
              "      <td>262</td>\n",
              "      <td>6</td>\n",
              "      <td>0</td>\n",
              "      <td>0</td>\n",
              "      <td>sales</td>\n",
              "      <td>54063</td>\n",
              "      <td>1</td>\n",
              "    </tr>\n",
              "    <tr>\n",
              "      <th>2</th>\n",
              "      <td>780154</td>\n",
              "      <td>1.1</td>\n",
              "      <td>8.8</td>\n",
              "      <td>7</td>\n",
              "      <td>272</td>\n",
              "      <td>4</td>\n",
              "      <td>0</td>\n",
              "      <td>0</td>\n",
              "      <td>sales</td>\n",
              "      <td>61300</td>\n",
              "      <td>1</td>\n",
              "    </tr>\n",
              "    <tr>\n",
              "      <th>3</th>\n",
              "      <td>780155</td>\n",
              "      <td>7.2</td>\n",
              "      <td>8.7</td>\n",
              "      <td>5</td>\n",
              "      <td>223</td>\n",
              "      <td>5</td>\n",
              "      <td>0</td>\n",
              "      <td>0</td>\n",
              "      <td>sales</td>\n",
              "      <td>20647</td>\n",
              "      <td>1</td>\n",
              "    </tr>\n",
              "    <tr>\n",
              "      <th>4</th>\n",
              "      <td>780156</td>\n",
              "      <td>3.7</td>\n",
              "      <td>5.2</td>\n",
              "      <td>2</td>\n",
              "      <td>159</td>\n",
              "      <td>3</td>\n",
              "      <td>0</td>\n",
              "      <td>0</td>\n",
              "      <td>sales</td>\n",
              "      <td>17808</td>\n",
              "      <td>1</td>\n",
              "    </tr>\n",
              "  </tbody>\n",
              "</table>\n",
              "</div>"
            ],
            "text/plain": [
              "    EmpId  Satisfaction  Evaluation  ...  Department  Salary_INR  Churn\n",
              "0  780152           3.8         5.3  ...       sales       11053      1\n",
              "1  780153           8.0         8.6  ...       sales       54063      1\n",
              "2  780154           1.1         8.8  ...       sales       61300      1\n",
              "3  780155           7.2         8.7  ...       sales       20647      1\n",
              "4  780156           3.7         5.2  ...       sales       17808      1\n",
              "\n",
              "[5 rows x 11 columns]"
            ]
          },
          "metadata": {
            "tags": []
          },
          "execution_count": 13
        }
      ]
    },
    {
      "cell_type": "code",
      "metadata": {
        "colab": {
          "base_uri": "https://localhost:8080/"
        },
        "id": "3KA2l_mlxV48",
        "outputId": "b9ab104c-15b3-439e-b5ec-a54e250a8db3"
      },
      "source": [
        "# let's print the columns\n",
        "print(hr_df.columns)"
      ],
      "execution_count": null,
      "outputs": [
        {
          "output_type": "stream",
          "text": [
            "Index(['EmpId', 'Satisfaction', 'Evaluation', 'number_of_projects',\n",
            "       'average_montly_hours', 'time_spent_company', 'work_accident',\n",
            "       'Promotion', 'Department', 'Salary_INR', 'Churn'],\n",
            "      dtype='object')\n"
          ],
          "name": "stdout"
        }
      ]
    },
    {
      "cell_type": "markdown",
      "metadata": {
        "id": "mbCiwTfxyJD6"
      },
      "source": [
        "-  `Churn` would be dependent Variable\n",
        " while other columns apart from employeeID would be independent Variables."
      ]
    },
    {
      "cell_type": "markdown",
      "metadata": {
        "id": "oPSdP7BGysnp"
      },
      "source": [
        "Q7 and Q8"
      ]
    },
    {
      "cell_type": "code",
      "metadata": {
        "colab": {
          "base_uri": "https://localhost:8080/"
        },
        "id": "QVaRmpjHxGf2",
        "outputId": "7fef5398-dc7a-4a10-a0a3-586ff7357f2c"
      },
      "source": [
        "hr_df.info()"
      ],
      "execution_count": null,
      "outputs": [
        {
          "output_type": "stream",
          "text": [
            "<class 'pandas.core.frame.DataFrame'>\n",
            "RangeIndex: 14999 entries, 0 to 14998\n",
            "Data columns (total 11 columns):\n",
            " #   Column                Non-Null Count  Dtype  \n",
            "---  ------                --------------  -----  \n",
            " 0   EmpId                 14999 non-null  int64  \n",
            " 1   Satisfaction          14999 non-null  float64\n",
            " 2   Evaluation            14999 non-null  float64\n",
            " 3   number_of_projects    14999 non-null  int64  \n",
            " 4   average_montly_hours  14999 non-null  int64  \n",
            " 5   time_spent_company    14999 non-null  int64  \n",
            " 6   work_accident         14999 non-null  int64  \n",
            " 7   Promotion             14999 non-null  int64  \n",
            " 8   Department            14999 non-null  object \n",
            " 9   Salary_INR            14999 non-null  int64  \n",
            " 10  Churn                 14999 non-null  int64  \n",
            "dtypes: float64(2), int64(8), object(1)\n",
            "memory usage: 1.3+ MB\n"
          ],
          "name": "stdout"
        }
      ]
    },
    {
      "cell_type": "code",
      "metadata": {
        "colab": {
          "base_uri": "https://localhost:8080/",
          "height": 317
        },
        "id": "bH7vyhPExpic",
        "outputId": "914520fc-7d35-4739-a4b1-6f07ab3e224c"
      },
      "source": [
        "hr_df.describe()"
      ],
      "execution_count": null,
      "outputs": [
        {
          "output_type": "execute_result",
          "data": {
            "text/html": [
              "<div>\n",
              "<style scoped>\n",
              "    .dataframe tbody tr th:only-of-type {\n",
              "        vertical-align: middle;\n",
              "    }\n",
              "\n",
              "    .dataframe tbody tr th {\n",
              "        vertical-align: top;\n",
              "    }\n",
              "\n",
              "    .dataframe thead th {\n",
              "        text-align: right;\n",
              "    }\n",
              "</style>\n",
              "<table border=\"1\" class=\"dataframe\">\n",
              "  <thead>\n",
              "    <tr style=\"text-align: right;\">\n",
              "      <th></th>\n",
              "      <th>EmpId</th>\n",
              "      <th>Satisfaction</th>\n",
              "      <th>Evaluation</th>\n",
              "      <th>number_of_projects</th>\n",
              "      <th>average_montly_hours</th>\n",
              "      <th>time_spent_company</th>\n",
              "      <th>work_accident</th>\n",
              "      <th>Promotion</th>\n",
              "      <th>Salary_INR</th>\n",
              "      <th>Churn</th>\n",
              "    </tr>\n",
              "  </thead>\n",
              "  <tbody>\n",
              "    <tr>\n",
              "      <th>count</th>\n",
              "      <td>14999.000000</td>\n",
              "      <td>14999.000000</td>\n",
              "      <td>14999.000000</td>\n",
              "      <td>14999.000000</td>\n",
              "      <td>14999.000000</td>\n",
              "      <td>14999.000000</td>\n",
              "      <td>14999.000000</td>\n",
              "      <td>14999.000000</td>\n",
              "      <td>14999.000000</td>\n",
              "      <td>14999.000000</td>\n",
              "    </tr>\n",
              "    <tr>\n",
              "      <th>mean</th>\n",
              "      <td>787651.000000</td>\n",
              "      <td>6.128335</td>\n",
              "      <td>7.161017</td>\n",
              "      <td>3.803054</td>\n",
              "      <td>201.050337</td>\n",
              "      <td>3.498233</td>\n",
              "      <td>0.144610</td>\n",
              "      <td>0.021268</td>\n",
              "      <td>62742.699913</td>\n",
              "      <td>0.238083</td>\n",
              "    </tr>\n",
              "    <tr>\n",
              "      <th>std</th>\n",
              "      <td>4329.982679</td>\n",
              "      <td>2.486307</td>\n",
              "      <td>1.711691</td>\n",
              "      <td>1.232592</td>\n",
              "      <td>49.943099</td>\n",
              "      <td>1.460136</td>\n",
              "      <td>0.351719</td>\n",
              "      <td>0.144281</td>\n",
              "      <td>66486.116149</td>\n",
              "      <td>0.425924</td>\n",
              "    </tr>\n",
              "    <tr>\n",
              "      <th>min</th>\n",
              "      <td>780152.000000</td>\n",
              "      <td>0.900000</td>\n",
              "      <td>3.600000</td>\n",
              "      <td>2.000000</td>\n",
              "      <td>96.000000</td>\n",
              "      <td>2.000000</td>\n",
              "      <td>0.000000</td>\n",
              "      <td>0.000000</td>\n",
              "      <td>10000.000000</td>\n",
              "      <td>0.000000</td>\n",
              "    </tr>\n",
              "    <tr>\n",
              "      <th>25%</th>\n",
              "      <td>783901.500000</td>\n",
              "      <td>4.400000</td>\n",
              "      <td>5.600000</td>\n",
              "      <td>3.000000</td>\n",
              "      <td>156.000000</td>\n",
              "      <td>3.000000</td>\n",
              "      <td>0.000000</td>\n",
              "      <td>0.000000</td>\n",
              "      <td>25248.000000</td>\n",
              "      <td>0.000000</td>\n",
              "    </tr>\n",
              "    <tr>\n",
              "      <th>50%</th>\n",
              "      <td>787651.000000</td>\n",
              "      <td>6.400000</td>\n",
              "      <td>7.200000</td>\n",
              "      <td>4.000000</td>\n",
              "      <td>200.000000</td>\n",
              "      <td>3.000000</td>\n",
              "      <td>0.000000</td>\n",
              "      <td>0.000000</td>\n",
              "      <td>41721.000000</td>\n",
              "      <td>0.000000</td>\n",
              "    </tr>\n",
              "    <tr>\n",
              "      <th>75%</th>\n",
              "      <td>791400.500000</td>\n",
              "      <td>8.200000</td>\n",
              "      <td>8.700000</td>\n",
              "      <td>5.000000</td>\n",
              "      <td>245.000000</td>\n",
              "      <td>4.000000</td>\n",
              "      <td>0.000000</td>\n",
              "      <td>0.000000</td>\n",
              "      <td>76354.000000</td>\n",
              "      <td>0.000000</td>\n",
              "    </tr>\n",
              "    <tr>\n",
              "      <th>max</th>\n",
              "      <td>795150.000000</td>\n",
              "      <td>10.000000</td>\n",
              "      <td>10.000000</td>\n",
              "      <td>7.000000</td>\n",
              "      <td>310.000000</td>\n",
              "      <td>10.000000</td>\n",
              "      <td>1.000000</td>\n",
              "      <td>1.000000</td>\n",
              "      <td>399930.000000</td>\n",
              "      <td>1.000000</td>\n",
              "    </tr>\n",
              "  </tbody>\n",
              "</table>\n",
              "</div>"
            ],
            "text/plain": [
              "               EmpId  Satisfaction  ...     Salary_INR         Churn\n",
              "count   14999.000000  14999.000000  ...   14999.000000  14999.000000\n",
              "mean   787651.000000      6.128335  ...   62742.699913      0.238083\n",
              "std      4329.982679      2.486307  ...   66486.116149      0.425924\n",
              "min    780152.000000      0.900000  ...   10000.000000      0.000000\n",
              "25%    783901.500000      4.400000  ...   25248.000000      0.000000\n",
              "50%    787651.000000      6.400000  ...   41721.000000      0.000000\n",
              "75%    791400.500000      8.200000  ...   76354.000000      0.000000\n",
              "max    795150.000000     10.000000  ...  399930.000000      1.000000\n",
              "\n",
              "[8 rows x 10 columns]"
            ]
          },
          "metadata": {
            "tags": []
          },
          "execution_count": 16
        }
      ]
    },
    {
      "cell_type": "code",
      "metadata": {
        "colab": {
          "base_uri": "https://localhost:8080/"
        },
        "id": "3aRLmtpozAPz",
        "outputId": "4465feff-9549-48f9-84bd-c6e8b82319ab"
      },
      "source": [
        "# Ordinals\n",
        "# time_spent_company, number_of_projects,, Promwork_accident, promotion\n",
        "hr_df['time_spent_company'].value_counts()"
      ],
      "execution_count": null,
      "outputs": [
        {
          "output_type": "execute_result",
          "data": {
            "text/plain": [
              "3     6443\n",
              "2     3244\n",
              "4     2557\n",
              "5     1473\n",
              "6      718\n",
              "10     214\n",
              "7      188\n",
              "8      162\n",
              "Name: time_spent_company, dtype: int64"
            ]
          },
          "metadata": {
            "tags": []
          },
          "execution_count": 20
        }
      ]
    },
    {
      "cell_type": "code",
      "metadata": {
        "id": "ZJ07pPAtzp-s",
        "colab": {
          "base_uri": "https://localhost:8080/"
        },
        "outputId": "9a900528-3d94-4ed2-a2c8-ac8b1016ccee"
      },
      "source": [
        "# Nominal: Department\n",
        "hr_df['Department'].value_counts()"
      ],
      "execution_count": null,
      "outputs": [
        {
          "output_type": "execute_result",
          "data": {
            "text/plain": [
              "sales          4140\n",
              "technical      2720\n",
              "support        2229\n",
              "IT             1227\n",
              "product_mng     902\n",
              "marketing       858\n",
              "RandD           787\n",
              "accounting      767\n",
              "hr              739\n",
              "management      630\n",
              "Name: Department, dtype: int64"
            ]
          },
          "metadata": {
            "tags": []
          },
          "execution_count": 21
        }
      ]
    },
    {
      "cell_type": "markdown",
      "metadata": {
        "id": "kJTvyjC815Iy"
      },
      "source": [
        "Q 9: Calculate and compare the mean, median and Mode for `number of projects` as well as `time_spent_in_company` Variables for employees working in 'Sales' and 'Technical' departments. "
      ]
    },
    {
      "cell_type": "code",
      "metadata": {
        "colab": {
          "base_uri": "https://localhost:8080/",
          "height": 419
        },
        "id": "FVcqUdzL1st9",
        "outputId": "2ced7b4a-b91e-44ce-e453-47eb6b6904d3"
      },
      "source": [
        "# Let's Extract Employees working in 'Sales' Department\n",
        "df_hr_sales = hr_df[hr_df['Department']=='sales']\n",
        "df_hr_sales"
      ],
      "execution_count": null,
      "outputs": [
        {
          "output_type": "execute_result",
          "data": {
            "text/html": [
              "<div>\n",
              "<style scoped>\n",
              "    .dataframe tbody tr th:only-of-type {\n",
              "        vertical-align: middle;\n",
              "    }\n",
              "\n",
              "    .dataframe tbody tr th {\n",
              "        vertical-align: top;\n",
              "    }\n",
              "\n",
              "    .dataframe thead th {\n",
              "        text-align: right;\n",
              "    }\n",
              "</style>\n",
              "<table border=\"1\" class=\"dataframe\">\n",
              "  <thead>\n",
              "    <tr style=\"text-align: right;\">\n",
              "      <th></th>\n",
              "      <th>EmpId</th>\n",
              "      <th>Satisfaction</th>\n",
              "      <th>Evaluation</th>\n",
              "      <th>number_of_projects</th>\n",
              "      <th>average_montly_hours</th>\n",
              "      <th>time_spent_company</th>\n",
              "      <th>work_accident</th>\n",
              "      <th>Promotion</th>\n",
              "      <th>Department</th>\n",
              "      <th>Salary_INR</th>\n",
              "      <th>Churn</th>\n",
              "    </tr>\n",
              "  </thead>\n",
              "  <tbody>\n",
              "    <tr>\n",
              "      <th>0</th>\n",
              "      <td>780152</td>\n",
              "      <td>3.8</td>\n",
              "      <td>5.3</td>\n",
              "      <td>2</td>\n",
              "      <td>157</td>\n",
              "      <td>3</td>\n",
              "      <td>0</td>\n",
              "      <td>0</td>\n",
              "      <td>sales</td>\n",
              "      <td>11053</td>\n",
              "      <td>1</td>\n",
              "    </tr>\n",
              "    <tr>\n",
              "      <th>1</th>\n",
              "      <td>780153</td>\n",
              "      <td>8.0</td>\n",
              "      <td>8.6</td>\n",
              "      <td>5</td>\n",
              "      <td>262</td>\n",
              "      <td>6</td>\n",
              "      <td>0</td>\n",
              "      <td>0</td>\n",
              "      <td>sales</td>\n",
              "      <td>54063</td>\n",
              "      <td>1</td>\n",
              "    </tr>\n",
              "    <tr>\n",
              "      <th>2</th>\n",
              "      <td>780154</td>\n",
              "      <td>1.1</td>\n",
              "      <td>8.8</td>\n",
              "      <td>7</td>\n",
              "      <td>272</td>\n",
              "      <td>4</td>\n",
              "      <td>0</td>\n",
              "      <td>0</td>\n",
              "      <td>sales</td>\n",
              "      <td>61300</td>\n",
              "      <td>1</td>\n",
              "    </tr>\n",
              "    <tr>\n",
              "      <th>3</th>\n",
              "      <td>780155</td>\n",
              "      <td>7.2</td>\n",
              "      <td>8.7</td>\n",
              "      <td>5</td>\n",
              "      <td>223</td>\n",
              "      <td>5</td>\n",
              "      <td>0</td>\n",
              "      <td>0</td>\n",
              "      <td>sales</td>\n",
              "      <td>20647</td>\n",
              "      <td>1</td>\n",
              "    </tr>\n",
              "    <tr>\n",
              "      <th>4</th>\n",
              "      <td>780156</td>\n",
              "      <td>3.7</td>\n",
              "      <td>5.2</td>\n",
              "      <td>2</td>\n",
              "      <td>159</td>\n",
              "      <td>3</td>\n",
              "      <td>0</td>\n",
              "      <td>0</td>\n",
              "      <td>sales</td>\n",
              "      <td>17808</td>\n",
              "      <td>1</td>\n",
              "    </tr>\n",
              "    <tr>\n",
              "      <th>...</th>\n",
              "      <td>...</td>\n",
              "      <td>...</td>\n",
              "      <td>...</td>\n",
              "      <td>...</td>\n",
              "      <td>...</td>\n",
              "      <td>...</td>\n",
              "      <td>...</td>\n",
              "      <td>...</td>\n",
              "      <td>...</td>\n",
              "      <td>...</td>\n",
              "      <td>...</td>\n",
              "    </tr>\n",
              "    <tr>\n",
              "      <th>14967</th>\n",
              "      <td>795119</td>\n",
              "      <td>4.3</td>\n",
              "      <td>5.1</td>\n",
              "      <td>2</td>\n",
              "      <td>128</td>\n",
              "      <td>3</td>\n",
              "      <td>0</td>\n",
              "      <td>0</td>\n",
              "      <td>sales</td>\n",
              "      <td>19072</td>\n",
              "      <td>1</td>\n",
              "    </tr>\n",
              "    <tr>\n",
              "      <th>14968</th>\n",
              "      <td>795120</td>\n",
              "      <td>4.0</td>\n",
              "      <td>4.7</td>\n",
              "      <td>2</td>\n",
              "      <td>128</td>\n",
              "      <td>3</td>\n",
              "      <td>0</td>\n",
              "      <td>0</td>\n",
              "      <td>sales</td>\n",
              "      <td>97805</td>\n",
              "      <td>1</td>\n",
              "    </tr>\n",
              "    <tr>\n",
              "      <th>14969</th>\n",
              "      <td>795121</td>\n",
              "      <td>4.3</td>\n",
              "      <td>4.6</td>\n",
              "      <td>2</td>\n",
              "      <td>157</td>\n",
              "      <td>3</td>\n",
              "      <td>0</td>\n",
              "      <td>0</td>\n",
              "      <td>sales</td>\n",
              "      <td>67562</td>\n",
              "      <td>1</td>\n",
              "    </tr>\n",
              "    <tr>\n",
              "      <th>14970</th>\n",
              "      <td>795122</td>\n",
              "      <td>7.8</td>\n",
              "      <td>9.3</td>\n",
              "      <td>4</td>\n",
              "      <td>225</td>\n",
              "      <td>5</td>\n",
              "      <td>0</td>\n",
              "      <td>0</td>\n",
              "      <td>sales</td>\n",
              "      <td>77139</td>\n",
              "      <td>1</td>\n",
              "    </tr>\n",
              "    <tr>\n",
              "      <th>14971</th>\n",
              "      <td>795123</td>\n",
              "      <td>3.9</td>\n",
              "      <td>4.5</td>\n",
              "      <td>2</td>\n",
              "      <td>140</td>\n",
              "      <td>3</td>\n",
              "      <td>0</td>\n",
              "      <td>0</td>\n",
              "      <td>sales</td>\n",
              "      <td>43944</td>\n",
              "      <td>1</td>\n",
              "    </tr>\n",
              "  </tbody>\n",
              "</table>\n",
              "<p>4140 rows × 11 columns</p>\n",
              "</div>"
            ],
            "text/plain": [
              "        EmpId  Satisfaction  Evaluation  ...  Department  Salary_INR  Churn\n",
              "0      780152           3.8         5.3  ...       sales       11053      1\n",
              "1      780153           8.0         8.6  ...       sales       54063      1\n",
              "2      780154           1.1         8.8  ...       sales       61300      1\n",
              "3      780155           7.2         8.7  ...       sales       20647      1\n",
              "4      780156           3.7         5.2  ...       sales       17808      1\n",
              "...       ...           ...         ...  ...         ...         ...    ...\n",
              "14967  795119           4.3         5.1  ...       sales       19072      1\n",
              "14968  795120           4.0         4.7  ...       sales       97805      1\n",
              "14969  795121           4.3         4.6  ...       sales       67562      1\n",
              "14970  795122           7.8         9.3  ...       sales       77139      1\n",
              "14971  795123           3.9         4.5  ...       sales       43944      1\n",
              "\n",
              "[4140 rows x 11 columns]"
            ]
          },
          "metadata": {
            "tags": []
          },
          "execution_count": 25
        }
      ]
    },
    {
      "cell_type": "code",
      "metadata": {
        "colab": {
          "base_uri": "https://localhost:8080/"
        },
        "id": "pNd5sbHn2iuG",
        "outputId": "8c93655a-b478-4b8a-caf9-780cc74acb2b"
      },
      "source": [
        "# Let's print the mean, median and Mode for time_spent in company of Employees working in Sales Department\n",
        "print(\"Mean time Spent of Employees working in Sales Department: \", df_hr_sales['time_spent_company'].mean())\n",
        "print(\"Median time Spent of Employees working in Sales Department: \", df_hr_sales['time_spent_company'].median())\n",
        "print(\"Mode time Spent of Employees working in Sales Department: \", df_hr_sales['time_spent_company'].mode()[0])"
      ],
      "execution_count": null,
      "outputs": [
        {
          "output_type": "stream",
          "text": [
            "Mean time Spent of Employees working in Sales Department:  3.5340579710144926\n",
            "Median time Spent of Employees working in Sales Department:  3.0\n",
            "Mode time Spent of Employees working in Sales Department:  3\n"
          ],
          "name": "stdout"
        }
      ]
    },
    {
      "cell_type": "code",
      "metadata": {
        "colab": {
          "base_uri": "https://localhost:8080/"
        },
        "id": "7KBGYUW13lJU",
        "outputId": "809e5b69-157a-414d-8c73-026df492ef05"
      },
      "source": [
        "# Let's print the mean, median and Mode for number of projects in company of Employees working in Sales Department\n",
        "print(\"Mean of number_of_projects of Employees working in Sales Department: \", df_hr_sales['number_of_projects'].mean())\n",
        "print(\"Median of number_of_projects Spent of Employees working in Sales Department: \", df_hr_sales['number_of_projects'].median())\n",
        "print(\"Mode of number_of_projects of Employees working in Sales Department: \", df_hr_sales['number_of_projects'].mode()[0])"
      ],
      "execution_count": null,
      "outputs": [
        {
          "output_type": "stream",
          "text": [
            "Mean of number_of_projects of Employees working in Sales Department:  3.776328502415459\n",
            "Median of number_of_projects Spent of Employees working in Sales Department:  4.0\n",
            "Mode of number_of_projects of Employees working in Sales Department:  4\n"
          ],
          "name": "stdout"
        }
      ]
    },
    {
      "cell_type": "markdown",
      "metadata": {
        "id": "4Z39aWqw4FNj"
      },
      "source": [
        "#### Follow the above method to calculate for people working in Technical Department and perform Comparison analysis between the two departments"
      ]
    },
    {
      "cell_type": "markdown",
      "metadata": {
        "id": "L581dVnA4g1P"
      },
      "source": [
        "Q10: Plot histogram of Salary Distribution to display and compare data distribution for 'Sales' and 'Technical' departments. "
      ]
    },
    {
      "cell_type": "code",
      "metadata": {
        "colab": {
          "base_uri": "https://localhost:8080/",
          "height": 483
        },
        "id": "VN6hwNTR7eS2",
        "outputId": "200ee28a-6dc8-498e-df53-da1ebbd74581"
      },
      "source": [
        "import matplotlib.pyplot as plt\n",
        "plt.figure(figsize= (10,8))\n",
        "\n",
        "plt.hist(df_hr_sales['Salary_INR'], bins = 80)\n",
        "plt.show()"
      ],
      "execution_count": null,
      "outputs": [
        {
          "output_type": "display_data",
          "data": {
            "image/png": "[encoded data removed]",
            "text/plain": [
              "<Figure size 720x576 with 1 Axes>"
            ]
          },
          "metadata": {
            "tags": [],
            "needs_background": "light"
          }
        }
      ]
    },
    {
      "cell_type": "markdown",
      "metadata": {
        "id": "sePg_XVc8Qod"
      },
      "source": [
        "Draw histogram for `Technical` Department:"
      ]
    },
    {
      "cell_type": "code",
      "metadata": {
        "id": "TjAjpLbw8anz"
      },
      "source": [
        "# here"
      ],
      "execution_count": null,
      "outputs": []
    },
    {
      "cell_type": "markdown",
      "metadata": {
        "id": "EDfn3HIt8J_X"
      },
      "source": [
        "#### Another Approach using seaborn:"
      ]
    },
    {
      "cell_type": "code",
      "metadata": {
        "colab": {
          "base_uri": "https://localhost:8080/",
          "height": 204
        },
        "id": "Bj4hw7pp37wI",
        "outputId": "dde38f74-9610-4271-fba4-283d5661f27d"
      },
      "source": [
        "# Let's Exract the record of employees working in sales and Technical Departments\n",
        "df_sales_tech = hr_df[hr_df['Department'].isin(['sales','technical'])]\n",
        "\n",
        "# printing top 5 rows of extracted records\n",
        "df_sales_tech.head()"
      ],
      "execution_count": null,
      "outputs": [
        {
          "output_type": "execute_result",
          "data": {
            "text/html": [
              "<div>\n",
              "<style scoped>\n",
              "    .dataframe tbody tr th:only-of-type {\n",
              "        vertical-align: middle;\n",
              "    }\n",
              "\n",
              "    .dataframe tbody tr th {\n",
              "        vertical-align: top;\n",
              "    }\n",
              "\n",
              "    .dataframe thead th {\n",
              "        text-align: right;\n",
              "    }\n",
              "</style>\n",
              "<table border=\"1\" class=\"dataframe\">\n",
              "  <thead>\n",
              "    <tr style=\"text-align: right;\">\n",
              "      <th></th>\n",
              "      <th>EmpId</th>\n",
              "      <th>Satisfaction</th>\n",
              "      <th>Evaluation</th>\n",
              "      <th>number_of_projects</th>\n",
              "      <th>average_montly_hours</th>\n",
              "      <th>time_spent_company</th>\n",
              "      <th>work_accident</th>\n",
              "      <th>Promotion</th>\n",
              "      <th>Department</th>\n",
              "      <th>Salary_INR</th>\n",
              "      <th>Churn</th>\n",
              "    </tr>\n",
              "  </thead>\n",
              "  <tbody>\n",
              "    <tr>\n",
              "      <th>0</th>\n",
              "      <td>780152</td>\n",
              "      <td>3.8</td>\n",
              "      <td>5.3</td>\n",
              "      <td>2</td>\n",
              "      <td>157</td>\n",
              "      <td>3</td>\n",
              "      <td>0</td>\n",
              "      <td>0</td>\n",
              "      <td>sales</td>\n",
              "      <td>11053</td>\n",
              "      <td>1</td>\n",
              "    </tr>\n",
              "    <tr>\n",
              "      <th>1</th>\n",
              "      <td>780153</td>\n",
              "      <td>8.0</td>\n",
              "      <td>8.6</td>\n",
              "      <td>5</td>\n",
              "      <td>262</td>\n",
              "      <td>6</td>\n",
              "      <td>0</td>\n",
              "      <td>0</td>\n",
              "      <td>sales</td>\n",
              "      <td>54063</td>\n",
              "      <td>1</td>\n",
              "    </tr>\n",
              "    <tr>\n",
              "      <th>2</th>\n",
              "      <td>780154</td>\n",
              "      <td>1.1</td>\n",
              "      <td>8.8</td>\n",
              "      <td>7</td>\n",
              "      <td>272</td>\n",
              "      <td>4</td>\n",
              "      <td>0</td>\n",
              "      <td>0</td>\n",
              "      <td>sales</td>\n",
              "      <td>61300</td>\n",
              "      <td>1</td>\n",
              "    </tr>\n",
              "    <tr>\n",
              "      <th>3</th>\n",
              "      <td>780155</td>\n",
              "      <td>7.2</td>\n",
              "      <td>8.7</td>\n",
              "      <td>5</td>\n",
              "      <td>223</td>\n",
              "      <td>5</td>\n",
              "      <td>0</td>\n",
              "      <td>0</td>\n",
              "      <td>sales</td>\n",
              "      <td>20647</td>\n",
              "      <td>1</td>\n",
              "    </tr>\n",
              "    <tr>\n",
              "      <th>4</th>\n",
              "      <td>780156</td>\n",
              "      <td>3.7</td>\n",
              "      <td>5.2</td>\n",
              "      <td>2</td>\n",
              "      <td>159</td>\n",
              "      <td>3</td>\n",
              "      <td>0</td>\n",
              "      <td>0</td>\n",
              "      <td>sales</td>\n",
              "      <td>17808</td>\n",
              "      <td>1</td>\n",
              "    </tr>\n",
              "  </tbody>\n",
              "</table>\n",
              "</div>"
            ],
            "text/plain": [
              "    EmpId  Satisfaction  Evaluation  ...  Department  Salary_INR  Churn\n",
              "0  780152           3.8         5.3  ...       sales       11053      1\n",
              "1  780153           8.0         8.6  ...       sales       54063      1\n",
              "2  780154           1.1         8.8  ...       sales       61300      1\n",
              "3  780155           7.2         8.7  ...       sales       20647      1\n",
              "4  780156           3.7         5.2  ...       sales       17808      1\n",
              "\n",
              "[5 rows x 11 columns]"
            ]
          },
          "metadata": {
            "tags": []
          },
          "execution_count": 32
        }
      ]
    },
    {
      "cell_type": "code",
      "metadata": {
        "colab": {
          "base_uri": "https://localhost:8080/"
        },
        "id": "4X-KRh6G5TGz",
        "outputId": "a99a56e1-f4b3-41cc-d131-091342c3451b"
      },
      "source": [
        "# let's verify\n",
        "df_sales_tech['Department'].value_counts()"
      ],
      "execution_count": null,
      "outputs": [
        {
          "output_type": "execute_result",
          "data": {
            "text/plain": [
              "sales        4140\n",
              "technical    2720\n",
              "Name: Department, dtype: int64"
            ]
          },
          "metadata": {
            "tags": []
          },
          "execution_count": 33
        }
      ]
    },
    {
      "cell_type": "code",
      "metadata": {
        "colab": {
          "base_uri": "https://localhost:8080/",
          "height": 498
        },
        "id": "ajoVUqZc5c4u",
        "outputId": "cad94309-c466-4e4a-8641-9ce39290303f"
      },
      "source": [
        "# let's plot\n",
        "import matplotlib.pyplot as plt\n",
        "plt.figure(figsize= (10,8))\n",
        "\n",
        "\n",
        "import seaborn as sns\n",
        "sns.histplot(x = 'Salary_INR', data = df_sales_tech, hue = 'Department')\n",
        "plt.show()"
      ],
      "execution_count": null,
      "outputs": [
        {
          "output_type": "display_data",
          "data": {
            "image/png": "[encoded data removed]",
            "text/plain": [
              "<Figure size 720x576 with 1 Axes>"
            ]
          },
          "metadata": {
            "tags": [],
            "needs_background": "light"
          }
        }
      ]
    },
    {
      "cell_type": "code",
      "metadata": {
        "id": "9u33HRZ-6Q00"
      },
      "source": [
        ""
      ],
      "execution_count": null,
      "outputs": []
    },
    {
      "cell_type": "code",
      "metadata": {
        "id": "XmaoVWDcRiAi"
      },
      "source": [
        ""
      ],
      "execution_count": null,
      "outputs": []
    }
  ]
}