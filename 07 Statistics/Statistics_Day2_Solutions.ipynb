{
  "nbformat": 4,
  "nbformat_minor": 0,
  "metadata": {
    "colab": {
      "name": "Statistics Day2 Solutions.ipynb",
      "provenance": [],
      "collapsed_sections": []
    },
    "kernelspec": {
      "name": "python3",
      "display_name": "Python 3"
    }
  },
  "cells": [
    {
      "cell_type": "markdown",
      "metadata": {
        "id": "vstV3IVrSpj3"
      },
      "source": [
        "Q1: Calculate variance, standard Deviation and IQR of Salary of Employees in HR and Marketing Department. \n",
        "\n",
        "Q2: What is the range of Experience in IT department?\n",
        "\n",
        "Q3: Create a boxplot to display Experience of Each Department.\n",
        "\n",
        "Q4: Which Features has highest Standard Deviation in the Dataset?\n",
        "\n",
        "Q5 Calculate covariance between MPG and Horsepower of Vehicles from Car93 Dataset.\n",
        "\n",
        "Q6. Find the top 5 pair of Features having Highest correlation in Cars93 Dataset\n",
        "\n",
        "Q7: Draw Scatterplot for the 5 pairs selected in previous Question."
      ]
    },
    {
      "cell_type": "markdown",
      "metadata": {
        "id": "3WK5EKBeqSLa"
      },
      "source": [
        "Q1: Nexa Tea\n",
        "\n",
        "- Mean = 255\n",
        "- Sd = 2.5\n",
        "- Z Score = 255-250/2.5 = 2\n",
        "- 2 SD Away = 95% Data\n",
        "- So 95% Data should fall in 250-260 Gm's\n",
        "- 2.5% data less than 250 Gms\n",
        "\n",
        "\n",
        "Q2: % of students passing the Exam\n",
        "- Mean = 42\n",
        "- Sd = 8\n",
        "- Z Score = 50-42/8 = 1\n",
        "- 1 SD Away = 68% Data\n",
        "- So 68% students should score between 34-50.\n",
        "- 32 % students Score less than 34 or Greater than 50\n",
        "- Since Normal Distribution is Symmentric 16% students will score more than 50%\n",
        "\n",
        "Q3: Temperature between 39°C and 42°C\n",
        "- Mean = 36\n",
        "- Sd = 3\n",
        "- Z Score_1 = 39-36/3 = 1\n",
        "- Z Score_2 = 42-36/3 = 2\n",
        "- 1 SD is 68% , 2 SD is 95%\n",
        "- Data between 1 SD and 2 SD is= 95-68 = 27\n",
        "- % of days expected to fall between 39-42 = 27/2 = 13.5%\n",
        " "
      ]
    },
    {
      "cell_type": "code",
      "metadata": {
        "id": "UswY-H6mTPiK",
        "colab": {
          "base_uri": "https://localhost:8080/"
        },
        "outputId": "a68cbbfd-a416-4489-e09e-6ec713a34a49"
      },
      "source": [
        "95-68"
      ],
      "execution_count": null,
      "outputs": [
        {
          "output_type": "execute_result",
          "data": {
            "text/plain": [
              "27"
            ]
          },
          "metadata": {
            "tags": []
          },
          "execution_count": 1
        }
      ]
    },
    {
      "cell_type": "code",
      "metadata": {
        "id": "L0wPjlKSs8C7"
      },
      "source": [
        ""
      ],
      "execution_count": null,
      "outputs": []
    },
    {
      "cell_type": "markdown",
      "metadata": {
        "id": "sMrCA4a-QdJ7"
      },
      "source": [
        "### Loading CARS93 and HR Datasets into pandas Dataframe:"
      ]
    },
    {
      "cell_type": "code",
      "metadata": {
        "colab": {
          "base_uri": "https://localhost:8080/"
        },
        "id": "rXFyFjq1PD-3",
        "outputId": "c134a31a-fa45-4f6c-ba07-9e5d4eb42e2b"
      },
      "source": [
        "from google.colab import drive\n",
        "drive.mount('/content/drive')"
      ],
      "execution_count": null,
      "outputs": [
        {
          "output_type": "stream",
          "text": [
            "Drive already mounted at /content/drive; to attempt to forcibly remount, call drive.mount(\"/content/drive\", force_remount=True).\n"
          ],
          "name": "stdout"
        }
      ]
    },
    {
      "cell_type": "code",
      "metadata": {
        "colab": {
          "base_uri": "https://localhost:8080/",
          "height": 204
        },
        "id": "_EDhnIKJPE-C",
        "outputId": "76c2fc5c-4729-4817-e2c3-0413b112ddfc"
      },
      "source": [
        "import pandas as pd\n",
        "\n",
        "# reading data into dataframe\n",
        "cars_df = pd.read_csv('/content/drive/MyDrive/DataScience/cars93.csv')\n",
        "\n",
        "# printing top 5 rows\n",
        "cars_df.head()"
      ],
      "execution_count": null,
      "outputs": [
        {
          "output_type": "execute_result",
          "data": {
            "text/html": [
              "<div>\n",
              "<style scoped>\n",
              "    .dataframe tbody tr th:only-of-type {\n",
              "        vertical-align: middle;\n",
              "    }\n",
              "\n",
              "    .dataframe tbody tr th {\n",
              "        vertical-align: top;\n",
              "    }\n",
              "\n",
              "    .dataframe thead th {\n",
              "        text-align: right;\n",
              "    }\n",
              "</style>\n",
              "<table border=\"1\" class=\"dataframe\">\n",
              "  <thead>\n",
              "    <tr style=\"text-align: right;\">\n",
              "      <th></th>\n",
              "      <th>Manufacturer</th>\n",
              "      <th>Model</th>\n",
              "      <th>Type</th>\n",
              "      <th>Price</th>\n",
              "      <th>MPG.city</th>\n",
              "      <th>AirBags</th>\n",
              "      <th>Horsepower</th>\n",
              "      <th>Passengers</th>\n",
              "      <th>Rear.seat.room</th>\n",
              "      <th>Luggage.room</th>\n",
              "    </tr>\n",
              "  </thead>\n",
              "  <tbody>\n",
              "    <tr>\n",
              "      <th>0</th>\n",
              "      <td>Acura</td>\n",
              "      <td>Integra</td>\n",
              "      <td>Small</td>\n",
              "      <td>3259500</td>\n",
              "      <td>25</td>\n",
              "      <td>Driver only</td>\n",
              "      <td>140</td>\n",
              "      <td>5</td>\n",
              "      <td>26.5</td>\n",
              "      <td>11.0</td>\n",
              "    </tr>\n",
              "    <tr>\n",
              "      <th>1</th>\n",
              "      <td>Acura</td>\n",
              "      <td>Legend</td>\n",
              "      <td>Midsize</td>\n",
              "      <td>6949500</td>\n",
              "      <td>18</td>\n",
              "      <td>Driver &amp; Passenger</td>\n",
              "      <td>200</td>\n",
              "      <td>5</td>\n",
              "      <td>30.0</td>\n",
              "      <td>15.0</td>\n",
              "    </tr>\n",
              "    <tr>\n",
              "      <th>2</th>\n",
              "      <td>Audi</td>\n",
              "      <td>90</td>\n",
              "      <td>Compact</td>\n",
              "      <td>5965500</td>\n",
              "      <td>20</td>\n",
              "      <td>Driver only</td>\n",
              "      <td>172</td>\n",
              "      <td>5</td>\n",
              "      <td>28.0</td>\n",
              "      <td>14.0</td>\n",
              "    </tr>\n",
              "    <tr>\n",
              "      <th>3</th>\n",
              "      <td>Audi</td>\n",
              "      <td>100</td>\n",
              "      <td>Midsize</td>\n",
              "      <td>7728500</td>\n",
              "      <td>19</td>\n",
              "      <td>Driver &amp; Passenger</td>\n",
              "      <td>172</td>\n",
              "      <td>6</td>\n",
              "      <td>31.0</td>\n",
              "      <td>17.0</td>\n",
              "    </tr>\n",
              "    <tr>\n",
              "      <th>4</th>\n",
              "      <td>BMW</td>\n",
              "      <td>535i</td>\n",
              "      <td>Midsize</td>\n",
              "      <td>6150000</td>\n",
              "      <td>22</td>\n",
              "      <td>Driver only</td>\n",
              "      <td>208</td>\n",
              "      <td>4</td>\n",
              "      <td>27.0</td>\n",
              "      <td>13.0</td>\n",
              "    </tr>\n",
              "  </tbody>\n",
              "</table>\n",
              "</div>"
            ],
            "text/plain": [
              "  Manufacturer    Model     Type  ...  Passengers  Rear.seat.room Luggage.room\n",
              "0        Acura  Integra    Small  ...           5            26.5         11.0\n",
              "1        Acura   Legend  Midsize  ...           5            30.0         15.0\n",
              "2         Audi       90  Compact  ...           5            28.0         14.0\n",
              "3         Audi      100  Midsize  ...           6            31.0         17.0\n",
              "4          BMW     535i  Midsize  ...           4            27.0         13.0\n",
              "\n",
              "[5 rows x 10 columns]"
            ]
          },
          "metadata": {
            "tags": []
          },
          "execution_count": 3
        }
      ]
    },
    {
      "cell_type": "code",
      "metadata": {
        "colab": {
          "base_uri": "https://localhost:8080/",
          "height": 204
        },
        "id": "EwOZb0FqQ0Wp",
        "outputId": "798e4546-8232-4de8-cf74-ed70fffde5b6"
      },
      "source": [
        "# reading data into dataframe\n",
        "hr_df = pd.read_csv('/content/drive/MyDrive/DataScience/Employee_HR.csv')\n",
        "\n",
        "# printing top 5 rows\n",
        "hr_df.head()"
      ],
      "execution_count": null,
      "outputs": [
        {
          "output_type": "execute_result",
          "data": {
            "text/html": [
              "<div>\n",
              "<style scoped>\n",
              "    .dataframe tbody tr th:only-of-type {\n",
              "        vertical-align: middle;\n",
              "    }\n",
              "\n",
              "    .dataframe tbody tr th {\n",
              "        vertical-align: top;\n",
              "    }\n",
              "\n",
              "    .dataframe thead th {\n",
              "        text-align: right;\n",
              "    }\n",
              "</style>\n",
              "<table border=\"1\" class=\"dataframe\">\n",
              "  <thead>\n",
              "    <tr style=\"text-align: right;\">\n",
              "      <th></th>\n",
              "      <th>EmpId</th>\n",
              "      <th>Satisfaction</th>\n",
              "      <th>Evaluation</th>\n",
              "      <th>number_of_projects</th>\n",
              "      <th>average_montly_hours</th>\n",
              "      <th>time_spent_company</th>\n",
              "      <th>work_accident</th>\n",
              "      <th>Promotion</th>\n",
              "      <th>Department</th>\n",
              "      <th>Salary_INR</th>\n",
              "      <th>Churn</th>\n",
              "    </tr>\n",
              "  </thead>\n",
              "  <tbody>\n",
              "    <tr>\n",
              "      <th>0</th>\n",
              "      <td>780152</td>\n",
              "      <td>3.8</td>\n",
              "      <td>5.3</td>\n",
              "      <td>2</td>\n",
              "      <td>157</td>\n",
              "      <td>3</td>\n",
              "      <td>0</td>\n",
              "      <td>0</td>\n",
              "      <td>sales</td>\n",
              "      <td>11053</td>\n",
              "      <td>1</td>\n",
              "    </tr>\n",
              "    <tr>\n",
              "      <th>1</th>\n",
              "      <td>780153</td>\n",
              "      <td>8.0</td>\n",
              "      <td>8.6</td>\n",
              "      <td>5</td>\n",
              "      <td>262</td>\n",
              "      <td>6</td>\n",
              "      <td>0</td>\n",
              "      <td>0</td>\n",
              "      <td>sales</td>\n",
              "      <td>54063</td>\n",
              "      <td>1</td>\n",
              "    </tr>\n",
              "    <tr>\n",
              "      <th>2</th>\n",
              "      <td>780154</td>\n",
              "      <td>1.1</td>\n",
              "      <td>8.8</td>\n",
              "      <td>7</td>\n",
              "      <td>272</td>\n",
              "      <td>4</td>\n",
              "      <td>0</td>\n",
              "      <td>0</td>\n",
              "      <td>sales</td>\n",
              "      <td>61300</td>\n",
              "      <td>1</td>\n",
              "    </tr>\n",
              "    <tr>\n",
              "      <th>3</th>\n",
              "      <td>780155</td>\n",
              "      <td>7.2</td>\n",
              "      <td>8.7</td>\n",
              "      <td>5</td>\n",
              "      <td>223</td>\n",
              "      <td>5</td>\n",
              "      <td>0</td>\n",
              "      <td>0</td>\n",
              "      <td>sales</td>\n",
              "      <td>20647</td>\n",
              "      <td>1</td>\n",
              "    </tr>\n",
              "    <tr>\n",
              "      <th>4</th>\n",
              "      <td>780156</td>\n",
              "      <td>3.7</td>\n",
              "      <td>5.2</td>\n",
              "      <td>2</td>\n",
              "      <td>159</td>\n",
              "      <td>3</td>\n",
              "      <td>0</td>\n",
              "      <td>0</td>\n",
              "      <td>sales</td>\n",
              "      <td>17808</td>\n",
              "      <td>1</td>\n",
              "    </tr>\n",
              "  </tbody>\n",
              "</table>\n",
              "</div>"
            ],
            "text/plain": [
              "    EmpId  Satisfaction  Evaluation  ...  Department  Salary_INR  Churn\n",
              "0  780152           3.8         5.3  ...       sales       11053      1\n",
              "1  780153           8.0         8.6  ...       sales       54063      1\n",
              "2  780154           1.1         8.8  ...       sales       61300      1\n",
              "3  780155           7.2         8.7  ...       sales       20647      1\n",
              "4  780156           3.7         5.2  ...       sales       17808      1\n",
              "\n",
              "[5 rows x 11 columns]"
            ]
          },
          "metadata": {
            "tags": []
          },
          "execution_count": 4
        }
      ]
    },
    {
      "cell_type": "markdown",
      "metadata": {
        "id": "cSy2ADWhQjsI"
      },
      "source": [
        "#### Q1: Variance, standard Deviation and IQR of Salary of Employees in HR and Marketing Department. "
      ]
    },
    {
      "cell_type": "code",
      "metadata": {
        "colab": {
          "base_uri": "https://localhost:8080/"
        },
        "id": "cqCNxxFeQRLV",
        "outputId": "86266880-669c-432d-c46b-fe2f5e0f85e2"
      },
      "source": [
        "df_hr_mark = hr_df[hr_df['Department'].isin(['hr','marketing'])]\n",
        "df_hr_mark.Department.value_counts()"
      ],
      "execution_count": null,
      "outputs": [
        {
          "output_type": "execute_result",
          "data": {
            "text/plain": [
              "marketing    858\n",
              "hr           739\n",
              "Name: Department, dtype: int64"
            ]
          },
          "metadata": {
            "tags": []
          },
          "execution_count": 6
        }
      ]
    },
    {
      "cell_type": "code",
      "metadata": {
        "colab": {
          "base_uri": "https://localhost:8080/"
        },
        "id": "VD6D-slKRSkf",
        "outputId": "0d7f3113-1ad6-4514-f52e-8790e42bb5d6"
      },
      "source": [
        "print(\"Variance: \",df_hr_mark.Salary_INR.var())\n",
        "print(\"Std: \", df_hr_mark.Salary_INR.std())\n",
        "print(\"75th percentile:{} \\t25th Percentile:{}\".format(df_hr_mark.Salary_INR.quantile(0.75), df_hr_mark.Salary_INR.quantile(0.25) ))\n",
        "print(\"IQR:\",df_hr_mark.Salary_INR.quantile(0.75) - df_hr_mark.Salary_INR.quantile(0.25))"
      ],
      "execution_count": null,
      "outputs": [
        {
          "output_type": "stream",
          "text": [
            "Variance:  4348997776.990409\n",
            "Std:  65946.9315206584\n",
            "75th percentile:78284.0 \t25th Percentile:25553.0\n",
            "IQR: 52731.0\n"
          ],
          "name": "stdout"
        }
      ]
    },
    {
      "cell_type": "markdown",
      "metadata": {
        "id": "9vbxSgABS2th"
      },
      "source": [
        "Q2: Range of Experience in IT department"
      ]
    },
    {
      "cell_type": "code",
      "metadata": {
        "colab": {
          "base_uri": "https://localhost:8080/"
        },
        "id": "eN_JEXrxRrPe",
        "outputId": "47248be9-5a83-4f87-ac2d-dd18370b69de"
      },
      "source": [
        "max_exp = hr_df[hr_df['Department']=='IT'].time_spent_company.max()\n",
        "min_exp = hr_df[hr_df['Department']=='IT'].time_spent_company.min()\n",
        "print(\"Max Exp {}\\t Min Exp {}\".format(max_exp, min_exp ))\n",
        "print(\"Range: \",max_exp-min_exp)"
      ],
      "execution_count": null,
      "outputs": [
        {
          "output_type": "stream",
          "text": [
            "Max Exp 10\t Min Exp 2\n",
            "Range:  8\n"
          ],
          "name": "stdout"
        }
      ]
    },
    {
      "cell_type": "markdown",
      "metadata": {
        "id": "YnIaHiniT2UB"
      },
      "source": [
        "Q3: Create a boxplot to display Experience of Each Department."
      ]
    },
    {
      "cell_type": "code",
      "metadata": {
        "colab": {
          "base_uri": "https://localhost:8080/",
          "height": 498
        },
        "id": "Vb2urOD5SzCG",
        "outputId": "ba1ae85d-902a-4f77-e4f5-334aaaddc342"
      },
      "source": [
        "import seaborn as sns\n",
        "import matplotlib.pyplot as plt\n",
        "plt.figure(figsize= (16,8))\n",
        "\n",
        "\n",
        "sns.boxplot(x = 'Department', y = 'time_spent_company', data = hr_df )\n",
        "plt.show()"
      ],
      "execution_count": null,
      "outputs": [
        {
          "output_type": "display_data",
          "data": {
            "image/png": "[encoded data removed]",
            "text/plain": [
              "<Figure size 1152x576 with 1 Axes>"
            ]
          },
          "metadata": {
            "tags": [],
            "needs_background": "light"
          }
        }
      ]
    },
    {
      "cell_type": "markdown",
      "metadata": {
        "id": "abdhoFrTU4Sf"
      },
      "source": [
        "Q4: Features has highest Standard Deviation in the Dataset"
      ]
    },
    {
      "cell_type": "code",
      "metadata": {
        "colab": {
          "base_uri": "https://localhost:8080/"
        },
        "id": "Lavt-AW3U3hw",
        "outputId": "c65fd3e0-cae4-4846-9b11-50f41fe0c074"
      },
      "source": [
        "hr_df.std()"
      ],
      "execution_count": null,
      "outputs": [
        {
          "output_type": "execute_result",
          "data": {
            "text/plain": [
              "EmpId                    4329.982679\n",
              "Satisfaction                2.486307\n",
              "Evaluation                  1.711691\n",
              "number_of_projects          1.232592\n",
              "average_montly_hours       49.943099\n",
              "time_spent_company          1.460136\n",
              "work_accident               0.351719\n",
              "Promotion                   0.144281\n",
              "Salary_INR              66486.116149\n",
              "Churn                       0.425924\n",
              "dtype: float64"
            ]
          },
          "metadata": {
            "tags": []
          },
          "execution_count": 10
        }
      ]
    },
    {
      "cell_type": "code",
      "metadata": {
        "colab": {
          "base_uri": "https://localhost:8080/"
        },
        "id": "7DRpA4fjUP0b",
        "outputId": "095808d9-d27a-499e-a61f-b753d2ad8e28"
      },
      "source": [
        "hr_df.std().max()"
      ],
      "execution_count": null,
      "outputs": [
        {
          "output_type": "execute_result",
          "data": {
            "text/plain": [
              "66486.11614875057"
            ]
          },
          "metadata": {
            "tags": []
          },
          "execution_count": 11
        }
      ]
    },
    {
      "cell_type": "code",
      "metadata": {
        "colab": {
          "base_uri": "https://localhost:8080/"
        },
        "id": "IkMo5bSQVGIl",
        "outputId": "c79dec8c-5096-4d08-eabc-20c1e55212c9"
      },
      "source": [
        "hr_df.std().sort_values(ascending = False)"
      ],
      "execution_count": null,
      "outputs": [
        {
          "output_type": "execute_result",
          "data": {
            "text/plain": [
              "Salary_INR              66486.116149\n",
              "EmpId                    4329.982679\n",
              "average_montly_hours       49.943099\n",
              "Satisfaction                2.486307\n",
              "Evaluation                  1.711691\n",
              "time_spent_company          1.460136\n",
              "number_of_projects          1.232592\n",
              "Churn                       0.425924\n",
              "work_accident               0.351719\n",
              "Promotion                   0.144281\n",
              "dtype: float64"
            ]
          },
          "metadata": {
            "tags": []
          },
          "execution_count": 12
        }
      ]
    },
    {
      "cell_type": "code",
      "metadata": {
        "colab": {
          "base_uri": "https://localhost:8080/",
          "height": 37
        },
        "id": "TiXsQzC_V84U",
        "outputId": "7fd668f9-18e9-4101-c730-33d22be09060"
      },
      "source": [
        "hr_df.std().sort_values(ascending = False).index[0]"
      ],
      "execution_count": null,
      "outputs": [
        {
          "output_type": "execute_result",
          "data": {
            "application/vnd.google.colaboratory.intrinsic+json": {
              "type": "string"
            },
            "text/plain": [
              "'Salary_INR'"
            ]
          },
          "metadata": {
            "tags": []
          },
          "execution_count": 15
        }
      ]
    },
    {
      "cell_type": "markdown",
      "metadata": {
        "id": "rcGVyirIVno_"
      },
      "source": [
        "Q5 covariance between MPG and Horsepower of Vehicles from Car93 Dataset.\n"
      ]
    },
    {
      "cell_type": "code",
      "metadata": {
        "colab": {
          "base_uri": "https://localhost:8080/",
          "height": 111
        },
        "id": "QVtdum8lVN-9",
        "outputId": "c42c551d-dbaa-4118-ab39-7e356fb92f3c"
      },
      "source": [
        "cars_df[['Horsepower', 'MPG.city']].cov()"
      ],
      "execution_count": null,
      "outputs": [
        {
          "output_type": "execute_result",
          "data": {
            "text/html": [
              "<div>\n",
              "<style scoped>\n",
              "    .dataframe tbody tr th:only-of-type {\n",
              "        vertical-align: middle;\n",
              "    }\n",
              "\n",
              "    .dataframe tbody tr th {\n",
              "        vertical-align: top;\n",
              "    }\n",
              "\n",
              "    .dataframe thead th {\n",
              "        text-align: right;\n",
              "    }\n",
              "</style>\n",
              "<table border=\"1\" class=\"dataframe\">\n",
              "  <thead>\n",
              "    <tr style=\"text-align: right;\">\n",
              "      <th></th>\n",
              "      <th>Horsepower</th>\n",
              "      <th>MPG.city</th>\n",
              "    </tr>\n",
              "  </thead>\n",
              "  <tbody>\n",
              "    <tr>\n",
              "      <th>Horsepower</th>\n",
              "      <td>2743.078775</td>\n",
              "      <td>-197.979897</td>\n",
              "    </tr>\n",
              "    <tr>\n",
              "      <th>MPG.city</th>\n",
              "      <td>-197.979897</td>\n",
              "      <td>31.582281</td>\n",
              "    </tr>\n",
              "  </tbody>\n",
              "</table>\n",
              "</div>"
            ],
            "text/plain": [
              "             Horsepower    MPG.city\n",
              "Horsepower  2743.078775 -197.979897\n",
              "MPG.city    -197.979897   31.582281"
            ]
          },
          "metadata": {
            "tags": []
          },
          "execution_count": 21
        }
      ]
    },
    {
      "cell_type": "code",
      "metadata": {
        "colab": {
          "base_uri": "https://localhost:8080/"
        },
        "id": "eti04x9kVuNe",
        "outputId": "a4536a82-faef-49be-bae1-f93cb8c1f064"
      },
      "source": [
        "cov_val = cars_df[['Horsepower', 'MPG.city']].cov().iloc[0][1]\n",
        "print(\"covariance between MPG and Horsepower: \", cov_val)"
      ],
      "execution_count": null,
      "outputs": [
        {
          "output_type": "stream",
          "text": [
            "covariance between MPG and Horsepower:  -197.9798971482001\n"
          ],
          "name": "stdout"
        }
      ]
    },
    {
      "cell_type": "markdown",
      "metadata": {
        "id": "ltkoV71tXix3"
      },
      "source": [
        "Q6: The top 5 pair of Features having Highest correlation in Cars93 Dataset"
      ]
    },
    {
      "cell_type": "code",
      "metadata": {
        "colab": {
          "base_uri": "https://localhost:8080/",
          "height": 235
        },
        "id": "Lf9DniovXiBW",
        "outputId": "e53e9107-778b-4b72-ecbc-58fe27b8e3ec"
      },
      "source": [
        "cars_df.corr()"
      ],
      "execution_count": null,
      "outputs": [
        {
          "output_type": "execute_result",
          "data": {
            "text/html": [
              "<div>\n",
              "<style scoped>\n",
              "    .dataframe tbody tr th:only-of-type {\n",
              "        vertical-align: middle;\n",
              "    }\n",
              "\n",
              "    .dataframe tbody tr th {\n",
              "        vertical-align: top;\n",
              "    }\n",
              "\n",
              "    .dataframe thead th {\n",
              "        text-align: right;\n",
              "    }\n",
              "</style>\n",
              "<table border=\"1\" class=\"dataframe\">\n",
              "  <thead>\n",
              "    <tr style=\"text-align: right;\">\n",
              "      <th></th>\n",
              "      <th>Price</th>\n",
              "      <th>MPG.city</th>\n",
              "      <th>Horsepower</th>\n",
              "      <th>Passengers</th>\n",
              "      <th>Rear.seat.room</th>\n",
              "      <th>Luggage.room</th>\n",
              "    </tr>\n",
              "  </thead>\n",
              "  <tbody>\n",
              "    <tr>\n",
              "      <th>Price</th>\n",
              "      <td>1.000000</td>\n",
              "      <td>-0.594562</td>\n",
              "      <td>0.788218</td>\n",
              "      <td>0.057860</td>\n",
              "      <td>0.311499</td>\n",
              "      <td>0.366569</td>\n",
              "    </tr>\n",
              "    <tr>\n",
              "      <th>MPG.city</th>\n",
              "      <td>-0.594562</td>\n",
              "      <td>1.000000</td>\n",
              "      <td>-0.672636</td>\n",
              "      <td>-0.416856</td>\n",
              "      <td>-0.384347</td>\n",
              "      <td>-0.494894</td>\n",
              "    </tr>\n",
              "    <tr>\n",
              "      <th>Horsepower</th>\n",
              "      <td>0.788218</td>\n",
              "      <td>-0.672636</td>\n",
              "      <td>1.000000</td>\n",
              "      <td>0.009264</td>\n",
              "      <td>0.256732</td>\n",
              "      <td>0.359217</td>\n",
              "    </tr>\n",
              "    <tr>\n",
              "      <th>Passengers</th>\n",
              "      <td>0.057860</td>\n",
              "      <td>-0.416856</td>\n",
              "      <td>0.009264</td>\n",
              "      <td>1.000000</td>\n",
              "      <td>0.694134</td>\n",
              "      <td>0.653317</td>\n",
              "    </tr>\n",
              "    <tr>\n",
              "      <th>Rear.seat.room</th>\n",
              "      <td>0.311499</td>\n",
              "      <td>-0.384347</td>\n",
              "      <td>0.256732</td>\n",
              "      <td>0.694134</td>\n",
              "      <td>1.000000</td>\n",
              "      <td>0.651968</td>\n",
              "    </tr>\n",
              "    <tr>\n",
              "      <th>Luggage.room</th>\n",
              "      <td>0.366569</td>\n",
              "      <td>-0.494894</td>\n",
              "      <td>0.359217</td>\n",
              "      <td>0.653317</td>\n",
              "      <td>0.651968</td>\n",
              "      <td>1.000000</td>\n",
              "    </tr>\n",
              "  </tbody>\n",
              "</table>\n",
              "</div>"
            ],
            "text/plain": [
              "                   Price  MPG.city  ...  Rear.seat.room  Luggage.room\n",
              "Price           1.000000 -0.594562  ...        0.311499      0.366569\n",
              "MPG.city       -0.594562  1.000000  ...       -0.384347     -0.494894\n",
              "Horsepower      0.788218 -0.672636  ...        0.256732      0.359217\n",
              "Passengers      0.057860 -0.416856  ...        0.694134      0.653317\n",
              "Rear.seat.room  0.311499 -0.384347  ...        1.000000      0.651968\n",
              "Luggage.room    0.366569 -0.494894  ...        0.651968      1.000000\n",
              "\n",
              "[6 rows x 6 columns]"
            ]
          },
          "metadata": {
            "tags": []
          },
          "execution_count": 25
        }
      ]
    },
    {
      "cell_type": "code",
      "metadata": {
        "colab": {
          "base_uri": "https://localhost:8080/",
          "height": 235
        },
        "id": "RQwIdUYYYKc_",
        "outputId": "ce403e18-d84e-4045-8ce6-d7191171a1cf"
      },
      "source": [
        "cars_df.corr().abs()"
      ],
      "execution_count": null,
      "outputs": [
        {
          "output_type": "execute_result",
          "data": {
            "text/html": [
              "<div>\n",
              "<style scoped>\n",
              "    .dataframe tbody tr th:only-of-type {\n",
              "        vertical-align: middle;\n",
              "    }\n",
              "\n",
              "    .dataframe tbody tr th {\n",
              "        vertical-align: top;\n",
              "    }\n",
              "\n",
              "    .dataframe thead th {\n",
              "        text-align: right;\n",
              "    }\n",
              "</style>\n",
              "<table border=\"1\" class=\"dataframe\">\n",
              "  <thead>\n",
              "    <tr style=\"text-align: right;\">\n",
              "      <th></th>\n",
              "      <th>Price</th>\n",
              "      <th>MPG.city</th>\n",
              "      <th>Horsepower</th>\n",
              "      <th>Passengers</th>\n",
              "      <th>Rear.seat.room</th>\n",
              "      <th>Luggage.room</th>\n",
              "    </tr>\n",
              "  </thead>\n",
              "  <tbody>\n",
              "    <tr>\n",
              "      <th>Price</th>\n",
              "      <td>1.000000</td>\n",
              "      <td>0.594562</td>\n",
              "      <td>0.788218</td>\n",
              "      <td>0.057860</td>\n",
              "      <td>0.311499</td>\n",
              "      <td>0.366569</td>\n",
              "    </tr>\n",
              "    <tr>\n",
              "      <th>MPG.city</th>\n",
              "      <td>0.594562</td>\n",
              "      <td>1.000000</td>\n",
              "      <td>0.672636</td>\n",
              "      <td>0.416856</td>\n",
              "      <td>0.384347</td>\n",
              "      <td>0.494894</td>\n",
              "    </tr>\n",
              "    <tr>\n",
              "      <th>Horsepower</th>\n",
              "      <td>0.788218</td>\n",
              "      <td>0.672636</td>\n",
              "      <td>1.000000</td>\n",
              "      <td>0.009264</td>\n",
              "      <td>0.256732</td>\n",
              "      <td>0.359217</td>\n",
              "    </tr>\n",
              "    <tr>\n",
              "      <th>Passengers</th>\n",
              "      <td>0.057860</td>\n",
              "      <td>0.416856</td>\n",
              "      <td>0.009264</td>\n",
              "      <td>1.000000</td>\n",
              "      <td>0.694134</td>\n",
              "      <td>0.653317</td>\n",
              "    </tr>\n",
              "    <tr>\n",
              "      <th>Rear.seat.room</th>\n",
              "      <td>0.311499</td>\n",
              "      <td>0.384347</td>\n",
              "      <td>0.256732</td>\n",
              "      <td>0.694134</td>\n",
              "      <td>1.000000</td>\n",
              "      <td>0.651968</td>\n",
              "    </tr>\n",
              "    <tr>\n",
              "      <th>Luggage.room</th>\n",
              "      <td>0.366569</td>\n",
              "      <td>0.494894</td>\n",
              "      <td>0.359217</td>\n",
              "      <td>0.653317</td>\n",
              "      <td>0.651968</td>\n",
              "      <td>1.000000</td>\n",
              "    </tr>\n",
              "  </tbody>\n",
              "</table>\n",
              "</div>"
            ],
            "text/plain": [
              "                   Price  MPG.city  ...  Rear.seat.room  Luggage.room\n",
              "Price           1.000000  0.594562  ...        0.311499      0.366569\n",
              "MPG.city        0.594562  1.000000  ...        0.384347      0.494894\n",
              "Horsepower      0.788218  0.672636  ...        0.256732      0.359217\n",
              "Passengers      0.057860  0.416856  ...        0.694134      0.653317\n",
              "Rear.seat.room  0.311499  0.384347  ...        1.000000      0.651968\n",
              "Luggage.room    0.366569  0.494894  ...        0.651968      1.000000\n",
              "\n",
              "[6 rows x 6 columns]"
            ]
          },
          "metadata": {
            "tags": []
          },
          "execution_count": 26
        }
      ]
    },
    {
      "cell_type": "code",
      "metadata": {
        "colab": {
          "base_uri": "https://localhost:8080/"
        },
        "id": "19V1AASmWwEH",
        "outputId": "56349d2b-a5ff-44f1-ec24-6083c2769fd0"
      },
      "source": [
        "cars_df.corr().abs().unstack()"
      ],
      "execution_count": null,
      "outputs": [
        {
          "output_type": "execute_result",
          "data": {
            "text/plain": [
              "Price           Price             1.000000\n",
              "                MPG.city          0.594562\n",
              "                Horsepower        0.788218\n",
              "                Passengers        0.057860\n",
              "                Rear.seat.room    0.311499\n",
              "                Luggage.room      0.366569\n",
              "MPG.city        Price             0.594562\n",
              "                MPG.city          1.000000\n",
              "                Horsepower        0.672636\n",
              "                Passengers        0.416856\n",
              "                Rear.seat.room    0.384347\n",
              "                Luggage.room      0.494894\n",
              "Horsepower      Price             0.788218\n",
              "                MPG.city          0.672636\n",
              "                Horsepower        1.000000\n",
              "                Passengers        0.009264\n",
              "                Rear.seat.room    0.256732\n",
              "                Luggage.room      0.359217\n",
              "Passengers      Price             0.057860\n",
              "                MPG.city          0.416856\n",
              "                Horsepower        0.009264\n",
              "                Passengers        1.000000\n",
              "                Rear.seat.room    0.694134\n",
              "                Luggage.room      0.653317\n",
              "Rear.seat.room  Price             0.311499\n",
              "                MPG.city          0.384347\n",
              "                Horsepower        0.256732\n",
              "                Passengers        0.694134\n",
              "                Rear.seat.room    1.000000\n",
              "                Luggage.room      0.651968\n",
              "Luggage.room    Price             0.366569\n",
              "                MPG.city          0.494894\n",
              "                Horsepower        0.359217\n",
              "                Passengers        0.653317\n",
              "                Rear.seat.room    0.651968\n",
              "                Luggage.room      1.000000\n",
              "dtype: float64"
            ]
          },
          "metadata": {
            "tags": []
          },
          "execution_count": 28
        }
      ]
    },
    {
      "cell_type": "markdown",
      "metadata": {
        "id": "eySRLBQMZgvu"
      },
      "source": [
        "Remove useless corr with val 1 for same col such as: price, price"
      ]
    },
    {
      "cell_type": "code",
      "metadata": {
        "colab": {
          "base_uri": "https://localhost:8080/"
        },
        "id": "3_-6DPnyYOVM",
        "outputId": "c1c92be0-3f91-480d-9fe4-42e2f29fef0e"
      },
      "source": [
        "labels_to_drop = []\n",
        "for i in cars_df.corr().columns:\n",
        "  labels_to_drop.append((i,i))\n",
        "labels_to_drop "
      ],
      "execution_count": null,
      "outputs": [
        {
          "output_type": "execute_result",
          "data": {
            "text/plain": [
              "[('Price', 'Price'),\n",
              " ('MPG.city', 'MPG.city'),\n",
              " ('Horsepower', 'Horsepower'),\n",
              " ('Passengers', 'Passengers'),\n",
              " ('Rear.seat.room', 'Rear.seat.room'),\n",
              " ('Luggage.room', 'Luggage.room')]"
            ]
          },
          "metadata": {
            "tags": []
          },
          "execution_count": 31
        }
      ]
    },
    {
      "cell_type": "code",
      "metadata": {
        "colab": {
          "base_uri": "https://localhost:8080/"
        },
        "id": "RLMAgMN6Y6t9",
        "outputId": "2eef0244-cc6f-44ed-8a41-45d9ae14e0a1"
      },
      "source": [
        "unstacked_corr = cars_df.corr().abs().unstack()\n",
        "unstacked_corr_filter = unstacked_corr.drop(labels_to_drop, axis = 0)\n",
        "unstacked_corr_filter"
      ],
      "execution_count": null,
      "outputs": [
        {
          "output_type": "execute_result",
          "data": {
            "text/plain": [
              "Price           MPG.city          0.594562\n",
              "                Horsepower        0.788218\n",
              "                Passengers        0.057860\n",
              "                Rear.seat.room    0.311499\n",
              "                Luggage.room      0.366569\n",
              "MPG.city        Price             0.594562\n",
              "                Horsepower        0.672636\n",
              "                Passengers        0.416856\n",
              "                Rear.seat.room    0.384347\n",
              "                Luggage.room      0.494894\n",
              "Horsepower      Price             0.788218\n",
              "                MPG.city          0.672636\n",
              "                Passengers        0.009264\n",
              "                Rear.seat.room    0.256732\n",
              "                Luggage.room      0.359217\n",
              "Passengers      Price             0.057860\n",
              "                MPG.city          0.416856\n",
              "                Horsepower        0.009264\n",
              "                Rear.seat.room    0.694134\n",
              "                Luggage.room      0.653317\n",
              "Rear.seat.room  Price             0.311499\n",
              "                MPG.city          0.384347\n",
              "                Horsepower        0.256732\n",
              "                Passengers        0.694134\n",
              "                Luggage.room      0.651968\n",
              "Luggage.room    Price             0.366569\n",
              "                MPG.city          0.494894\n",
              "                Horsepower        0.359217\n",
              "                Passengers        0.653317\n",
              "                Rear.seat.room    0.651968\n",
              "dtype: float64"
            ]
          },
          "metadata": {
            "tags": []
          },
          "execution_count": 34
        }
      ]
    },
    {
      "cell_type": "code",
      "metadata": {
        "colab": {
          "base_uri": "https://localhost:8080/"
        },
        "id": "b7W0XGZSZGvx",
        "outputId": "969c3aae-898d-467f-e52e-bfc23235854e"
      },
      "source": [
        "top5_corr = unstacked_corr_filter.sort_values(ascending = False)[:10:2]\n",
        "top5_corr"
      ],
      "execution_count": null,
      "outputs": [
        {
          "output_type": "execute_result",
          "data": {
            "text/plain": [
              "Price         Horsepower        0.788218\n",
              "Passengers    Rear.seat.room    0.694134\n",
              "MPG.city      Horsepower        0.672636\n",
              "Luggage.room  Passengers        0.653317\n",
              "              Rear.seat.room    0.651968\n",
              "dtype: float64"
            ]
          },
          "metadata": {
            "tags": []
          },
          "execution_count": 39
        }
      ]
    },
    {
      "cell_type": "code",
      "metadata": {
        "colab": {
          "base_uri": "https://localhost:8080/"
        },
        "id": "3W-zCOS5adpj",
        "outputId": "b31d2172-0fa8-41c7-a041-62420a0156cc"
      },
      "source": [
        "top5_corr.index"
      ],
      "execution_count": null,
      "outputs": [
        {
          "output_type": "execute_result",
          "data": {
            "text/plain": [
              "MultiIndex([(       'Price',     'Horsepower'),\n",
              "            (  'Passengers', 'Rear.seat.room'),\n",
              "            (    'MPG.city',     'Horsepower'),\n",
              "            ('Luggage.room',     'Passengers'),\n",
              "            ('Luggage.room', 'Rear.seat.room')],\n",
              "           )"
            ]
          },
          "metadata": {
            "tags": []
          },
          "execution_count": 41
        }
      ]
    },
    {
      "cell_type": "code",
      "metadata": {
        "id": "roYeZskMa9JQ"
      },
      "source": [
        "top5_corr"
      ],
      "execution_count": null,
      "outputs": []
    },
    {
      "cell_type": "code",
      "metadata": {
        "colab": {
          "base_uri": "https://localhost:8080/",
          "height": 1000
        },
        "id": "or185ZWyZwEG",
        "outputId": "65ee43bc-b95f-474e-b179-55bc88f67200"
      },
      "source": [
        "for i,j in top5_corr.index:\n",
        "  sns.scatterplot(x = i , y = j, data = cars_df)\n",
        "  plt.show()\n",
        "  print(\"Correlate between {} and {} is {}\\n\\n\".format(i, j, cars_df.corr()[i][j]))\n"
      ],
      "execution_count": null,
      "outputs": [
        {
          "output_type": "display_data",
          "data": {
            "image/png": "[encoded data removed]",
            "text/plain": [
              "<Figure size 432x288 with 1 Axes>"
            ]
          },
          "metadata": {
            "tags": [],
            "needs_background": "light"
          }
        },
        {
          "output_type": "stream",
          "text": [
            "Correlate between Price and Horsepower is 0.7882175778513332\n",
            "\n",
            "\n"
          ],
          "name": "stdout"
        },
        {
          "output_type": "display_data",
          "data": {
            "image/png": "[encoded data removed]",
            "text/plain": [
              "<Figure size 432x288 with 1 Axes>"
            ]
          },
          "metadata": {
            "tags": [],
            "needs_background": "light"
          }
        },
        {
          "output_type": "stream",
          "text": [
            "Correlate between Passengers and Rear.seat.room is 0.6941337338026606\n",
            "\n",
            "\n"
          ],
          "name": "stdout"
        },
        {
          "output_type": "display_data",
          "data": {
            "image/png": "[encoded data removed]",
            "text/plain": [
              "<Figure size 432x288 with 1 Axes>"
            ]
          },
          "metadata": {
            "tags": [],
            "needs_background": "light"
          }
        },
        {
          "output_type": "stream",
          "text": [
            "Correlate between MPG.city and Horsepower is -0.6726361507957245\n",
            "\n",
            "\n"
          ],
          "name": "stdout"
        },
        {
          "output_type": "display_data",
          "data": {
            "image/png": "[encoded data removed]",
            "text/plain": [
              "<Figure size 432x288 with 1 Axes>"
            ]
          },
          "metadata": {
            "tags": [],
            "needs_background": "light"
          }
        },
        {
          "output_type": "stream",
          "text": [
            "Correlate between Luggage.room and Passengers is 0.6533165580120929\n",
            "\n",
            "\n"
          ],
          "name": "stdout"
        },
        {
          "output_type": "display_data",
          "data": {
            "image/png": "[encoded data removed]",
            "text/plain": [
              "<Figure size 432x288 with 1 Axes>"
            ]
          },
          "metadata": {
            "tags": [],
            "needs_background": "light"
          }
        },
        {
          "output_type": "stream",
          "text": [
            "Correlate between Luggage.room and Rear.seat.room is 0.651967509653197\n",
            "\n",
            "\n"
          ],
          "name": "stdout"
        }
      ]
    },
    {
      "cell_type": "code",
      "metadata": {
        "id": "94cyxBhCbYQK"
      },
      "source": [
        ""
      ],
      "execution_count": null,
      "outputs": []
    }
  ]
}