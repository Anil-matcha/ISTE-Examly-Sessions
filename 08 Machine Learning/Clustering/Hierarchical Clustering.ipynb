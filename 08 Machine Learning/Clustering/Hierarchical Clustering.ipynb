{
 "cells": [
  {
   "cell_type": "code",
   "execution_count": 1,
   "metadata": {},
   "outputs": [],
   "source": [
    "import numpy as np\n",
    "import pandas as pd\n",
    "import matplotlib.pyplot as plt\n",
    "import seaborn as sns\n",
    "%matplotlib inline"
   ]
  },
  {
   "cell_type": "code",
   "execution_count": 2,
   "metadata": {},
   "outputs": [],
   "source": [
    "import warnings\n",
    "warnings.filterwarnings('ignore')"
   ]
  },
  {
   "cell_type": "code",
   "execution_count": 3,
   "metadata": {},
   "outputs": [
    {
     "data": {
      "text/html": [
       "<div>\n",
       "<style scoped>\n",
       "    .dataframe tbody tr th:only-of-type {\n",
       "        vertical-align: middle;\n",
       "    }\n",
       "\n",
       "    .dataframe tbody tr th {\n",
       "        vertical-align: top;\n",
       "    }\n",
       "\n",
       "    .dataframe thead th {\n",
       "        text-align: right;\n",
       "    }\n",
       "</style>\n",
       "<table border=\"1\" class=\"dataframe\">\n",
       "  <thead>\n",
       "    <tr style=\"text-align: right;\">\n",
       "      <th></th>\n",
       "      <th>CustomerID</th>\n",
       "      <th>Gender</th>\n",
       "      <th>Age</th>\n",
       "      <th>Annual Income (k$)</th>\n",
       "      <th>Spending Score (1-100)</th>\n",
       "    </tr>\n",
       "  </thead>\n",
       "  <tbody>\n",
       "    <tr>\n",
       "      <td>0</td>\n",
       "      <td>1</td>\n",
       "      <td>Male</td>\n",
       "      <td>19</td>\n",
       "      <td>15</td>\n",
       "      <td>39</td>\n",
       "    </tr>\n",
       "    <tr>\n",
       "      <td>1</td>\n",
       "      <td>2</td>\n",
       "      <td>Male</td>\n",
       "      <td>21</td>\n",
       "      <td>15</td>\n",
       "      <td>81</td>\n",
       "    </tr>\n",
       "    <tr>\n",
       "      <td>2</td>\n",
       "      <td>3</td>\n",
       "      <td>Female</td>\n",
       "      <td>20</td>\n",
       "      <td>16</td>\n",
       "      <td>6</td>\n",
       "    </tr>\n",
       "    <tr>\n",
       "      <td>3</td>\n",
       "      <td>4</td>\n",
       "      <td>Female</td>\n",
       "      <td>23</td>\n",
       "      <td>16</td>\n",
       "      <td>77</td>\n",
       "    </tr>\n",
       "    <tr>\n",
       "      <td>4</td>\n",
       "      <td>5</td>\n",
       "      <td>Female</td>\n",
       "      <td>31</td>\n",
       "      <td>17</td>\n",
       "      <td>40</td>\n",
       "    </tr>\n",
       "  </tbody>\n",
       "</table>\n",
       "</div>"
      ],
      "text/plain": [
       "   CustomerID  Gender  Age  Annual Income (k$)  Spending Score (1-100)\n",
       "0           1    Male   19                  15                      39\n",
       "1           2    Male   21                  15                      81\n",
       "2           3  Female   20                  16                       6\n",
       "3           4  Female   23                  16                      77\n",
       "4           5  Female   31                  17                      40"
      ]
     },
     "execution_count": 3,
     "metadata": {},
     "output_type": "execute_result"
    }
   ],
   "source": [
    "df = pd.read_csv(\"data/Mall_Customers.csv\")\n",
    "df.head()"
   ]
  },
  {
   "cell_type": "code",
   "execution_count": 4,
   "metadata": {},
   "outputs": [
    {
     "name": "stdout",
     "output_type": "stream",
     "text": [
      "Size of the data :  (200, 5)\n"
     ]
    }
   ],
   "source": [
    "print(\"Size of the data : \", df.shape)"
   ]
  },
  {
   "cell_type": "markdown",
   "metadata": {},
   "source": [
    "### Segmentation using Age and Spending Score"
   ]
  },
  {
   "cell_type": "code",
   "execution_count": 6,
   "metadata": {},
   "outputs": [
    {
     "data": {
      "text/html": [
       "<div>\n",
       "<style scoped>\n",
       "    .dataframe tbody tr th:only-of-type {\n",
       "        vertical-align: middle;\n",
       "    }\n",
       "\n",
       "    .dataframe tbody tr th {\n",
       "        vertical-align: top;\n",
       "    }\n",
       "\n",
       "    .dataframe thead th {\n",
       "        text-align: right;\n",
       "    }\n",
       "</style>\n",
       "<table border=\"1\" class=\"dataframe\">\n",
       "  <thead>\n",
       "    <tr style=\"text-align: right;\">\n",
       "      <th></th>\n",
       "      <th>Age</th>\n",
       "      <th>Spending Score (1-100)</th>\n",
       "    </tr>\n",
       "  </thead>\n",
       "  <tbody>\n",
       "    <tr>\n",
       "      <td>0</td>\n",
       "      <td>19</td>\n",
       "      <td>39</td>\n",
       "    </tr>\n",
       "    <tr>\n",
       "      <td>1</td>\n",
       "      <td>21</td>\n",
       "      <td>81</td>\n",
       "    </tr>\n",
       "    <tr>\n",
       "      <td>2</td>\n",
       "      <td>20</td>\n",
       "      <td>6</td>\n",
       "    </tr>\n",
       "    <tr>\n",
       "      <td>3</td>\n",
       "      <td>23</td>\n",
       "      <td>77</td>\n",
       "    </tr>\n",
       "    <tr>\n",
       "      <td>4</td>\n",
       "      <td>31</td>\n",
       "      <td>40</td>\n",
       "    </tr>\n",
       "  </tbody>\n",
       "</table>\n",
       "</div>"
      ],
      "text/plain": [
       "   Age  Spending Score (1-100)\n",
       "0   19                      39\n",
       "1   21                      81\n",
       "2   20                       6\n",
       "3   23                      77\n",
       "4   31                      40"
      ]
     },
     "execution_count": 6,
     "metadata": {},
     "output_type": "execute_result"
    }
   ],
   "source": [
    "X = df[[\"Age\", \"Spending Score (1-100)\"]]\n",
    "X.head()"
   ]
  },
  {
   "cell_type": "code",
   "execution_count": 7,
   "metadata": {},
   "outputs": [],
   "source": [
    "import scipy.cluster.hierarchy as shc"
   ]
  },
  {
   "cell_type": "markdown",
   "metadata": {},
   "source": [
    "#### Using just 5 points initially for better undersatnding"
   ]
  },
  {
   "cell_type": "code",
   "execution_count": 54,
   "metadata": {},
   "outputs": [
    {
     "data": {
      "text/plain": [
       "array([[ 1.        ,  3.        ,  4.47213595,  2.        ],\n",
       "       [ 0.        ,  4.        , 12.04159458,  2.        ],\n",
       "       [ 2.        ,  6.        , 33.01514804,  3.        ],\n",
       "       [ 5.        ,  7.        , 37.85498646,  5.        ]])"
      ]
     },
     "execution_count": 54,
     "metadata": {},
     "output_type": "execute_result"
    }
   ],
   "source": [
    "agglo_clusters_5 = shc.linkage(X.iloc[:5,:])\n",
    "agglo_clusters_5\n",
    "# return a (n-1)x4 matrix where first two columns contain the cluster(point) id(index) to form the next cluster.\n",
    "# 3rd column represents the distance between the merging clusters.\n",
    "# 4th column represents number of original observations in the newly formed cluster."
   ]
  },
  {
   "cell_type": "code",
   "execution_count": 55,
   "metadata": {},
   "outputs": [
    {
     "data": {
      "text/html": [
       "<div>\n",
       "<style scoped>\n",
       "    .dataframe tbody tr th:only-of-type {\n",
       "        vertical-align: middle;\n",
       "    }\n",
       "\n",
       "    .dataframe tbody tr th {\n",
       "        vertical-align: top;\n",
       "    }\n",
       "\n",
       "    .dataframe thead th {\n",
       "        text-align: right;\n",
       "    }\n",
       "</style>\n",
       "<table border=\"1\" class=\"dataframe\">\n",
       "  <thead>\n",
       "    <tr style=\"text-align: right;\">\n",
       "      <th></th>\n",
       "      <th>Cluster_id1</th>\n",
       "      <th>Cluster_id2</th>\n",
       "      <th>distance</th>\n",
       "      <th>points_in_new_cluster</th>\n",
       "    </tr>\n",
       "  </thead>\n",
       "  <tbody>\n",
       "    <tr>\n",
       "      <td>0</td>\n",
       "      <td>1.0</td>\n",
       "      <td>3.0</td>\n",
       "      <td>4.472136</td>\n",
       "      <td>2.0</td>\n",
       "    </tr>\n",
       "    <tr>\n",
       "      <td>1</td>\n",
       "      <td>0.0</td>\n",
       "      <td>4.0</td>\n",
       "      <td>12.041595</td>\n",
       "      <td>2.0</td>\n",
       "    </tr>\n",
       "    <tr>\n",
       "      <td>2</td>\n",
       "      <td>2.0</td>\n",
       "      <td>6.0</td>\n",
       "      <td>33.015148</td>\n",
       "      <td>3.0</td>\n",
       "    </tr>\n",
       "    <tr>\n",
       "      <td>3</td>\n",
       "      <td>5.0</td>\n",
       "      <td>7.0</td>\n",
       "      <td>37.854986</td>\n",
       "      <td>5.0</td>\n",
       "    </tr>\n",
       "  </tbody>\n",
       "</table>\n",
       "</div>"
      ],
      "text/plain": [
       "   Cluster_id1  Cluster_id2   distance  points_in_new_cluster\n",
       "0          1.0          3.0   4.472136                    2.0\n",
       "1          0.0          4.0  12.041595                    2.0\n",
       "2          2.0          6.0  33.015148                    3.0\n",
       "3          5.0          7.0  37.854986                    5.0"
      ]
     },
     "execution_count": 55,
     "metadata": {},
     "output_type": "execute_result"
    }
   ],
   "source": [
    "pd.DataFrame(agglo_clusters_5, columns = [\"Cluster_id1\", \"Cluster_id2\", \"distance\", \"points_in_new_cluster\"])"
   ]
  },
  {
   "cell_type": "code",
   "execution_count": 56,
   "metadata": {},
   "outputs": [
    {
     "data": {
      "image/png": "[encoded data removed]",
      "text/plain": [
       "<Figure size 432x288 with 1 Axes>"
      ]
     },
     "metadata": {
      "needs_background": "light"
     },
     "output_type": "display_data"
    }
   ],
   "source": [
    "plt.title(\"Customer Dendrogram\")\n",
    "dend = shc.dendrogram(agglo_clusters_5)"
   ]
  },
  {
   "cell_type": "markdown",
   "metadata": {},
   "source": [
    "#### Using the complete data"
   ]
  },
  {
   "cell_type": "code",
   "execution_count": 57,
   "metadata": {},
   "outputs": [
    {
     "data": {
      "text/plain": [
       "array([[ 16.        ,  20.        ,   0.        ,   2.        ],\n",
       "       [ 42.        , 146.        ,   0.        ,   2.        ],\n",
       "       [ 37.        , 159.        ,   0.        ,   2.        ],\n",
       "       [147.        , 197.        ,   0.        ,   2.        ],\n",
       "       [  1.        ,  35.        ,   0.        ,   2.        ],\n",
       "       [135.        , 183.        ,   0.        ,   2.        ],\n",
       "       [154.        , 194.        ,   0.        ,   2.        ],\n",
       "       [ 12.        , 176.        ,   0.        ,   2.        ],\n",
       "       [ 61.        , 111.        ,   1.        ,   2.        ],\n",
       "       [ 65.        ,  68.        ,   1.        ,   2.        ],\n",
       "       [ 78.        ,  95.        ,   1.        ,   2.        ],\n",
       "       [ 75.        , 103.        ,   1.        ,   2.        ],\n",
       "       [ 58.        ,  97.        ,   1.        ,   2.        ],\n",
       "       [ 49.        ,  94.        ,   1.        ,   2.        ],\n",
       "       [ 55.        ,  71.        ,   1.        ,   2.        ],\n",
       "       [ 98.        , 214.        ,   1.        ,   3.        ],\n",
       "       [ 79.        , 215.        ,   1.        ,   4.        ],\n",
       "       [ 54.        ,  89.        ,   1.        ,   2.        ],\n",
       "       [ 59.        , 107.        ,   1.        ,   2.        ],\n",
       "       [ 60.        ,  70.        ,   1.        ,   2.        ],\n",
       "       [ 38.        , 168.        ,   1.        ,   2.        ],\n",
       "       [148.        , 190.        ,   1.        ,   2.        ],\n",
       "       [ 51.        ,  88.        ,   1.        ,   2.        ],\n",
       "       [  9.        , 202.        ,   1.        ,   3.        ],\n",
       "       [ 23.        , 223.        ,   1.        ,   4.        ],\n",
       "       [137.        , 224.        ,   1.        ,   5.        ],\n",
       "       [203.        , 225.        ,   1.        ,   7.        ],\n",
       "       [129.        , 131.        ,   1.        ,   2.        ],\n",
       "       [153.        , 227.        ,   1.        ,   3.        ],\n",
       "       [  3.        ,  13.        ,   1.        ,   2.        ],\n",
       "       [ 25.        , 161.        ,   1.        ,   2.        ],\n",
       "       [199.        , 230.        ,   1.        ,   3.        ],\n",
       "       [143.        , 181.        ,   1.        ,   2.        ],\n",
       "       [149.        , 179.        ,   1.        ,   2.        ],\n",
       "       [123.        , 193.        ,   1.        ,   2.        ],\n",
       "       [141.        , 163.        ,   1.        ,   2.        ],\n",
       "       [ 11.        ,  19.        ,   1.        ,   2.        ],\n",
       "       [ 36.        , 188.        ,   1.        ,   2.        ],\n",
       "       [150.        , 237.        ,   1.        ,   3.        ],\n",
       "       [  2.        , 134.        ,   1.        ,   2.        ],\n",
       "       [162.        , 239.        ,   1.        ,   3.        ],\n",
       "       [ 99.        , 115.        ,   1.41421356,   2.        ],\n",
       "       [120.        , 211.        ,   1.41421356,   3.        ],\n",
       "       [ 93.        , 184.        ,   1.41421356,   2.        ],\n",
       "       [ 85.        ,  96.        ,   1.41421356,   2.        ],\n",
       "       [ 92.        , 101.        ,   1.41421356,   2.        ],\n",
       "       [ 46.        , 104.        ,   1.41421356,   2.        ],\n",
       "       [119.        , 246.        ,   1.41421356,   3.        ],\n",
       "       [ 63.        ,  86.        ,   1.41421356,   2.        ],\n",
       "       [ 27.        , 222.        ,   1.41421356,   3.        ],\n",
       "       [133.        , 226.        ,   1.41421356,   8.        ],\n",
       "       [125.        , 157.        ,   1.41421356,   2.        ],\n",
       "       [  5.        , 229.        ,   1.41421356,   3.        ],\n",
       "       [177.        , 187.        ,   1.41421356,   2.        ],\n",
       "       [182.        , 206.        ,   1.41421356,   3.        ],\n",
       "       [178.        , 207.        ,   1.41421356,   3.        ],\n",
       "       [  4.        , 213.        ,   2.        ,   3.        ],\n",
       "       [ 48.        , 256.        ,   2.        ,   4.        ],\n",
       "       [112.        , 121.        ,   2.        ,   2.        ],\n",
       "       [243.        , 258.        ,   2.        ,   4.        ],\n",
       "       [217.        , 244.        ,   2.        ,   4.        ],\n",
       "       [ 62.        , 110.        ,   2.        ,   2.        ],\n",
       "       [106.        , 109.        ,   2.        ,   2.        ],\n",
       "       [ 67.        , 262.        ,   2.        ,   3.        ],\n",
       "       [ 90.        , 219.        ,   2.        ,   3.        ],\n",
       "       [165.        , 228.        ,   2.        ,   4.        ],\n",
       "       [175.        , 232.        ,   2.        ,   3.        ],\n",
       "       [145.        , 185.        ,   2.        ,   2.        ],\n",
       "       [152.        , 166.        ,   2.        ,   2.        ],\n",
       "       [  0.        ,  91.        ,   2.23606798,   2.        ],\n",
       "       [100.        , 105.        ,   2.23606798,   2.        ],\n",
       "       [113.        , 114.        ,   2.23606798,   2.        ],\n",
       "       [241.        , 271.        ,   2.23606798,   4.        ],\n",
       "       [ 84.        ,  87.        ,   2.23606798,   2.        ],\n",
       "       [142.        , 257.        ,   2.23606798,   5.        ],\n",
       "       [ 44.        , 164.        ,   2.23606798,   2.        ],\n",
       "       [ 83.        , 216.        ,   2.23606798,   5.        ],\n",
       "       [118.        , 276.        ,   2.23606798,   6.        ],\n",
       "       [260.        , 277.        ,   2.23606798,  10.        ],\n",
       "       [245.        , 278.        ,   2.23606798,  12.        ],\n",
       "       [117.        , 247.        ,   2.23606798,   4.        ],\n",
       "       [ 72.        ,  74.        ,   2.23606798,   2.        ],\n",
       "       [ 64.        , 261.        ,   2.23606798,   3.        ],\n",
       "       [263.        , 282.        ,   2.23606798,   6.        ],\n",
       "       [ 57.        , 283.        ,   2.23606798,   7.        ],\n",
       "       [ 82.        , 108.        ,   2.23606798,   2.        ],\n",
       "       [ 43.        , 249.        ,   2.23606798,   4.        ],\n",
       "       [169.        , 286.        ,   2.23606798,   5.        ],\n",
       "       [191.        , 250.        ,   2.23606798,   9.        ],\n",
       "       [ 31.        ,  39.        ,   2.23606798,   2.        ],\n",
       "       [252.        , 289.        ,   2.23606798,   5.        ],\n",
       "       [ 15.        , 290.        ,   2.23606798,   6.        ],\n",
       "       [204.        , 291.        ,   2.23606798,   8.        ],\n",
       "       [205.        , 266.        ,   2.23606798,   5.        ],\n",
       "       [155.        , 293.        ,   2.23606798,   6.        ],\n",
       "       [173.        , 233.        ,   2.23606798,   3.        ],\n",
       "       [234.        , 295.        ,   2.23606798,   5.        ],\n",
       "       [167.        , 235.        ,   2.23606798,   3.        ],\n",
       "       [  7.        ,  41.        ,   2.23606798,   2.        ],\n",
       "       [ 24.        , 174.        ,   2.23606798,   2.        ],\n",
       "       [208.        , 273.        ,   2.82842712,   4.        ],\n",
       "       [209.        , 300.        ,   2.82842712,   6.        ],\n",
       "       [210.        , 242.        ,   2.82842712,   5.        ],\n",
       "       [ 56.        , 279.        ,   2.82842712,  13.        ],\n",
       "       [ 50.        , 303.        ,   2.82842712,  14.        ],\n",
       "       [171.        , 288.        ,   2.82842712,  10.        ],\n",
       "       [  6.        , 192.        ,   2.82842712,   2.        ],\n",
       "       [ 34.        , 254.        ,   2.82842712,   4.        ],\n",
       "       [ 22.        , 136.        ,   2.82842712,   2.        ],\n",
       "       [ 47.        , 212.        ,   3.        ,   3.        ],\n",
       "       [218.        , 304.        ,   3.        ,  16.        ],\n",
       "       [231.        , 294.        ,   3.        ,   9.        ],\n",
       "       [151.        , 296.        ,   3.        ,   6.        ],\n",
       "       [ 14.        , 170.        ,   3.        ,   2.        ],\n",
       "       [238.        , 268.        ,   3.        ,   5.        ],\n",
       "       [128.        , 255.        ,   3.        ,   4.        ],\n",
       "       [156.        , 158.        ,   3.        ,   2.        ],\n",
       "       [269.        , 270.        ,   3.16227766,   4.        ],\n",
       "       [301.        , 302.        ,   3.16227766,  11.        ],\n",
       "       [309.        , 318.        ,   3.16227766,  14.        ],\n",
       "       [ 18.        , 275.        ,   3.16227766,   3.        ],\n",
       "       [ 28.        , 180.        ,   3.16227766,   2.        ],\n",
       "       [280.        , 310.        ,   3.16227766,  20.        ],\n",
       "       [264.        , 284.        ,   3.16227766,  10.        ],\n",
       "       [285.        , 323.        ,   3.16227766,  12.        ],\n",
       "       [251.        , 305.        ,   3.16227766,  12.        ],\n",
       "       [139.        , 325.        ,   3.16227766,  13.        ],\n",
       "       [265.        , 326.        ,   3.16227766,  17.        ],\n",
       "       [172.        , 313.        ,   3.16227766,   3.        ],\n",
       "       [299.        , 307.        ,   3.16227766,   6.        ],\n",
       "       [ 30.        , 140.        ,   3.16227766,   2.        ],\n",
       "       [ 26.        , 126.        ,   3.60555128,   2.        ],\n",
       "       [200.        , 321.        ,   3.60555128,   4.        ],\n",
       "       [ 66.        ,  76.        ,   3.60555128,   2.        ],\n",
       "       [ 77.        , 333.        ,   3.60555128,   3.        ],\n",
       "       [281.        , 324.        ,   3.60555128,  14.        ],\n",
       "       [ 80.        , 335.        ,   3.60555128,  15.        ],\n",
       "       [220.        , 221.        ,   3.60555128,   4.        ],\n",
       "       [ 81.        , 122.        ,   3.60555128,   2.        ],\n",
       "       [ 21.        , 327.        ,   3.60555128,  18.        ],\n",
       "       [311.        , 312.        ,   3.60555128,  15.        ],\n",
       "       [297.        , 340.        ,   3.60555128,  18.        ],\n",
       "       [236.        , 341.        ,   3.60555128,  20.        ],\n",
       "       [267.        , 342.        ,   3.60555128,  22.        ],\n",
       "       [306.        , 328.        ,   3.60555128,   5.        ],\n",
       "       [314.        , 329.        ,   3.60555128,  11.        ],\n",
       "       [130.        , 308.        ,   3.60555128,   3.        ],\n",
       "       [272.        , 319.        ,   4.        ,  18.        ],\n",
       "       [196.        , 331.        ,   4.        ,   3.        ],\n",
       "       [320.        , 348.        ,   4.        ,   6.        ],\n",
       "       [292.        , 339.        ,   4.        ,  26.        ],\n",
       "       [322.        , 334.        ,   4.12310563,  23.        ],\n",
       "       [ 53.        ,  73.        ,   4.12310563,   2.        ],\n",
       "       [102.        , 336.        ,   4.12310563,  16.        ],\n",
       "       [343.        , 350.        ,   4.12310563,  48.        ],\n",
       "       [127.        , 354.        ,   4.12310563,  49.        ],\n",
       "       [253.        , 355.        ,   4.12310563,  51.        ],\n",
       "       [189.        , 356.        ,   4.12310563,  52.        ],\n",
       "       [195.        , 357.        ,   4.12310563,  53.        ],\n",
       "       [ 17.        ,  45.        ,   4.12310563,   2.        ],\n",
       "       [344.        , 345.        ,   4.12310563,  16.        ],\n",
       "       [315.        , 360.        ,   4.12310563,  20.        ],\n",
       "       [  8.        , 330.        ,   4.12310563,   3.        ],\n",
       "       [ 32.        , 362.        ,   4.12310563,   4.        ],\n",
       "       [138.        , 240.        ,   4.12310563,   4.        ],\n",
       "       [298.        , 358.        ,   4.24264069,  55.        ],\n",
       "       [317.        , 347.        ,   4.47213595,  22.        ],\n",
       "       [ 52.        , 366.        ,   4.47213595,  23.        ],\n",
       "       [259.        , 349.        ,   4.47213595,  10.        ],\n",
       "       [186.        , 368.        ,   4.47213595,  11.        ],\n",
       "       [248.        , 351.        ,   4.47213595,  25.        ],\n",
       "       [352.        , 370.        ,   4.47213595,  27.        ],\n",
       "       [116.        , 353.        ,   4.47213595,  17.        ],\n",
       "       [198.        , 337.        ,   4.47213595,   5.        ],\n",
       "       [ 29.        , 365.        ,   4.47213595,  56.        ],\n",
       "       [ 69.        , 367.        ,   5.        ,  24.        ],\n",
       "       [274.        , 375.        ,   5.        ,  29.        ],\n",
       "       [332.        , 369.        ,   5.        ,  15.        ],\n",
       "       [201.        , 377.        ,   5.        ,  17.        ],\n",
       "       [359.        , 374.        ,   5.        ,  58.        ],\n",
       "       [371.        , 378.        ,   5.09901951,  44.        ],\n",
       "       [372.        , 380.        ,   5.09901951,  61.        ],\n",
       "       [373.        , 381.        ,   5.09901951,  66.        ],\n",
       "       [316.        , 361.        ,   5.09901951,  22.        ],\n",
       "       [ 33.        , 379.        ,   5.38516481,  59.        ],\n",
       "       [124.        , 132.        ,   5.38516481,   2.        ],\n",
       "       [346.        , 383.        ,   5.38516481,  25.        ],\n",
       "       [287.        , 338.        ,   5.83095189,   7.        ],\n",
       "       [376.        , 382.        ,   6.        ,  95.        ],\n",
       "       [384.        , 387.        ,   6.        ,  66.        ],\n",
       "       [ 40.        , 388.        ,   6.32455532,  96.        ],\n",
       "       [389.        , 390.        ,   6.32455532, 162.        ],\n",
       "       [363.        , 386.        ,   6.32455532,  29.        ],\n",
       "       [144.        , 364.        ,   6.32455532,   5.        ],\n",
       "       [385.        , 391.        ,   6.70820393, 164.        ],\n",
       "       [392.        , 394.        ,   7.07106781, 193.        ],\n",
       "       [160.        , 395.        ,   7.21110255, 194.        ],\n",
       "       [ 10.        , 396.        ,   8.        , 195.        ],\n",
       "       [393.        , 397.        ,   8.94427191, 200.        ]])"
      ]
     },
     "execution_count": 57,
     "metadata": {},
     "output_type": "execute_result"
    }
   ],
   "source": [
    "agglo_clusters = shc.linkage(X,method = \"ward\")\n",
    "agglo_clusters"
   ]
  },
  {
   "cell_type": "code",
   "execution_count": 58,
   "metadata": {},
   "outputs": [
    {
     "data": {
      "text/plain": [
       "(199, 4)"
      ]
     },
     "execution_count": 58,
     "metadata": {},
     "output_type": "execute_result"
    }
   ],
   "source": [
    "agglo_clusters.shape"
   ]
  },
  {
   "cell_type": "code",
   "execution_count": 70,
   "metadata": {},
   "outputs": [
    {
     "data": {
      "image/png": "[encoded data removed]",
      "text/plain": [
       "<Figure size 864x576 with 1 Axes>"
      ]
     },
     "metadata": {
      "needs_background": "light"
     },
     "output_type": "display_data"
    }
   ],
   "source": [
    "plt.figure(figsize = (12,8))\n",
    "plt.title(\"Customer Dendrogram\")\n",
    "dend = shc.dendrogram(shc.linkage(X, method = \"ward\"))"
   ]
  },
  {
   "cell_type": "markdown",
   "metadata": {},
   "source": [
    "### Implementation using sklearn"
   ]
  },
  {
   "cell_type": "code",
   "execution_count": 75,
   "metadata": {},
   "outputs": [],
   "source": [
    "from sklearn.cluster import AgglomerativeClustering "
   ]
  },
  {
   "cell_type": "code",
   "execution_count": 76,
   "metadata": {},
   "outputs": [
    {
     "data": {
      "text/plain": [
       "AgglomerativeClustering(affinity='euclidean', compute_full_tree='auto',\n",
       "                        connectivity=None, distance_threshold=None,\n",
       "                        linkage='ward', memory=None, n_clusters=4)"
      ]
     },
     "execution_count": 76,
     "metadata": {},
     "output_type": "execute_result"
    }
   ],
   "source": [
    "agglo_clustering = AgglomerativeClustering(n_clusters = 4, affinity = \"euclidean\", linkage = \"ward\")\n",
    "agglo_clustering.fit(X)"
   ]
  },
  {
   "cell_type": "code",
   "execution_count": 77,
   "metadata": {},
   "outputs": [
    {
     "data": {
      "text/plain": [
       "array([0, 3, 2, 3, 0, 3, 2, 3, 2, 3, 2, 3, 2, 3, 2, 3, 0, 0, 0, 3, 0, 3,\n",
       "       2, 3, 2, 3, 0, 1, 0, 3, 2, 3, 2, 3, 2, 3, 2, 3, 2, 3, 1, 3, 0, 1,\n",
       "       0, 0, 1, 0, 0, 0, 1, 1, 0, 1, 1, 1, 1, 1, 0, 1, 1, 0, 1, 1, 1, 0,\n",
       "       1, 1, 0, 0, 1, 1, 1, 1, 1, 0, 1, 1, 0, 1, 1, 1, 1, 1, 0, 1, 1, 0,\n",
       "       1, 1, 1, 0, 1, 0, 0, 0, 1, 0, 1, 0, 0, 1, 1, 0, 1, 0, 1, 1, 1, 1,\n",
       "       1, 0, 0, 0, 0, 0, 1, 1, 1, 1, 0, 0, 1, 3, 0, 3, 0, 3, 2, 3, 2, 3,\n",
       "       0, 3, 2, 3, 2, 3, 2, 3, 2, 3, 0, 3, 2, 3, 0, 3, 2, 3, 2, 3, 2, 3,\n",
       "       2, 3, 2, 3, 2, 3, 1, 3, 2, 3, 0, 3, 2, 3, 2, 1, 2, 3, 2, 3, 2, 3,\n",
       "       2, 3, 2, 3, 0, 3, 2, 3, 0, 3, 0, 3, 2, 3, 2, 3, 2, 3, 2, 3, 0, 3,\n",
       "       2, 3], dtype=int64)"
      ]
     },
     "execution_count": 77,
     "metadata": {},
     "output_type": "execute_result"
    }
   ],
   "source": [
    "labels = agglo_clustering.labels_\n",
    "labels"
   ]
  },
  {
   "cell_type": "code",
   "execution_count": 79,
   "metadata": {},
   "outputs": [
    {
     "data": {
      "image/png": "[encoded data removed]",
      "text/plain": [
       "<Figure size 648x504 with 1 Axes>"
      ]
     },
     "metadata": {
      "needs_background": "light"
     },
     "output_type": "display_data"
    }
   ],
   "source": [
    "plt.figure(figsize = (9,7))\n",
    "plt.scatter(X.values[labels == 0, 0], X.values[labels == 0, 1], s = 50, c = 'red', label = 'Not old Average Spenders')\n",
    "plt.scatter(X.values[labels == 1, 0], X.values[labels == 1, 1], s = 50, c = 'blue', label = 'Not Young Average Spenders')\n",
    "plt.scatter(X.values[labels == 2, 0], X.values[labels == 2, 1], s = 50, c = 'green', label = 'Low Spenders')\n",
    "plt.scatter(X.values[labels == 3, 0], X.values[labels == 3, 1], s = 50, c = 'maroon', label = 'Young High Spenders')\n",
    "plt.title('Clusters of customers')\n",
    "plt.xlabel('Age')\n",
    "plt.ylabel('Spending Score (1-100)')\n",
    "plt.legend()\n",
    "plt.show()"
   ]
  },
  {
   "cell_type": "code",
   "execution_count": 28,
   "metadata": {},
   "outputs": [],
   "source": [
    "from scipy.spatial import distance_matrix "
   ]
  },
  {
   "cell_type": "code",
   "execution_count": 80,
   "metadata": {},
   "outputs": [
    {
     "data": {
      "text/plain": [
       "array([[ 0.        , 42.04759208, 33.01514804, ..., 37.33630941,\n",
       "        24.69817807, 45.35416188],\n",
       "       [42.04759208,  0.        , 75.00666637, ..., 13.03840481,\n",
       "        63.95310782,  9.21954446],\n",
       "       [33.01514804, 75.00666637,  0.        , ..., 69.05070601,\n",
       "        16.97056275, 77.64663547],\n",
       "       ...,\n",
       "       [37.33630941, 13.03840481, 69.05070601, ...,  0.        ,\n",
       "        56.        ,  9.21954446],\n",
       "       [24.69817807, 63.95310782, 16.97056275, ..., 56.        ,\n",
       "         0.        , 65.03076195],\n",
       "       [45.35416188,  9.21954446, 77.64663547, ...,  9.21954446,\n",
       "        65.03076195,  0.        ]])"
      ]
     },
     "execution_count": 80,
     "metadata": {},
     "output_type": "execute_result"
    }
   ],
   "source": [
    "dist = distance_matrix(X, X)\n",
    "dist"
   ]
  }
 ],
 "metadata": {
  "kernelspec": {
   "display_name": "Python 3",
   "language": "python",
   "name": "python3"
  },
  "language_info": {
   "codemirror_mode": {
    "name": "ipython",
    "version": 3
   },
   "file_extension": ".py",
   "mimetype": "text/x-python",
   "name": "python",
   "nbconvert_exporter": "python",
   "pygments_lexer": "ipython3",
   "version": "3.7.1"
  }
 },
 "nbformat": 4,
 "nbformat_minor": 2
}
