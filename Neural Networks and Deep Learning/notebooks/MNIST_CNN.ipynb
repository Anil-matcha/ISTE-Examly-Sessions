{
  "nbformat": 4,
  "nbformat_minor": 0,
  "metadata": {
    "colab": {
      "name": "MNIST_CNN.ipynb",
      "provenance": []
    },
    "kernelspec": {
      "name": "python3",
      "display_name": "Python 3"
    },
    "accelerator": "GPU"
  },
  "cells": [
    {
      "cell_type": "code",
      "metadata": {
        "id": "oHtRSmqNVykl",
        "colab_type": "code",
        "outputId": "cf93ab4b-ace1-434a-a5ee-b5fbbc4f6a30",
        "colab": {
          "base_uri": "https://localhost:8080/",
          "height": 35
        }
      },
      "source": [
        "from __future__ import print_function\n",
        "import keras\n",
        "from keras.datasets import mnist\n",
        "from keras.models import Sequential\n",
        "from keras.layers import Dense, Dropout, Flatten\n",
        "from keras.layers import Conv2D, MaxPooling2D\n",
        "from keras import backend as K"
      ],
      "execution_count": 1,
      "outputs": [
        {
          "output_type": "stream",
          "text": [
            "Using TensorFlow backend.\n"
          ],
          "name": "stderr"
        }
      ]
    },
    {
      "cell_type": "code",
      "metadata": {
        "id": "V24jvS9YV6rb",
        "colab_type": "code",
        "colab": {}
      },
      "source": [
        "batch_size = 32\n",
        "num_classes = 10\n",
        "epochs = 12\n",
        "\n",
        "# input image dimensions\n",
        "img_rows, img_cols = 28, 28"
      ],
      "execution_count": 0,
      "outputs": []
    },
    {
      "cell_type": "code",
      "metadata": {
        "id": "EJQIFbS_WFbJ",
        "colab_type": "code",
        "outputId": "53590d06-aeac-47b2-eb73-3c8a113e1129",
        "colab": {
          "base_uri": "https://localhost:8080/",
          "height": 52
        }
      },
      "source": [
        "# the data, split between train and test sets\n",
        "(x_train, y_train), (x_test, y_test) = mnist.load_data()\n",
        "\n",
        "if K.image_data_format() == 'channels_first':\n",
        "    x_train = x_train.reshape(x_train.shape[0], 1, img_rows, img_cols)\n",
        "    x_test = x_test.reshape(x_test.shape[0], 1, img_rows, img_cols)\n",
        "    input_shape = (1, img_rows, img_cols)\n",
        "else:\n",
        "    x_train = x_train.reshape(x_train.shape[0], img_rows, img_cols, 1)\n",
        "    x_test = x_test.reshape(x_test.shape[0], img_rows, img_cols, 1)\n",
        "    input_shape = (img_rows, img_cols, 1)\n"
      ],
      "execution_count": 3,
      "outputs": [
        {
          "output_type": "stream",
          "text": [
            "Downloading data from https://s3.amazonaws.com/img-datasets/mnist.npz\n",
            "11493376/11490434 [==============================] - 2s 0us/step\n"
          ],
          "name": "stdout"
        }
      ]
    },
    {
      "cell_type": "code",
      "metadata": {
        "id": "NT-YBthZWKzb",
        "colab_type": "code",
        "outputId": "bcd88e29-28f2-4902-a673-db1ea02fe789",
        "colab": {
          "base_uri": "https://localhost:8080/",
          "height": 69
        }
      },
      "source": [
        "x_train = x_train.astype('float32')\n",
        "x_test = x_test.astype('float32')\n",
        "x_train /= 255\n",
        "x_test /= 255\n",
        "print('x_train shape:', x_train.shape)\n",
        "print(x_train.shape[0], 'train samples')\n",
        "print(x_test.shape[0], 'test samples')"
      ],
      "execution_count": 4,
      "outputs": [
        {
          "output_type": "stream",
          "text": [
            "x_train shape: (60000, 28, 28, 1)\n",
            "60000 train samples\n",
            "10000 test samples\n"
          ],
          "name": "stdout"
        }
      ]
    },
    {
      "cell_type": "code",
      "metadata": {
        "id": "NKjFcoO1WOhe",
        "colab_type": "code",
        "colab": {}
      },
      "source": [
        "# convert class vectors to binary class matrices\n",
        "y_train = keras.utils.to_categorical(y_train, num_classes)\n",
        "y_test = keras.utils.to_categorical(y_test, num_classes)"
      ],
      "execution_count": 0,
      "outputs": []
    },
    {
      "cell_type": "code",
      "metadata": {
        "id": "N3tLiYcCWRJh",
        "colab_type": "code",
        "colab": {}
      },
      "source": [
        "model = Sequential()\n",
        "model.add(Conv2D(8, kernel_size=(3, 3),\n",
        "                 activation='relu',\n",
        "                 input_shape=input_shape))\n",
        "model.add(MaxPooling2D(pool_size=(2, 2)))\n",
        "model.add(Conv2D(16, (3, 3), activation='relu'))\n",
        "model.add(Conv2D(4, (1, 1), activation='relu'))\n",
        "model.add(MaxPooling2D(pool_size=(2, 2)))\n",
        "model.add(Flatten())\n",
        "model.add(Dense(16, activation='relu'))\n",
        "model.add(Dropout(0.5))\n",
        "model.add(Dense(num_classes, activation='softmax'))"
      ],
      "execution_count": 0,
      "outputs": []
    },
    {
      "cell_type": "code",
      "metadata": {
        "id": "wD2l2H7xWUD2",
        "colab_type": "code",
        "outputId": "178d7dba-0e97-44e3-bfe2-6274482cebc0",
        "colab": {
          "base_uri": "https://localhost:8080/",
          "height": 468
        }
      },
      "source": [
        "model.summary()"
      ],
      "execution_count": 7,
      "outputs": [
        {
          "output_type": "stream",
          "text": [
            "Model: \"sequential_1\"\n",
            "_________________________________________________________________\n",
            "Layer (type)                 Output Shape              Param #   \n",
            "=================================================================\n",
            "conv2d_1 (Conv2D)            (None, 26, 26, 8)         80        \n",
            "_________________________________________________________________\n",
            "max_pooling2d_1 (MaxPooling2 (None, 13, 13, 8)         0         \n",
            "_________________________________________________________________\n",
            "conv2d_2 (Conv2D)            (None, 11, 11, 16)        1168      \n",
            "_________________________________________________________________\n",
            "conv2d_3 (Conv2D)            (None, 11, 11, 4)         68        \n",
            "_________________________________________________________________\n",
            "max_pooling2d_2 (MaxPooling2 (None, 5, 5, 4)           0         \n",
            "_________________________________________________________________\n",
            "flatten_1 (Flatten)          (None, 100)               0         \n",
            "_________________________________________________________________\n",
            "dense_1 (Dense)              (None, 16)                1616      \n",
            "_________________________________________________________________\n",
            "dropout_1 (Dropout)          (None, 16)                0         \n",
            "_________________________________________________________________\n",
            "dense_2 (Dense)              (None, 10)                170       \n",
            "=================================================================\n",
            "Total params: 3,102\n",
            "Trainable params: 3,102\n",
            "Non-trainable params: 0\n",
            "_________________________________________________________________\n"
          ],
          "name": "stdout"
        }
      ]
    },
    {
      "cell_type": "code",
      "metadata": {
        "id": "NS2wmUIcWV6S",
        "colab_type": "code",
        "outputId": "65a7a9bf-3ca6-4821-9b0e-634f18ece484",
        "colab": {
          "base_uri": "https://localhost:8080/",
          "height": 468
        }
      },
      "source": [
        "model.compile(loss=keras.losses.categorical_crossentropy,\n",
        "              optimizer=keras.optimizers.Adam(),\n",
        "              metrics=['accuracy'])\n",
        "\n",
        "model.fit(x_train, y_train,\n",
        "          batch_size=batch_size,\n",
        "          epochs=epochs,\n",
        "          verbose=1,\n",
        "          validation_data=(x_test, y_test))"
      ],
      "execution_count": 8,
      "outputs": [
        {
          "output_type": "stream",
          "text": [
            "Train on 60000 samples, validate on 10000 samples\n",
            "Epoch 1/12\n",
            "60000/60000 [==============================] - 14s 239us/step - loss: 1.1962 - accuracy: 0.5578 - val_loss: 0.3744 - val_accuracy: 0.9263\n",
            "Epoch 2/12\n",
            "60000/60000 [==============================] - 8s 135us/step - loss: 0.8588 - accuracy: 0.6718 - val_loss: 0.2253 - val_accuracy: 0.9471\n",
            "Epoch 3/12\n",
            "60000/60000 [==============================] - 8s 136us/step - loss: 0.7658 - accuracy: 0.7069 - val_loss: 0.1860 - val_accuracy: 0.9515\n",
            "Epoch 4/12\n",
            "60000/60000 [==============================] - 8s 134us/step - loss: 0.7220 - accuracy: 0.7299 - val_loss: 0.1508 - val_accuracy: 0.9585\n",
            "Epoch 5/12\n",
            "60000/60000 [==============================] - 8s 134us/step - loss: 0.6832 - accuracy: 0.7419 - val_loss: 0.1466 - val_accuracy: 0.9610\n",
            "Epoch 6/12\n",
            "60000/60000 [==============================] - 8s 131us/step - loss: 0.6620 - accuracy: 0.7480 - val_loss: 0.1367 - val_accuracy: 0.9644\n",
            "Epoch 7/12\n",
            "60000/60000 [==============================] - 8s 131us/step - loss: 0.6453 - accuracy: 0.7534 - val_loss: 0.1309 - val_accuracy: 0.9668\n",
            "Epoch 8/12\n",
            "60000/60000 [==============================] - 8s 134us/step - loss: 0.6233 - accuracy: 0.7621 - val_loss: 0.1289 - val_accuracy: 0.9675\n",
            "Epoch 9/12\n",
            "60000/60000 [==============================] - 8s 132us/step - loss: 0.6121 - accuracy: 0.7655 - val_loss: 0.1139 - val_accuracy: 0.9703\n",
            "Epoch 10/12\n",
            "60000/60000 [==============================] - 8s 131us/step - loss: 0.6003 - accuracy: 0.7719 - val_loss: 0.1116 - val_accuracy: 0.9691\n",
            "Epoch 11/12\n",
            "60000/60000 [==============================] - 8s 130us/step - loss: 0.6006 - accuracy: 0.7705 - val_loss: 0.1050 - val_accuracy: 0.9713\n",
            "Epoch 12/12\n",
            "60000/60000 [==============================] - 8s 131us/step - loss: 0.6001 - accuracy: 0.7724 - val_loss: 0.1089 - val_accuracy: 0.9698\n"
          ],
          "name": "stdout"
        },
        {
          "output_type": "execute_result",
          "data": {
            "text/plain": [
              "<keras.callbacks.callbacks.History at 0x7f744df77908>"
            ]
          },
          "metadata": {
            "tags": []
          },
          "execution_count": 8
        }
      ]
    },
    {
      "cell_type": "code",
      "metadata": {
        "id": "oFqXV9Z6Wab1",
        "colab_type": "code",
        "outputId": "57130e9f-e157-4d46-8770-f6e8b5d4d258",
        "colab": {
          "base_uri": "https://localhost:8080/",
          "height": 52
        }
      },
      "source": [
        "score = model.evaluate(x_test, y_test, verbose=0)\n",
        "print('Test loss:', score[0])\n",
        "print('Test accuracy:', score[1])"
      ],
      "execution_count": 31,
      "outputs": [
        {
          "output_type": "stream",
          "text": [
            "Test loss: 0.05888937111571431\n",
            "Test accuracy: 0.9833999872207642\n"
          ],
          "name": "stdout"
        }
      ]
    }
  ]
}