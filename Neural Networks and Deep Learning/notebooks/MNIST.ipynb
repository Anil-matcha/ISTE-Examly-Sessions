{
  "nbformat": 4,
  "nbformat_minor": 0,
  "metadata": {
    "colab": {
      "name": "MNIST.ipynb",
      "provenance": []
    },
    "kernelspec": {
      "name": "python3",
      "display_name": "Python 3"
    },
    "accelerator": "GPU"
  },
  "cells": [
    {
      "cell_type": "code",
      "metadata": {
        "id": "fEv2V-Ytnl_3",
        "colab_type": "code",
        "colab": {
          "base_uri": "https://localhost:8080/",
          "height": 69
        },
        "outputId": "1209df7e-4ce7-4f35-f189-8ff19223f239"
      },
      "source": [
        "from keras.datasets import mnist\n",
        "data = mnist.load_data()"
      ],
      "execution_count": 1,
      "outputs": [
        {
          "output_type": "stream",
          "text": [
            "Using TensorFlow backend.\n"
          ],
          "name": "stderr"
        },
        {
          "output_type": "stream",
          "text": [
            "Downloading data from https://s3.amazonaws.com/img-datasets/mnist.npz\n",
            "11493376/11490434 [==============================] - 2s 0us/step\n"
          ],
          "name": "stdout"
        }
      ]
    },
    {
      "cell_type": "code",
      "metadata": {
        "id": "LqNm1V3mpPJb",
        "colab_type": "code",
        "colab": {}
      },
      "source": [
        "import numpy as np\n",
        "import matplotlib\n",
        "matplotlib.use('agg')\n",
        "import matplotlib.pyplot as plt\n",
        "from keras.datasets import mnist\n",
        "from keras.models import Sequential, load_model\n",
        "from keras.layers.core import Dense, Dropout, Activation\n",
        "from keras.utils import np_utils"
      ],
      "execution_count": 0,
      "outputs": []
    },
    {
      "cell_type": "code",
      "metadata": {
        "id": "1uUJnEQrs1kC",
        "colab_type": "code",
        "colab": {}
      },
      "source": [
        "(X_train, y_train), (X_test, y_test) = mnist.load_data()"
      ],
      "execution_count": 0,
      "outputs": []
    },
    {
      "cell_type": "code",
      "metadata": {
        "id": "xffCEv97t_mX",
        "colab_type": "code",
        "outputId": "c6fbecc6-957e-4e82-ba02-9c526ca53aae",
        "colab": {
          "base_uri": "https://localhost:8080/",
          "height": 284
        }
      },
      "source": [
        "fig = plt.figure()\n",
        "for i in range(9):\n",
        "  plt.subplot(3,3,i+1)\n",
        "  plt.tight_layout()\n",
        "  plt.imshow(X_train[i], cmap='gray', interpolation='none')\n",
        "  plt.title(\"Digit: {}\".format(y_train[i]))\n",
        "  plt.xticks([])\n",
        "  plt.yticks([])\n",
        "fig"
      ],
      "execution_count": 4,
      "outputs": [
        {
          "output_type": "execute_result",
          "data": {
            "image/png": "[encoded data removed]",
            "text/plain": [
              "<Figure size 432x288 with 9 Axes>"
            ]
          },
          "metadata": {
            "tags": []
          },
          "execution_count": 4
        }
      ]
    },
    {
      "cell_type": "code",
      "metadata": {
        "id": "fR2uFT1KuCs-",
        "colab_type": "code",
        "outputId": "8934f543-efea-4b11-d8ac-f29c49f0b364",
        "colab": {
          "base_uri": "https://localhost:8080/",
          "height": 281
        }
      },
      "source": [
        "fig = plt.figure()\n",
        "plt.subplot(2,1,1)\n",
        "plt.imshow(X_train[0], cmap='gray', interpolation='none')\n",
        "plt.title(\"Digit: {}\".format(y_train[0]))\n",
        "plt.xticks([])\n",
        "plt.yticks([])\n",
        "plt.subplot(2,1,2)\n",
        "plt.hist(X_train[0].reshape(784))\n",
        "plt.title(\"Pixel Value Distribution\")\n",
        "fig"
      ],
      "execution_count": 5,
      "outputs": [
        {
          "output_type": "execute_result",
          "data": {
            "image/png": "[encoded data removed]",
            "text/plain": [
              "<Figure size 432x288 with 2 Axes>"
            ]
          },
          "metadata": {
            "tags": []
          },
          "execution_count": 5
        }
      ]
    },
    {
      "cell_type": "code",
      "metadata": {
        "id": "Fo8mY2XluxDF",
        "colab_type": "code",
        "outputId": "d1675bb5-b0c8-4181-f898-c1d09e9f215f",
        "colab": {
          "base_uri": "https://localhost:8080/",
          "height": 121
        }
      },
      "source": [
        "# let's print the shape before we reshape and normalize\n",
        "print(\"X_train shape\", X_train.shape)\n",
        "print(\"y_train shape\", y_train.shape)\n",
        "print(\"X_test shape\", X_test.shape)\n",
        "print(\"y_test shape\", y_test.shape)\n",
        "\n",
        "# building the input vector from the 28x28 pixels\n",
        "X_train = X_train.reshape(60000, 784)\n",
        "X_test = X_test.reshape(10000, 784)\n",
        "X_train = X_train.astype('float32')\n",
        "X_test = X_test.astype('float32')\n",
        "\n",
        "# normalizing the data to help with the training\n",
        "X_train /= 255\n",
        "X_test /= 255\n",
        "\n",
        "# print the final input shape ready for training\n",
        "print(\"Train matrix shape\", X_train.shape)\n",
        "print(\"Test matrix shape\", X_test.shape)"
      ],
      "execution_count": 6,
      "outputs": [
        {
          "output_type": "stream",
          "text": [
            "X_train shape (60000, 28, 28)\n",
            "y_train shape (60000,)\n",
            "X_test shape (10000, 28, 28)\n",
            "y_test shape (10000,)\n",
            "Train matrix shape (60000, 784)\n",
            "Test matrix shape (10000, 784)\n"
          ],
          "name": "stdout"
        }
      ]
    },
    {
      "cell_type": "code",
      "metadata": {
        "id": "Q34cB15YwPks",
        "colab_type": "code",
        "outputId": "61477ebd-45ed-4598-a75c-1fd9a49a6f25",
        "colab": {
          "base_uri": "https://localhost:8080/",
          "height": 52
        }
      },
      "source": [
        "# one-hot encoding using keras' numpy-related utilities\n",
        "n_classes = 10\n",
        "print(\"Shape before one-hot encoding: \", y_train.shape)\n",
        "Y_train = np_utils.to_categorical(y_train, n_classes)\n",
        "Y_test = np_utils.to_categorical(y_test, n_classes)\n",
        "print(\"Shape after one-hot encoding: \", Y_train.shape)"
      ],
      "execution_count": 7,
      "outputs": [
        {
          "output_type": "stream",
          "text": [
            "Shape before one-hot encoding:  (60000,)\n",
            "Shape after one-hot encoding:  (60000, 10)\n"
          ],
          "name": "stdout"
        }
      ]
    },
    {
      "cell_type": "code",
      "metadata": {
        "id": "KsHMAB6wwVEL",
        "colab_type": "code",
        "colab": {}
      },
      "source": [
        "model = Sequential()\n",
        "\n",
        "#1st hidden layer\n",
        "model.add(Dense(512, input_shape=(784,)))\n",
        "model.add(Activation('relu'))                            \n",
        "#model.add(Dropout(0.2))\n",
        "\n",
        "#2nd hidden layer\n",
        "model.add(Dense(784))\n",
        "model.add(Activation('relu'))\n",
        "#model.add(Dropout(0.2))\n",
        "\n",
        "#3rd hidden layer\n",
        "model.add(Dense(128))\n",
        "model.add(Activation('relu'))\n",
        "#model.add(Dropout(0.4))\n",
        "\n",
        "model.add(Dense(10))\n",
        "model.add(Activation('softmax'))"
      ],
      "execution_count": 0,
      "outputs": []
    },
    {
      "cell_type": "code",
      "metadata": {
        "id": "jQkUrEO8IVD7",
        "colab_type": "code",
        "colab": {
          "base_uri": "https://localhost:8080/",
          "height": 433
        },
        "outputId": "b2b5267d-4b7a-4328-d24f-3f7dcf67076e"
      },
      "source": [
        "model.summary()"
      ],
      "execution_count": 9,
      "outputs": [
        {
          "output_type": "stream",
          "text": [
            "Model: \"sequential_1\"\n",
            "_________________________________________________________________\n",
            "Layer (type)                 Output Shape              Param #   \n",
            "=================================================================\n",
            "dense_1 (Dense)              (None, 512)               401920    \n",
            "_________________________________________________________________\n",
            "activation_1 (Activation)    (None, 512)               0         \n",
            "_________________________________________________________________\n",
            "dense_2 (Dense)              (None, 784)               402192    \n",
            "_________________________________________________________________\n",
            "activation_2 (Activation)    (None, 784)               0         \n",
            "_________________________________________________________________\n",
            "dense_3 (Dense)              (None, 128)               100480    \n",
            "_________________________________________________________________\n",
            "activation_3 (Activation)    (None, 128)               0         \n",
            "_________________________________________________________________\n",
            "dense_4 (Dense)              (None, 10)                1290      \n",
            "_________________________________________________________________\n",
            "activation_4 (Activation)    (None, 10)                0         \n",
            "=================================================================\n",
            "Total params: 905,882\n",
            "Trainable params: 905,882\n",
            "Non-trainable params: 0\n",
            "_________________________________________________________________\n"
          ],
          "name": "stdout"
        }
      ]
    },
    {
      "cell_type": "code",
      "metadata": {
        "id": "zaopwtul5zEm",
        "colab_type": "code",
        "colab": {}
      },
      "source": [
        "# compiling the sequential model\n",
        "model.compile(loss='categorical_crossentropy', metrics=['accuracy'], optimizer='sgd')"
      ],
      "execution_count": 0,
      "outputs": []
    },
    {
      "cell_type": "code",
      "metadata": {
        "id": "99uoRpg155la",
        "colab_type": "code",
        "outputId": "feea23f3-52a3-4818-b368-9edfa9ffd155",
        "colab": {
          "base_uri": "https://localhost:8080/",
          "height": 1000
        }
      },
      "source": [
        "# training the model and saving metrics in history\n",
        "history = model.fit(X_train, Y_train,\n",
        "          batch_size=128, epochs=20,\n",
        "          verbose=2,\n",
        "          validation_data=(X_test, Y_test))"
      ],
      "execution_count": 0,
      "outputs": [
        {
          "output_type": "stream",
          "text": [
            "WARNING:tensorflow:From /usr/local/lib/python3.6/dist-packages/tensorflow_core/python/ops/math_grad.py:1424: where (from tensorflow.python.ops.array_ops) is deprecated and will be removed in a future version.\n",
            "Instructions for updating:\n",
            "Use tf.where in 2.0, which has the same broadcast rule as np.where\n",
            "WARNING:tensorflow:From /usr/local/lib/python3.6/dist-packages/keras/backend/tensorflow_backend.py:1033: The name tf.assign_add is deprecated. Please use tf.compat.v1.assign_add instead.\n",
            "\n",
            "WARNING:tensorflow:From /usr/local/lib/python3.6/dist-packages/keras/backend/tensorflow_backend.py:1020: The name tf.assign is deprecated. Please use tf.compat.v1.assign instead.\n",
            "\n",
            "WARNING:tensorflow:From /usr/local/lib/python3.6/dist-packages/keras/backend/tensorflow_backend.py:3005: The name tf.Session is deprecated. Please use tf.compat.v1.Session instead.\n",
            "\n",
            "Train on 60000 samples, validate on 10000 samples\n",
            "Epoch 1/20\n",
            "WARNING:tensorflow:From /usr/local/lib/python3.6/dist-packages/keras/backend/tensorflow_backend.py:190: The name tf.get_default_session is deprecated. Please use tf.compat.v1.get_default_session instead.\n",
            "\n",
            "WARNING:tensorflow:From /usr/local/lib/python3.6/dist-packages/keras/backend/tensorflow_backend.py:197: The name tf.ConfigProto is deprecated. Please use tf.compat.v1.ConfigProto instead.\n",
            "\n",
            "WARNING:tensorflow:From /usr/local/lib/python3.6/dist-packages/keras/backend/tensorflow_backend.py:207: The name tf.global_variables is deprecated. Please use tf.compat.v1.global_variables instead.\n",
            "\n",
            "WARNING:tensorflow:From /usr/local/lib/python3.6/dist-packages/keras/backend/tensorflow_backend.py:216: The name tf.is_variable_initialized is deprecated. Please use tf.compat.v1.is_variable_initialized instead.\n",
            "\n",
            "WARNING:tensorflow:From /usr/local/lib/python3.6/dist-packages/keras/backend/tensorflow_backend.py:223: The name tf.variables_initializer is deprecated. Please use tf.compat.v1.variables_initializer instead.\n",
            "\n",
            " - 11s - loss: 1.0839 - acc: 0.7495 - val_loss: 0.4703 - val_acc: 0.8828\n",
            "Epoch 2/20\n",
            " - 2s - loss: 0.4022 - acc: 0.8907 - val_loss: 0.3365 - val_acc: 0.9046\n",
            "Epoch 3/20\n",
            " - 2s - loss: 0.3214 - acc: 0.9088 - val_loss: 0.2912 - val_acc: 0.9160\n",
            "Epoch 4/20\n",
            " - 2s - loss: 0.2824 - acc: 0.9200 - val_loss: 0.2608 - val_acc: 0.9265\n",
            "Epoch 5/20\n",
            " - 2s - loss: 0.2565 - acc: 0.9265 - val_loss: 0.2359 - val_acc: 0.9324\n",
            "Epoch 6/20\n",
            " - 2s - loss: 0.2353 - acc: 0.9333 - val_loss: 0.2212 - val_acc: 0.9360\n",
            "Epoch 7/20\n",
            " - 2s - loss: 0.2183 - acc: 0.9379 - val_loss: 0.2060 - val_acc: 0.9413\n",
            "Epoch 8/20\n",
            " - 2s - loss: 0.2035 - acc: 0.9420 - val_loss: 0.1948 - val_acc: 0.9434\n",
            "Epoch 9/20\n",
            " - 2s - loss: 0.1903 - acc: 0.9456 - val_loss: 0.1871 - val_acc: 0.9456\n",
            "Epoch 10/20\n",
            " - 2s - loss: 0.1793 - acc: 0.9487 - val_loss: 0.1733 - val_acc: 0.9497\n",
            "Epoch 11/20\n",
            " - 2s - loss: 0.1686 - acc: 0.9516 - val_loss: 0.1650 - val_acc: 0.9516\n",
            "Epoch 12/20\n",
            " - 2s - loss: 0.1595 - acc: 0.9544 - val_loss: 0.1562 - val_acc: 0.9538\n",
            "Epoch 13/20\n",
            " - 2s - loss: 0.1510 - acc: 0.9567 - val_loss: 0.1507 - val_acc: 0.9561\n",
            "Epoch 14/20\n",
            " - 2s - loss: 0.1433 - acc: 0.9586 - val_loss: 0.1445 - val_acc: 0.9574\n",
            "Epoch 15/20\n",
            " - 2s - loss: 0.1364 - acc: 0.9612 - val_loss: 0.1384 - val_acc: 0.9585\n",
            "Epoch 16/20\n",
            " - 2s - loss: 0.1296 - acc: 0.9633 - val_loss: 0.1338 - val_acc: 0.9612\n",
            "Epoch 17/20\n",
            " - 2s - loss: 0.1239 - acc: 0.9650 - val_loss: 0.1278 - val_acc: 0.9619\n",
            "Epoch 18/20\n",
            " - 2s - loss: 0.1186 - acc: 0.9666 - val_loss: 0.1267 - val_acc: 0.9613\n",
            "Epoch 19/20\n",
            " - 2s - loss: 0.1136 - acc: 0.9687 - val_loss: 0.1185 - val_acc: 0.9635\n",
            "Epoch 20/20\n",
            " - 2s - loss: 0.1087 - acc: 0.9697 - val_loss: 0.1179 - val_acc: 0.9634\n"
          ],
          "name": "stdout"
        }
      ]
    },
    {
      "cell_type": "code",
      "metadata": {
        "id": "1Xpgm7Xq69jz",
        "colab_type": "code",
        "outputId": "7a2e309f-b3ab-4414-91f8-d1503912f5f9",
        "colab": {
          "base_uri": "https://localhost:8080/",
          "height": 297
        }
      },
      "source": [
        "# plotting the metrics\n",
        "fig = plt.figure()\n",
        "plt.subplot(2,1,1)\n",
        "plt.plot(history.history['acc'])\n",
        "plt.plot(history.history['val_acc'])\n",
        "plt.title('model accuracy')\n",
        "plt.ylabel('accuracy')\n",
        "plt.xlabel('epoch')\n",
        "plt.legend(['train', 'test'], loc='lower right')\n",
        "\n",
        "plt.subplot(2,1,2)\n",
        "plt.plot(history.history['loss'])\n",
        "plt.plot(history.history['val_loss'])\n",
        "plt.title('model loss')\n",
        "plt.ylabel('loss')\n",
        "plt.xlabel('epoch')\n",
        "plt.legend(['train', 'test'], loc='upper right')\n",
        "\n",
        "plt.tight_layout()\n",
        "\n",
        "fig"
      ],
      "execution_count": 0,
      "outputs": [
        {
          "output_type": "execute_result",
          "data": {
            "image/png": "[encoded data removed]",
            "text/plain": [
              "<Figure size 432x288 with 2 Axes>"
            ]
          },
          "metadata": {
            "tags": []
          },
          "execution_count": 25
        }
      ]
    },
    {
      "cell_type": "code",
      "metadata": {
        "id": "gLfqaUjk6CEL",
        "colab_type": "code",
        "outputId": "14de4fae-f4b3-4ba6-d34d-c6bbf426177d",
        "colab": {
          "base_uri": "https://localhost:8080/",
          "height": 52
        }
      },
      "source": [
        "loss_and_metrics = model.evaluate(X_test, Y_test, verbose=2)\n",
        "\n",
        "print(\"Test Loss\", loss_and_metrics[0])\n",
        "print(\"Test Accuracy\", loss_and_metrics[1])"
      ],
      "execution_count": 0,
      "outputs": [
        {
          "output_type": "stream",
          "text": [
            "Test Loss 0.11787947653234004\n",
            "Test Accuracy 0.9634\n"
          ],
          "name": "stdout"
        }
      ]
    },
    {
      "cell_type": "code",
      "metadata": {
        "id": "MvEqiZzj6TRr",
        "colab_type": "code",
        "outputId": "2a36e0b5-12ae-463d-dad3-498f467ff548",
        "colab": {
          "base_uri": "https://localhost:8080/",
          "height": 863
        }
      },
      "source": [
        "predicted_classes = model.predict_classes(X_test)\n",
        "\n",
        "# see which we predicted correctly and which not\n",
        "correct_indices = np.nonzero(predicted_classes == y_test)[0]\n",
        "incorrect_indices = np.nonzero(predicted_classes != y_test)[0]\n",
        "print()\n",
        "print(len(correct_indices),\" classified correctly\")\n",
        "print(len(incorrect_indices),\" classified incorrectly\")\n",
        "\n",
        "# adapt figure size to accomodate 18 subplots\n",
        "plt.rcParams['figure.figsize'] = (7,14)\n",
        "\n",
        "figure_evaluation = plt.figure()\n",
        "\n",
        "# plot 9 correct predictions\n",
        "for i, correct in enumerate(correct_indices[:9]):\n",
        "    plt.subplot(6,3,i+1)\n",
        "    plt.imshow(X_test[correct].reshape(28,28), cmap='gray', interpolation='none')\n",
        "    plt.title(\n",
        "      \"Predicted: {}, Truth: {}\".format(predicted_classes[correct],\n",
        "                                        y_test[correct]))\n",
        "    plt.xticks([])\n",
        "    plt.yticks([])\n",
        "\n",
        "# plot 9 incorrect predictions\n",
        "for i, incorrect in enumerate(incorrect_indices[:9]):\n",
        "    plt.subplot(6,3,i+10)\n",
        "    plt.imshow(X_test[incorrect].reshape(28,28), cmap='gray', interpolation='none')\n",
        "    plt.title(\n",
        "      \"Predicted {}, Truth: {}\".format(predicted_classes[incorrect], \n",
        "                                       y_test[incorrect]))\n",
        "    plt.xticks([])\n",
        "    plt.yticks([])\n",
        "\n",
        "figure_evaluation"
      ],
      "execution_count": 0,
      "outputs": [
        {
          "output_type": "stream",
          "text": [
            "\n",
            "9634  classified correctly\n",
            "366  classified incorrectly\n"
          ],
          "name": "stdout"
        },
        {
          "output_type": "execute_result",
          "data": {
            "image/png": "[encoded data removed]",
            "text/plain": [
              "<Figure size 504x1008 with 18 Axes>"
            ]
          },
          "metadata": {
            "tags": []
          },
          "execution_count": 27
        }
      ]
    },
    {
      "cell_type": "code",
      "metadata": {
        "id": "Y5VDixwm7Rm5",
        "colab_type": "code",
        "colab": {}
      },
      "source": [
        ""
      ],
      "execution_count": 0,
      "outputs": []
    }
  ]
}