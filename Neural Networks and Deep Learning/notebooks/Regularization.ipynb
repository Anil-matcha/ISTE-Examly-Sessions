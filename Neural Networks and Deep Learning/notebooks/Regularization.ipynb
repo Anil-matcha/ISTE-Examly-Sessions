{
  "nbformat": 4,
  "nbformat_minor": 0,
  "metadata": {
    "kernelspec": {
      "display_name": "Python 3",
      "language": "python",
      "name": "python3"
    },
    "language_info": {
      "codemirror_mode": {
        "name": "ipython",
        "version": 3
      },
      "file_extension": ".py",
      "mimetype": "text/x-python",
      "name": "python",
      "nbconvert_exporter": "python",
      "pygments_lexer": "ipython3",
      "version": "3.7.3"
    },
    "colab": {
      "name": "Regularization.ipynb",
      "provenance": [],
      "collapsed_sections": []
    },
    "accelerator": "GPU"
  },
  "cells": [
    {
      "cell_type": "code",
      "metadata": {
        "colab": {
          "base_uri": "https://localhost:8080/"
        },
        "id": "wWtJ1E7IwVtB",
        "outputId": "3a7a035d-1c52-4553-ab66-baaa1413224c"
      },
      "source": [
        "%pylab inline\n",
        "\n",
        "import numpy as np\n",
        "import pandas as pd\n",
        "from sklearn.metrics import accuracy_score\n",
        "\n",
        "from matplotlib import pyplot\n",
        "\n",
        "import tensorflow as tf\n",
        "fashion_mnist = tf.keras.datasets.cifar10\n",
        "\n",
        "# To stop potential randomness\n",
        "seed = 128\n",
        "rng = np.random.RandomState(seed)"
      ],
      "execution_count": null,
      "outputs": [
        {
          "output_type": "stream",
          "text": [
            "Populating the interactive namespace from numpy and matplotlib\n"
          ],
          "name": "stdout"
        }
      ]
    },
    {
      "cell_type": "code",
      "metadata": {
        "colab": {
          "base_uri": "https://localhost:8080/"
        },
        "id": "M5R7KrURwVtB",
        "outputId": "3353e7ff-a0a0-4c49-a7cf-dbe44963ea64"
      },
      "source": [
        "(X_train, y_train), (X_test, y_test) = fashion_mnist.load_data()"
      ],
      "execution_count": null,
      "outputs": [
        {
          "output_type": "stream",
          "text": [
            "Downloading data from https://www.cs.toronto.edu/~kriz/cifar-10-python.tar.gz\n",
            "170500096/170498071 [==============================] - 2s 0us/step\n"
          ],
          "name": "stdout"
        }
      ]
    },
    {
      "cell_type": "code",
      "metadata": {
        "colab": {
          "base_uri": "https://localhost:8080/"
        },
        "id": "4P0tP0PNwVtC",
        "outputId": "067e0e1b-a62f-4f4e-b10c-87cc8428c6a8"
      },
      "source": [
        "# let's print the shape before we reshape and normalize\n",
        "print(\"X_train shape\", X_train.shape)\n",
        "print(\"y_train shape\", y_train.shape)\n",
        "print(\"X_test shape\", X_test.shape)\n",
        "print(\"y_test shape\", y_test.shape)\n",
        "\n",
        "# building the input vector from the 28x28 pixels\n",
        "#X_train = X_train.reshape(60000, 784)\n",
        "X_train = X_train.reshape(X_train.shape[0], 32, 32, 3)\n",
        "X_test = X_test.reshape(X_test.shape[0], 32, 32, 3)\n",
        "#X_test = X_test.reshape(10000, 784)\n",
        "X_train = X_train.astype('float32')\n",
        "X_test = X_test.astype('float32')\n",
        "\n",
        "# normalizing the data to help with the training\n",
        "X_train /= 255\n",
        "X_test /= 255\n",
        "\n",
        "# print the final input shape ready for training\n",
        "print(\"Train matrix shape\", X_train.shape)\n",
        "print(\"Test matrix shape\", X_test.shape)"
      ],
      "execution_count": null,
      "outputs": [
        {
          "output_type": "stream",
          "text": [
            "X_train shape (50000, 32, 32, 3)\n",
            "y_train shape (50000, 1)\n",
            "X_test shape (10000, 32, 32, 3)\n",
            "y_test shape (10000, 1)\n",
            "Train matrix shape (50000, 32, 32, 3)\n",
            "Test matrix shape (10000, 32, 32, 3)\n"
          ],
          "name": "stdout"
        }
      ]
    },
    {
      "cell_type": "code",
      "metadata": {
        "colab": {
          "base_uri": "https://localhost:8080/"
        },
        "id": "lIG9-0UEwVtC",
        "outputId": "370afff5-55a0-4a6e-a353-df1f3e2cc03b"
      },
      "source": [
        "from tensorflow.keras import utils as np_utils\n",
        "# one-hot encoding using keras' numpy-related utilities\n",
        "n_classes = 10\n",
        "print(\"Shape before one-hot encoding: \", y_train.shape)\n",
        "Y_train = np_utils.to_categorical(y_train, n_classes)\n",
        "Y_test = np_utils.to_categorical(y_test, n_classes)\n",
        "print(\"Shape after one-hot encoding: \", Y_train.shape)"
      ],
      "execution_count": null,
      "outputs": [
        {
          "output_type": "stream",
          "text": [
            "Shape before one-hot encoding:  (50000, 1)\n",
            "Shape after one-hot encoding:  (50000, 10)\n"
          ],
          "name": "stdout"
        }
      ]
    },
    {
      "cell_type": "code",
      "metadata": {
        "id": "JRz8XSFfwVtC"
      },
      "source": [
        "from tensorflow.keras.models import Sequential, load_model\n",
        "from tensorflow.keras.layers import Dense, Dropout, Activation, Conv2D, MaxPooling2D, Flatten"
      ],
      "execution_count": null,
      "outputs": []
    },
    {
      "cell_type": "code",
      "metadata": {
        "colab": {
          "base_uri": "https://localhost:8080/"
        },
        "id": "sgSTFMe_wVtC",
        "outputId": "0bb8d318-5663-4cac-8361-54805a0b4e34"
      },
      "source": [
        "epochs = 10\n",
        "batch_size = 128\n",
        "\n",
        "model = Sequential()\n",
        "model.add(Conv2D(32, (3, 3), activation='relu', padding='same', input_shape=(32,32,3)))\n",
        "model.add(Conv2D(64, (3, 3), activation='relu', padding='same'))\n",
        "model.add(MaxPooling2D((2, 2)))\n",
        "model.add(Conv2D(128, (3, 3), activation='relu', padding='same'))\n",
        "model.add(Conv2D(256, (3, 3), activation='relu', padding='same'))\n",
        "model.add(MaxPooling2D((2, 2)))\n",
        "model.add(Flatten())\n",
        "model.add(Dense(256, activation='relu'))\n",
        "model.add(Dense(10, activation='softmax'))\n",
        "model.compile(optimizer='sgd', loss='categorical_crossentropy', metrics=['accuracy'])\n",
        "model.summary()"
      ],
      "execution_count": null,
      "outputs": [
        {
          "output_type": "stream",
          "text": [
            "Model: \"sequential\"\n",
            "_________________________________________________________________\n",
            "Layer (type)                 Output Shape              Param #   \n",
            "=================================================================\n",
            "conv2d (Conv2D)              (None, 32, 32, 32)        896       \n",
            "_________________________________________________________________\n",
            "conv2d_1 (Conv2D)            (None, 32, 32, 64)        18496     \n",
            "_________________________________________________________________\n",
            "max_pooling2d (MaxPooling2D) (None, 16, 16, 64)        0         \n",
            "_________________________________________________________________\n",
            "conv2d_2 (Conv2D)            (None, 16, 16, 128)       73856     \n",
            "_________________________________________________________________\n",
            "conv2d_3 (Conv2D)            (None, 16, 16, 256)       295168    \n",
            "_________________________________________________________________\n",
            "max_pooling2d_1 (MaxPooling2 (None, 8, 8, 256)         0         \n",
            "_________________________________________________________________\n",
            "flatten (Flatten)            (None, 16384)             0         \n",
            "_________________________________________________________________\n",
            "dense (Dense)                (None, 256)               4194560   \n",
            "_________________________________________________________________\n",
            "dense_1 (Dense)              (None, 10)                2570      \n",
            "=================================================================\n",
            "Total params: 4,585,546\n",
            "Trainable params: 4,585,546\n",
            "Non-trainable params: 0\n",
            "_________________________________________________________________\n"
          ],
          "name": "stdout"
        }
      ]
    },
    {
      "cell_type": "code",
      "metadata": {
        "colab": {
          "base_uri": "https://localhost:8080/"
        },
        "id": "n3jDqZ79wVtC",
        "outputId": "eb2a5b3b-2957-4500-ca82-821b4e3b815b"
      },
      "source": [
        "model.compile(loss='categorical_crossentropy', optimizer='adam', metrics=['accuracy'])\n",
        "\n",
        "trained_model_5d = model.fit(X_train, Y_train, epochs=epochs, batch_size=batch_size, validation_data=(X_test, Y_test))"
      ],
      "execution_count": null,
      "outputs": [
        {
          "output_type": "stream",
          "text": [
            "Epoch 1/10\n",
            "391/391 [==============================] - 8s 22ms/step - loss: 1.4195 - accuracy: 0.4879 - val_loss: 1.1004 - val_accuracy: 0.6004\n",
            "Epoch 2/10\n",
            "391/391 [==============================] - 8s 21ms/step - loss: 0.8899 - accuracy: 0.6888 - val_loss: 0.8168 - val_accuracy: 0.7096\n",
            "Epoch 3/10\n",
            "391/391 [==============================] - 8s 21ms/step - loss: 0.6881 - accuracy: 0.7575 - val_loss: 0.7340 - val_accuracy: 0.7432\n",
            "Epoch 4/10\n",
            "391/391 [==============================] - 8s 21ms/step - loss: 0.5255 - accuracy: 0.8171 - val_loss: 0.6884 - val_accuracy: 0.7645\n",
            "Epoch 5/10\n",
            "391/391 [==============================] - 8s 21ms/step - loss: 0.3838 - accuracy: 0.8656 - val_loss: 0.7544 - val_accuracy: 0.7617\n",
            "Epoch 6/10\n",
            "391/391 [==============================] - 8s 21ms/step - loss: 0.2563 - accuracy: 0.9101 - val_loss: 0.7989 - val_accuracy: 0.7661\n",
            "Epoch 7/10\n",
            "391/391 [==============================] - 8s 21ms/step - loss: 0.1534 - accuracy: 0.9462 - val_loss: 0.9070 - val_accuracy: 0.7631\n",
            "Epoch 8/10\n",
            "391/391 [==============================] - 8s 21ms/step - loss: 0.1057 - accuracy: 0.9628 - val_loss: 1.0776 - val_accuracy: 0.7560\n",
            "Epoch 9/10\n",
            "391/391 [==============================] - 8s 21ms/step - loss: 0.0817 - accuracy: 0.9719 - val_loss: 1.2498 - val_accuracy: 0.7600\n",
            "Epoch 10/10\n",
            "391/391 [==============================] - 8s 21ms/step - loss: 0.0681 - accuracy: 0.9764 - val_loss: 1.1689 - val_accuracy: 0.7697\n"
          ],
          "name": "stdout"
        }
      ]
    },
    {
      "cell_type": "code",
      "metadata": {
        "colab": {
          "base_uri": "https://localhost:8080/"
        },
        "id": "tzIrhYQxwVtC",
        "outputId": "f094e39d-7546-459e-8d44-f43f1bbfac91"
      },
      "source": [
        "#L2\n",
        "from keras import regularizers\n",
        "regv = 0.0001\n",
        "model = Sequential()\n",
        "model.add(Conv2D(32, (3, 3), activation='relu', padding='same', input_shape=(32,32,3), kernel_regularizer=regularizers.l2(regv)))\n",
        "model.add(Conv2D(64, (3, 3), activation='relu', padding='same', kernel_regularizer=regularizers.l2(regv)))\n",
        "model.add(MaxPooling2D((2, 2)))\n",
        "model.add(Conv2D(128, (3, 3), activation='relu', padding='same', kernel_regularizer=regularizers.l2(regv)))\n",
        "model.add(Conv2D(256, (3, 3), activation='relu', padding='same', kernel_regularizer=regularizers.l2(regv)))\n",
        "model.add(MaxPooling2D((2, 2)))\n",
        "model.add(Flatten())\n",
        "model.add(Dense(256, activation='relu', kernel_regularizer=regularizers.l2(regv)))\n",
        "model.add(Dense(10, activation='softmax', kernel_regularizer=regularizers.l2(regv)))\n",
        "model.compile(optimizer='sgd', loss='categorical_crossentropy', metrics=['accuracy'])\n",
        "model.summary()"
      ],
      "execution_count": null,
      "outputs": [
        {
          "output_type": "stream",
          "text": [
            "Model: \"sequential_51\"\n",
            "_________________________________________________________________\n",
            "Layer (type)                 Output Shape              Param #   \n",
            "=================================================================\n",
            "conv2d_87 (Conv2D)           (None, 32, 32, 32)        896       \n",
            "_________________________________________________________________\n",
            "conv2d_88 (Conv2D)           (None, 32, 32, 64)        18496     \n",
            "_________________________________________________________________\n",
            "max_pooling2d_44 (MaxPooling (None, 16, 16, 64)        0         \n",
            "_________________________________________________________________\n",
            "conv2d_89 (Conv2D)           (None, 16, 16, 128)       73856     \n",
            "_________________________________________________________________\n",
            "conv2d_90 (Conv2D)           (None, 16, 16, 256)       295168    \n",
            "_________________________________________________________________\n",
            "max_pooling2d_45 (MaxPooling (None, 8, 8, 256)         0         \n",
            "_________________________________________________________________\n",
            "flatten_21 (Flatten)         (None, 16384)             0         \n",
            "_________________________________________________________________\n",
            "dense_176 (Dense)            (None, 256)               4194560   \n",
            "_________________________________________________________________\n",
            "dense_177 (Dense)            (None, 10)                2570      \n",
            "=================================================================\n",
            "Total params: 4,585,546\n",
            "Trainable params: 4,585,546\n",
            "Non-trainable params: 0\n",
            "_________________________________________________________________\n"
          ],
          "name": "stdout"
        }
      ]
    },
    {
      "cell_type": "code",
      "metadata": {
        "colab": {
          "base_uri": "https://localhost:8080/"
        },
        "id": "C-k9Thf1wVtC",
        "outputId": "01910301-2c09-4e2f-9d29-968f15a7a8b2"
      },
      "source": [
        "model.compile(loss='categorical_crossentropy', optimizer='adam', metrics=['accuracy'])\n",
        "\n",
        "trained_model_5d = model.fit(X_train, Y_train, epochs=epochs, batch_size=batch_size, validation_data=(X_test, Y_test))"
      ],
      "execution_count": null,
      "outputs": [
        {
          "output_type": "stream",
          "text": [
            "Epoch 1/10\n",
            "  1/391 [..............................] - ETA: 7s - loss: 2.3847 - accuracy: 0.0859WARNING:tensorflow:Callbacks method `on_train_batch_end` is slow compared to the batch time (batch time: 0.0112s vs `on_train_batch_end` time: 0.0183s). Check your callbacks.\n",
            "391/391 [==============================] - 9s 23ms/step - loss: 1.4620 - accuracy: 0.4893 - val_loss: 1.1412 - val_accuracy: 0.6101\n",
            "Epoch 2/10\n",
            "391/391 [==============================] - 9s 22ms/step - loss: 0.9638 - accuracy: 0.6862 - val_loss: 0.9117 - val_accuracy: 0.7107\n",
            "Epoch 3/10\n",
            "391/391 [==============================] - 8s 22ms/step - loss: 0.8070 - accuracy: 0.7496 - val_loss: 0.8750 - val_accuracy: 0.7275\n",
            "Epoch 4/10\n",
            "391/391 [==============================] - 9s 22ms/step - loss: 0.6991 - accuracy: 0.7952 - val_loss: 0.7946 - val_accuracy: 0.7629\n",
            "Epoch 5/10\n",
            "391/391 [==============================] - 9s 22ms/step - loss: 0.6053 - accuracy: 0.8339 - val_loss: 0.8107 - val_accuracy: 0.7720\n",
            "Epoch 6/10\n",
            "391/391 [==============================] - 9s 22ms/step - loss: 0.5282 - accuracy: 0.8677 - val_loss: 0.8471 - val_accuracy: 0.7709\n",
            "Epoch 7/10\n",
            "391/391 [==============================] - 9s 22ms/step - loss: 0.4653 - accuracy: 0.8963 - val_loss: 0.9107 - val_accuracy: 0.7695\n",
            "Epoch 8/10\n",
            "391/391 [==============================] - 9s 22ms/step - loss: 0.4015 - accuracy: 0.9240 - val_loss: 1.0879 - val_accuracy: 0.7610\n",
            "Epoch 9/10\n",
            "391/391 [==============================] - 9s 22ms/step - loss: 0.3665 - accuracy: 0.9414 - val_loss: 1.0762 - val_accuracy: 0.7635\n",
            "Epoch 10/10\n",
            "391/391 [==============================] - 9s 22ms/step - loss: 0.3380 - accuracy: 0.9538 - val_loss: 1.0928 - val_accuracy: 0.7783\n"
          ],
          "name": "stdout"
        }
      ]
    },
    {
      "cell_type": "code",
      "metadata": {
        "colab": {
          "base_uri": "https://localhost:8080/"
        },
        "id": "rdagfmuQwVtC",
        "outputId": "823bb7a2-5b97-47e6-c3da-59152aceb9a0"
      },
      "source": [
        "## dropout\n",
        "\n",
        "from keras.layers.core import Dropout\n",
        "model = Sequential()\n",
        "model.add(Conv2D(32, (3, 3), activation='relu', padding='same', input_shape=(32,32,3)))\n",
        "model.add(Conv2D(64, (3, 3), activation='relu', padding='same'))\n",
        "model.add(MaxPooling2D((2, 2)))\n",
        "model.add(Conv2D(128, (3, 3), activation='relu', padding='same'))\n",
        "model.add(Conv2D(256, (3, 3), activation='relu', padding='same'))\n",
        "model.add(MaxPooling2D((2, 2)))\n",
        "model.add(Flatten())\n",
        "model.add(Dense(256, activation='relu'))\n",
        "model.add(Dropout(0.5))\n",
        "model.add(Dense(10, activation='softmax'))\n",
        "model.compile(optimizer='sgd', loss='categorical_crossentropy', metrics=['accuracy'])\n",
        "model.summary()"
      ],
      "execution_count": null,
      "outputs": [
        {
          "output_type": "stream",
          "text": [
            "Model: \"sequential_53\"\n",
            "_________________________________________________________________\n",
            "Layer (type)                 Output Shape              Param #   \n",
            "=================================================================\n",
            "conv2d_95 (Conv2D)           (None, 32, 32, 32)        896       \n",
            "_________________________________________________________________\n",
            "conv2d_96 (Conv2D)           (None, 32, 32, 64)        18496     \n",
            "_________________________________________________________________\n",
            "max_pooling2d_48 (MaxPooling (None, 16, 16, 64)        0         \n",
            "_________________________________________________________________\n",
            "conv2d_97 (Conv2D)           (None, 16, 16, 128)       73856     \n",
            "_________________________________________________________________\n",
            "conv2d_98 (Conv2D)           (None, 16, 16, 256)       295168    \n",
            "_________________________________________________________________\n",
            "max_pooling2d_49 (MaxPooling (None, 8, 8, 256)         0         \n",
            "_________________________________________________________________\n",
            "flatten_23 (Flatten)         (None, 16384)             0         \n",
            "_________________________________________________________________\n",
            "dense_180 (Dense)            (None, 256)               4194560   \n",
            "_________________________________________________________________\n",
            "dropout_25 (Dropout)         (None, 256)               0         \n",
            "_________________________________________________________________\n",
            "dense_181 (Dense)            (None, 10)                2570      \n",
            "=================================================================\n",
            "Total params: 4,585,546\n",
            "Trainable params: 4,585,546\n",
            "Non-trainable params: 0\n",
            "_________________________________________________________________\n"
          ],
          "name": "stdout"
        }
      ]
    },
    {
      "cell_type": "code",
      "metadata": {
        "colab": {
          "base_uri": "https://localhost:8080/"
        },
        "id": "ZDswp-LNwVtC",
        "outputId": "4ceb7318-c053-4bb7-9804-529395f64e58"
      },
      "source": [
        "model.compile(loss='categorical_crossentropy', optimizer='adam', metrics=['accuracy'])\n",
        "trained_model_5d = model.fit(X_train, Y_train, epochs=epochs, batch_size=batch_size, validation_data=(X_test, Y_test))"
      ],
      "execution_count": null,
      "outputs": [
        {
          "output_type": "stream",
          "text": [
            "Epoch 1/10\n",
            "391/391 [==============================] - 9s 22ms/step - loss: 1.5898 - accuracy: 0.4213 - val_loss: 1.1355 - val_accuracy: 0.5962\n",
            "Epoch 2/10\n",
            "391/391 [==============================] - 8s 22ms/step - loss: 1.1178 - accuracy: 0.6036 - val_loss: 0.9252 - val_accuracy: 0.6774\n",
            "Epoch 3/10\n",
            "391/391 [==============================] - 8s 22ms/step - loss: 0.9088 - accuracy: 0.6821 - val_loss: 0.8005 - val_accuracy: 0.7259\n",
            "Epoch 4/10\n",
            "391/391 [==============================] - 8s 22ms/step - loss: 0.7703 - accuracy: 0.7321 - val_loss: 0.7195 - val_accuracy: 0.7503\n",
            "Epoch 5/10\n",
            "391/391 [==============================] - 8s 22ms/step - loss: 0.6656 - accuracy: 0.7677 - val_loss: 0.6893 - val_accuracy: 0.7590\n",
            "Epoch 6/10\n",
            "391/391 [==============================] - 8s 22ms/step - loss: 0.5816 - accuracy: 0.7965 - val_loss: 0.6496 - val_accuracy: 0.7793\n",
            "Epoch 7/10\n",
            "391/391 [==============================] - 8s 22ms/step - loss: 0.5045 - accuracy: 0.8215 - val_loss: 0.6621 - val_accuracy: 0.7756\n",
            "Epoch 8/10\n",
            "391/391 [==============================] - 8s 22ms/step - loss: 0.4332 - accuracy: 0.8462 - val_loss: 0.6555 - val_accuracy: 0.7834\n",
            "Epoch 9/10\n",
            "391/391 [==============================] - 8s 22ms/step - loss: 0.3736 - accuracy: 0.8678 - val_loss: 0.6761 - val_accuracy: 0.7893\n",
            "Epoch 10/10\n",
            "391/391 [==============================] - 8s 22ms/step - loss: 0.3313 - accuracy: 0.8817 - val_loss: 0.7116 - val_accuracy: 0.7851\n"
          ],
          "name": "stdout"
        }
      ]
    },
    {
      "cell_type": "code",
      "metadata": {
        "colab": {
          "base_uri": "https://localhost:8080/"
        },
        "id": "cRc0IznQ41t1",
        "outputId": "6c2e9882-2949-4e59-9213-5cac27304416"
      },
      "source": [
        "## Batchnorm\n",
        "\n",
        "from tensorflow.keras.layers import BatchNormalization\n",
        "model = Sequential()\n",
        "model.add(Conv2D(32, (3, 3), activation='relu', padding='same', input_shape=(32,32,3)))\n",
        "model.add(BatchNormalization())\n",
        "model.add(Conv2D(64, (3, 3), activation='relu', padding='same'))\n",
        "model.add(BatchNormalization())\n",
        "model.add(MaxPooling2D((2, 2)))\n",
        "model.add(Conv2D(128, (3, 3), activation='relu', padding='same'))\n",
        "model.add(BatchNormalization())\n",
        "model.add(Conv2D(256, (3, 3), activation='relu', padding='same'))\n",
        "model.add(BatchNormalization())\n",
        "model.add(MaxPooling2D((2, 2)))\n",
        "model.add(Flatten())\n",
        "model.add(Dense(256, activation='relu'))\n",
        "model.add(Dropout(0.5))\n",
        "model.add(BatchNormalization())\n",
        "model.add(Dense(10, activation='softmax'))\n",
        "model.compile(optimizer='sgd', loss='categorical_crossentropy', metrics=['accuracy'])\n",
        "model.summary()"
      ],
      "execution_count": null,
      "outputs": [
        {
          "output_type": "stream",
          "text": [
            "Model: \"sequential_59\"\n",
            "_________________________________________________________________\n",
            "Layer (type)                 Output Shape              Param #   \n",
            "=================================================================\n",
            "conv2d_119 (Conv2D)          (None, 32, 32, 32)        896       \n",
            "_________________________________________________________________\n",
            "batch_normalization_47 (Batc (None, 32, 32, 32)        128       \n",
            "_________________________________________________________________\n",
            "conv2d_120 (Conv2D)          (None, 32, 32, 64)        18496     \n",
            "_________________________________________________________________\n",
            "batch_normalization_48 (Batc (None, 32, 32, 64)        256       \n",
            "_________________________________________________________________\n",
            "max_pooling2d_60 (MaxPooling (None, 16, 16, 64)        0         \n",
            "_________________________________________________________________\n",
            "conv2d_121 (Conv2D)          (None, 16, 16, 128)       73856     \n",
            "_________________________________________________________________\n",
            "batch_normalization_49 (Batc (None, 16, 16, 128)       512       \n",
            "_________________________________________________________________\n",
            "conv2d_122 (Conv2D)          (None, 16, 16, 256)       295168    \n",
            "_________________________________________________________________\n",
            "batch_normalization_50 (Batc (None, 16, 16, 256)       1024      \n",
            "_________________________________________________________________\n",
            "max_pooling2d_61 (MaxPooling (None, 8, 8, 256)         0         \n",
            "_________________________________________________________________\n",
            "flatten_29 (Flatten)         (None, 16384)             0         \n",
            "_________________________________________________________________\n",
            "dense_190 (Dense)            (None, 256)               4194560   \n",
            "_________________________________________________________________\n",
            "dropout_27 (Dropout)         (None, 256)               0         \n",
            "_________________________________________________________________\n",
            "batch_normalization_51 (Batc (None, 256)               1024      \n",
            "_________________________________________________________________\n",
            "dense_191 (Dense)            (None, 10)                2570      \n",
            "=================================================================\n",
            "Total params: 4,588,490\n",
            "Trainable params: 4,587,018\n",
            "Non-trainable params: 1,472\n",
            "_________________________________________________________________\n"
          ],
          "name": "stdout"
        }
      ]
    },
    {
      "cell_type": "code",
      "metadata": {
        "colab": {
          "base_uri": "https://localhost:8080/"
        },
        "id": "y6x6VPx746ZL",
        "outputId": "a01f91c6-7e34-46da-b41f-603a90ca5f8d"
      },
      "source": [
        "model.compile(loss='categorical_crossentropy', optimizer='adam', metrics=['accuracy'])\n",
        "trained_model_5d = model.fit(X_train, Y_train, epochs=epochs, batch_size=batch_size, validation_data=(X_test, Y_test))"
      ],
      "execution_count": null,
      "outputs": [
        {
          "output_type": "stream",
          "text": [
            "Epoch 1/10\n",
            "  1/391 [..............................] - ETA: 7s - loss: 3.0405 - accuracy: 0.1094WARNING:tensorflow:Callbacks method `on_train_batch_end` is slow compared to the batch time (batch time: 0.0132s vs `on_train_batch_end` time: 0.0202s). Check your callbacks.\n",
            "391/391 [==============================] - 10s 26ms/step - loss: 1.2841 - accuracy: 0.5497 - val_loss: 2.4407 - val_accuracy: 0.2083\n",
            "Epoch 2/10\n",
            "391/391 [==============================] - 10s 25ms/step - loss: 0.8236 - accuracy: 0.7127 - val_loss: 0.9078 - val_accuracy: 0.6881\n",
            "Epoch 3/10\n",
            "391/391 [==============================] - 10s 25ms/step - loss: 0.6409 - accuracy: 0.7785 - val_loss: 0.7143 - val_accuracy: 0.7491\n",
            "Epoch 4/10\n",
            "391/391 [==============================] - 10s 25ms/step - loss: 0.4893 - accuracy: 0.8321 - val_loss: 0.6650 - val_accuracy: 0.7752\n",
            "Epoch 5/10\n",
            "391/391 [==============================] - 10s 25ms/step - loss: 0.3686 - accuracy: 0.8740 - val_loss: 0.6601 - val_accuracy: 0.7832\n",
            "Epoch 6/10\n",
            "391/391 [==============================] - 10s 25ms/step - loss: 0.2685 - accuracy: 0.9072 - val_loss: 0.7502 - val_accuracy: 0.7698\n",
            "Epoch 7/10\n",
            "391/391 [==============================] - 10s 25ms/step - loss: 0.2211 - accuracy: 0.9248 - val_loss: 0.6035 - val_accuracy: 0.8126\n",
            "Epoch 8/10\n",
            "391/391 [==============================] - 10s 25ms/step - loss: 0.1509 - accuracy: 0.9495 - val_loss: 0.7691 - val_accuracy: 0.7938\n",
            "Epoch 9/10\n",
            "391/391 [==============================] - 10s 25ms/step - loss: 0.1164 - accuracy: 0.9604 - val_loss: 0.6642 - val_accuracy: 0.8153\n",
            "Epoch 10/10\n",
            "391/391 [==============================] - 10s 25ms/step - loss: 0.0931 - accuracy: 0.9690 - val_loss: 0.7431 - val_accuracy: 0.8168\n"
          ],
          "name": "stdout"
        }
      ]
    },
    {
      "cell_type": "code",
      "metadata": {
        "colab": {
          "base_uri": "https://localhost:8080/"
        },
        "id": "BgJLZi9KG6NZ",
        "outputId": "babbff95-2e3e-4442-f5e0-22bb858bdc43"
      },
      "source": [
        "from tensorflow.keras.layers import BatchNormalization\n",
        "model = Sequential()\n",
        "model.add(Conv2D(32, (3, 3), activation='relu', padding='same', input_shape=(32,32,3)))\n",
        "model.add(BatchNormalization())\n",
        "model.add(Conv2D(64, (3, 3), activation='relu', padding='same'))\n",
        "model.add(BatchNormalization())\n",
        "model.add(MaxPooling2D((2, 2)))\n",
        "model.add(Conv2D(128, (3, 3), activation='relu', padding='same'))\n",
        "model.add(BatchNormalization())\n",
        "model.add(Conv2D(256, (3, 3), activation='relu', padding='same'))\n",
        "model.add(BatchNormalization())\n",
        "model.add(MaxPooling2D((2, 2)))\n",
        "model.add(Flatten())\n",
        "model.add(Dense(256, activation='relu'))\n",
        "model.add(Dropout(0.4))\n",
        "model.add(BatchNormalization())\n",
        "model.add(Dense(10, activation='softmax'))\n",
        "model.compile(optimizer='sgd', loss='categorical_crossentropy', metrics=['accuracy'])\n",
        "model.summary()"
      ],
      "execution_count": null,
      "outputs": [
        {
          "output_type": "stream",
          "text": [
            "Model: \"sequential_66\"\n",
            "_________________________________________________________________\n",
            "Layer (type)                 Output Shape              Param #   \n",
            "=================================================================\n",
            "conv2d_147 (Conv2D)          (None, 32, 32, 32)        896       \n",
            "_________________________________________________________________\n",
            "batch_normalization_82 (Batc (None, 32, 32, 32)        128       \n",
            "_________________________________________________________________\n",
            "conv2d_148 (Conv2D)          (None, 32, 32, 64)        18496     \n",
            "_________________________________________________________________\n",
            "batch_normalization_83 (Batc (None, 32, 32, 64)        256       \n",
            "_________________________________________________________________\n",
            "max_pooling2d_74 (MaxPooling (None, 16, 16, 64)        0         \n",
            "_________________________________________________________________\n",
            "conv2d_149 (Conv2D)          (None, 16, 16, 128)       73856     \n",
            "_________________________________________________________________\n",
            "batch_normalization_84 (Batc (None, 16, 16, 128)       512       \n",
            "_________________________________________________________________\n",
            "conv2d_150 (Conv2D)          (None, 16, 16, 256)       295168    \n",
            "_________________________________________________________________\n",
            "batch_normalization_85 (Batc (None, 16, 16, 256)       1024      \n",
            "_________________________________________________________________\n",
            "max_pooling2d_75 (MaxPooling (None, 8, 8, 256)         0         \n",
            "_________________________________________________________________\n",
            "flatten_36 (Flatten)         (None, 16384)             0         \n",
            "_________________________________________________________________\n",
            "dense_204 (Dense)            (None, 256)               4194560   \n",
            "_________________________________________________________________\n",
            "dropout_32 (Dropout)         (None, 256)               0         \n",
            "_________________________________________________________________\n",
            "batch_normalization_86 (Batc (None, 256)               1024      \n",
            "_________________________________________________________________\n",
            "dense_205 (Dense)            (None, 10)                2570      \n",
            "=================================================================\n",
            "Total params: 4,588,490\n",
            "Trainable params: 4,587,018\n",
            "Non-trainable params: 1,472\n",
            "_________________________________________________________________\n"
          ],
          "name": "stdout"
        }
      ]
    },
    {
      "cell_type": "code",
      "metadata": {
        "id": "g835MRTRGEKn"
      },
      "source": [
        "from tensorflow.keras.preprocessing.image import ImageDataGenerator\n",
        "aug = ImageDataGenerator(\n",
        "\t\thorizontal_flip=True\n",
        "    )\n"
      ],
      "execution_count": null,
      "outputs": []
    },
    {
      "cell_type": "code",
      "metadata": {
        "colab": {
          "base_uri": "https://localhost:8080/"
        },
        "id": "FjAhtnvKGVSZ",
        "outputId": "36c52b73-cfb5-41b0-acb8-8ec0ad818287"
      },
      "source": [
        "model.fit(\n",
        "\tx=aug.flow(X_train, Y_train, batch_size=batch_size),\n",
        "\tvalidation_data=(X_test, Y_test),\n",
        "\tsteps_per_epoch=len(X_train) // batch_size,\n",
        "\tepochs=epochs)"
      ],
      "execution_count": null,
      "outputs": [
        {
          "output_type": "stream",
          "text": [
            "Epoch 1/10\n",
            "390/390 [==============================] - 11s 28ms/step - loss: 1.5783 - accuracy: 0.4596 - val_loss: 1.9073 - val_accuracy: 0.3537\n",
            "Epoch 2/10\n",
            "390/390 [==============================] - 11s 27ms/step - loss: 1.1662 - accuracy: 0.5901 - val_loss: 1.1107 - val_accuracy: 0.6183\n",
            "Epoch 3/10\n",
            "390/390 [==============================] - 11s 27ms/step - loss: 0.9804 - accuracy: 0.6589 - val_loss: 0.9422 - val_accuracy: 0.6661\n",
            "Epoch 4/10\n",
            "390/390 [==============================] - 11s 27ms/step - loss: 0.8791 - accuracy: 0.6937 - val_loss: 0.8718 - val_accuracy: 0.6969\n",
            "Epoch 5/10\n",
            "390/390 [==============================] - 11s 27ms/step - loss: 0.8071 - accuracy: 0.7205 - val_loss: 0.8611 - val_accuracy: 0.7044\n",
            "Epoch 6/10\n",
            "390/390 [==============================] - 11s 27ms/step - loss: 0.7469 - accuracy: 0.7411 - val_loss: 0.8203 - val_accuracy: 0.7167\n",
            "Epoch 7/10\n",
            "390/390 [==============================] - 11s 27ms/step - loss: 0.6991 - accuracy: 0.7574 - val_loss: 0.7348 - val_accuracy: 0.7457\n",
            "Epoch 8/10\n",
            "390/390 [==============================] - 11s 27ms/step - loss: 0.6603 - accuracy: 0.7708 - val_loss: 0.7173 - val_accuracy: 0.7511\n",
            "Epoch 9/10\n",
            "390/390 [==============================] - 11s 28ms/step - loss: 0.6229 - accuracy: 0.7841 - val_loss: 0.7459 - val_accuracy: 0.7441\n",
            "Epoch 10/10\n",
            "390/390 [==============================] - 11s 28ms/step - loss: 0.5903 - accuracy: 0.7960 - val_loss: 0.6733 - val_accuracy: 0.7649\n"
          ],
          "name": "stdout"
        },
        {
          "output_type": "execute_result",
          "data": {
            "text/plain": [
              "<tensorflow.python.keras.callbacks.History at 0x7f9cf455e978>"
            ]
          },
          "metadata": {
            "tags": []
          },
          "execution_count": 203
        }
      ]
    }
  ]
}